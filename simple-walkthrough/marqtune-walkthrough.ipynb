{
  "nbformat": 4,
  "nbformat_minor": 0,
  "metadata": {
    "colab": {
      "provenance": [],
      "gpuType": "T4"
    },
    "kernelspec": {
      "name": "python3",
      "display_name": "Python 3"
    },
    "language_info": {
      "name": "python"
    },
    "accelerator": "GPU"
  },
  "cells": [
    {
      "cell_type": "markdown",
      "source": [
        "# **Getting Started with Marqtune - A Guided Walkthrough**"
      ],
      "metadata": {
        "id": "dm44RZLWSBm9"
      }
    },
    {
      "cell_type": "markdown",
      "source": [
        "This notebook contains information on how to get up and running with Marqtune, the embedding model training platform. We have an in-depth [article](https://marqo.ai/blog/getting-started-with-marqtune) to accompany this walkthrough which we highly recommend reading."
      ],
      "metadata": {
        "id": "6E6bjsFcSalc"
      }
    },
    {
      "cell_type": "markdown",
      "source": [
        "This guide will walk you through the process of fine tuning a model based on a base open clip model using a multi-modal training dataset. We will then evaluate the performance of the tuned model and compare it with an equivalent evaluation of the base model to demonstrate an improvement in performance. This tuned model can subsequently be used in a [Marqo index](https://cloud.marqo.ai/) to provide more relevant results for queries."
      ],
      "metadata": {
        "id": "TI6Aa-ADSsau"
      }
    },
    {
      "cell_type": "markdown",
      "source": [
        "Let's get stuck in!"
      ],
      "metadata": {
        "id": "m9PHXEh3S1lx"
      }
    },
    {
      "cell_type": "markdown",
      "source": [
        "### **1. Set Up and Installation**"
      ],
      "metadata": {
        "id": "v8A7HbZdVFnM"
      }
    },
    {
      "cell_type": "markdown",
      "source": [
        "To use Marqtune you will need the Marqtune Python client. You can install this using pip:"
      ],
      "metadata": {
        "id": "peEViJXfYd98"
      }
    },
    {
      "cell_type": "code",
      "source": [
        "!pip install marqtune"
      ],
      "metadata": {
        "id": "tulkcLIAYZIv",
        "colab": {
          "base_uri": "https://localhost:8080/"
        },
        "outputId": "7b119663-358d-4661-839b-1fac03127a09"
      },
      "execution_count": 1,
      "outputs": [
        {
          "output_type": "stream",
          "name": "stdout",
          "text": [
            "Collecting marqtune\n",
            "  Downloading marqtune-0.2.2-py3-none-any.whl.metadata (5.8 kB)\n",
            "Requirement already satisfied: requests in /usr/local/lib/python3.10/dist-packages (from marqtune) (2.32.3)\n",
            "Requirement already satisfied: urllib3 in /usr/local/lib/python3.10/dist-packages (from marqtune) (2.0.7)\n",
            "Requirement already satisfied: charset-normalizer<4,>=2 in /usr/local/lib/python3.10/dist-packages (from requests->marqtune) (3.3.2)\n",
            "Requirement already satisfied: idna<4,>=2.5 in /usr/local/lib/python3.10/dist-packages (from requests->marqtune) (3.10)\n",
            "Requirement already satisfied: certifi>=2017.4.17 in /usr/local/lib/python3.10/dist-packages (from requests->marqtune) (2024.8.30)\n",
            "Downloading marqtune-0.2.2-py3-none-any.whl (10 kB)\n",
            "Installing collected packages: marqtune\n",
            "Successfully installed marqtune-0.2.2\n"
          ]
        }
      ]
    },
    {
      "cell_type": "markdown",
      "source": [
        "Next, you will need a Marqo API key with access to Marqtune. To obtain this, sign in to your Marqo Cloud and navigate to the API keys section and create your own. For more information on obtaining your Marqo API Key, see this [article](https://marqo.ai/blog/finding-my-marqo-api-key)."
      ],
      "metadata": {
        "id": "rYOfmkwxYgjE"
      }
    },
    {
      "cell_type": "markdown",
      "source": [
        "We are using Google Colab so we will take advantage of 'Secrets' which allows you to store environment variables privately. Navigate to the 'key' logo on the lefthand side navigation bar and store your API key there."
      ],
      "metadata": {
        "id": "Onxy8N_XTTbp"
      }
    },
    {
      "cell_type": "code",
      "execution_count": 2,
      "metadata": {
        "id": "KpF4OkS0WaUN"
      },
      "outputs": [],
      "source": [
        "# Store Marqo API Key using Secrets in Google Colab\n",
        "from google.colab import userdata\n",
        "api_key = userdata.get('MARQO_API_KEY')   # alternatively, api_key = \"...\""
      ]
    },
    {
      "cell_type": "markdown",
      "source": [
        "### **2. Initializing the Client**"
      ],
      "metadata": {
        "id": "u_1P1iFeVMBq"
      }
    },
    {
      "cell_type": "markdown",
      "source": [
        "We now make the necessary imports and setup the Marqtune Python client."
      ],
      "metadata": {
        "id": "w51ksgRiTxoW"
      }
    },
    {
      "cell_type": "code",
      "source": [
        "from marqtune.client import Client\n",
        "from marqtune.enums import DatasetType, InstanceType\n",
        "from urllib.request import urlopen\n",
        "import gzip\n",
        "import json\n",
        "import uuid\n",
        "import os\n",
        "\n",
        "# Suffix is used just to make the dataset and model names unique\n",
        "suffix = str(uuid.uuid4())[:8]\n",
        "print(f\"Using suffix={suffix} for this walkthrough\")\n",
        "\n",
        "# Set up Marqtune Client\n",
        "marqtune_client = Client(url=\"https://marqtune.marqo.ai\", api_key=api_key)"
      ],
      "metadata": {
        "colab": {
          "base_uri": "https://localhost:8080/"
        },
        "id": "EuCWtCSJaiPJ",
        "outputId": "6be2da44-1f29-497b-cf63-606ca846c563"
      },
      "execution_count": 3,
      "outputs": [
        {
          "output_type": "stream",
          "name": "stdout",
          "text": [
            "Using suffix=84cb4117 for this walkthrough\n"
          ]
        }
      ]
    },
    {
      "cell_type": "markdown",
      "source": [
        "To see the results of datasets and other resources generated in this walkthrough in the Marqtune UI, please refer to our [article](https://marqo.ai/blog/getting-started-with-marqtune)."
      ],
      "metadata": {
        "id": "emjvdzwdUAnr"
      }
    },
    {
      "cell_type": "markdown",
      "source": [
        "### **3. Dataset Creation**"
      ],
      "metadata": {
        "id": "59fAt0jMVQ7h"
      }
    },
    {
      "cell_type": "markdown",
      "source": [
        "We will now create two datasets, one for training and another for evaluation. The datasets will be sourced from a couple of CSV files. The data in these CSV files consists of shopping data generated from a subset of `Marqo-GS-10M` which is described in more detail in our [open-source GCL repository](https://github.com/marqo-ai/GCL).\n",
        "\n",
        "Both CSV files have the same format; however, the first one is larger (100,000 rows) which we will use for training a model, the second is smaller (25,000 rows) which we will use for model evaluation.\n",
        "\n",
        "The datasets are multi-modal, consisting of both text and images. The images are represented by URLs that Marqtune will use to download.\n",
        "\n",
        "Let’s begin by downloading these data files:"
      ],
      "metadata": {
        "id": "WamVMuZkUNS8"
      }
    },
    {
      "cell_type": "code",
      "source": [
        "print(\"Downloading data files:\")\n",
        "base_path = (\n",
        "    \"https://marqo-gcl-public.s3.us-west-2.amazonaws.com/marqtune_test/datasets/v1\"\n",
        ")\n",
        "training_data = \"gs_100k_training.csv\"\n",
        "eval_data = \"gs_25k_eval.csv\"\n",
        "open(training_data, \"w\").write(\n",
        "    gzip.open(urlopen(f\"{base_path}/{training_data}.gz\"), \"rb\").read().decode(\"utf-8\")\n",
        ")\n",
        "open(eval_data, \"w\").write(\n",
        "    gzip.open(urlopen(f\"{base_path}/{eval_data}.gz\"), \"rb\").read().decode(\"utf-8\")\n",
        ")"
      ],
      "metadata": {
        "id": "BPwOAXRfXfZh",
        "colab": {
          "base_uri": "https://localhost:8080/"
        },
        "outputId": "3abf2e2e-1301-428b-c159-9d934dc188c7"
      },
      "execution_count": 4,
      "outputs": [
        {
          "output_type": "stream",
          "name": "stdout",
          "text": [
            "Downloading data files:\n"
          ]
        },
        {
          "output_type": "execute_result",
          "data": {
            "text/plain": [
              "5079946"
            ]
          },
          "metadata": {},
          "execution_count": 4
        }
      ]
    },
    {
      "cell_type": "markdown",
      "source": [
        "We now want to create datasets in Marqtune. In order to do this, we need to identify the columns in the CSVs as well as their types by defining a data schema. We will reuse the same data schema for both training and evaluation datasets though this is not strictly necessary."
      ],
      "metadata": {
        "id": "nyHM1Wg7USqf"
      }
    },
    {
      "cell_type": "code",
      "source": [
        "data_schema = {\n",
        "    \"query\": \"text\",\n",
        "    \"title\": \"text\",\n",
        "    \"image\": \"image_pointer\",\n",
        "    \"score\": \"score\",\n",
        "}"
      ],
      "metadata": {
        "collapsed": true,
        "id": "m5NUJxoEaxae"
      },
      "execution_count": 5,
      "outputs": []
    },
    {
      "cell_type": "markdown",
      "source": [
        "After defining the data schema we can then create the two datasets. Note that creating a dataset takes a few minutes to complete as it accomplishes a few steps:\n",
        "\n",
        "1. The CSV file has to be uploaded\n",
        "2. Some simple validations have to pass (e.g. the data schema needs to be validated against each row in the CSV input)\n",
        "3. The URLs in the `image_pointer` columns are used to download the image files to the dataset"
      ],
      "metadata": {
        "id": "ZThOaQKDUTRq"
      }
    },
    {
      "cell_type": "code",
      "source": [
        "# Create the training dataset.\n",
        "training_dataset_name = f\"{training_data}-{suffix}\"\n",
        "print(f\"Creating training dataset ({training_dataset_name}):\")\n",
        "training_dataset = marqtune_client.create_dataset(\n",
        "    dataset_name=training_dataset_name,\n",
        "    file_path=training_data,\n",
        "    dataset_type=DatasetType.TRAINING,\n",
        "    data_schema=data_schema,\n",
        "    query_columns=[\"query\"],\n",
        "    result_columns=[\"title\", \"image\"],\n",
        "    # setting wait_for_completion=True will make this a blocking call and will also print logs interactively\n",
        "    wait_for_completion=True,\n",
        ")"
      ],
      "metadata": {
        "colab": {
          "base_uri": "https://localhost:8080/"
        },
        "collapsed": true,
        "id": "06y8vNWVwBrm",
        "outputId": "14272474-2565-46a5-f272-fc7459056123"
      },
      "execution_count": 6,
      "outputs": [
        {
          "output_type": "stream",
          "name": "stdout",
          "text": [
            "Creating training dataset (gs_100k_training.csv-84cb4117):\n",
            "Dataset was initialised. Dataset ID: cbf78d2f-c7f4-49f5-bbce-52938402059f\n",
            "Attempting to upload file...\n",
            "File uploaded successfully. Job will start soon\n",
            "Uploading.\n",
            "Creating: Provisioning..\n",
            "Creating: Running\n",
            "2024-09-19 07:28:53,186 - INFO - Initialising task\n",
            "2024-09-19 07:28:53,256 - INFO - Downloading files for task cbf78d2f-c7f4-49f5-bbce-52938402059f\n",
            "2024-09-19 07:28:53,617 - INFO - File download is completed\n",
            "2024-09-19 07:28:53,619 - INFO - Preparing dataset with {'input_file': 'dataset/cbf78d2f-c7f4-49f5-bbce-52938402059f/dataset.csv', 'data_schema': {'query': 'text', 'title': 'text', 'image': 'image_pointer', 'score': 'score'}, 'output_path': 'cbf78d2f-c7f4-49f5-bbce-52938402059f', 'dataset_type': 'training', 'result_columns': None, 'image_download_headers': None, 'logger': <Logger __main__ (DEBUG)>, 'metrics_collector': <clients.cw_client.CWClient object at 0xffff6ff8b710>}\n",
            "2024-09-19 07:28:53,944 - INFO - Total rows after cleaning up dataset: 100000, rows dropped: 0\n",
            "2024-09-19 07:28:53,945 - INFO - Initiating file processing. It will validate every row and download images. Please wait, this process may take a while.\n",
            "2024-09-19 07:28:53,969 - INFO - Image download started for 96243 images.\n",
            "2024-09-19 07:29:09,657 - INFO - Downloaded 1924/96243(2.0%) images - Elapsed time: 00:00:15, Estimated total time: 00:13:05, Estimated time left: 00:12:50\n",
            "2024-09-19 07:29:11,635 - INFO - Downloaded 3848/96243(4.0%) images - Elapsed time: 00:00:17, Estimated total time: 00:07:22, Estimated time left: 00:07:04\n",
            "2024-09-19 07:29:13,616 - INFO - Downloaded 5772/96243(6.0%) images - Elapsed time: 00:00:19, Estimated total time: 00:05:27, Estimated time left: 00:05:08\n",
            "2024-09-19 07:29:15,563 - INFO - Downloaded 7696/96243(8.0%) images - Elapsed time: 00:00:21, Estimated total time: 00:04:30, Estimated time left: 00:04:08\n",
            "2024-09-19 07:29:17,529 - INFO - Downloaded 9620/96243(10.0%) images - Elapsed time: 00:00:23, Estimated total time: 00:03:55, Estimated time left: 00:03:32\n",
            "2024-09-19 07:29:19,664 - INFO - Downloaded 11544/96243(12.0%) images - Elapsed time: 00:00:25, Estimated total time: 00:03:34, Estimated time left: 00:03:08\n",
            "2024-09-19 07:29:21,610 - INFO - Downloaded 13468/96243(14.0%) images - Elapsed time: 00:00:27, Estimated total time: 00:03:17, Estimated time left: 00:02:50\n",
            "2024-09-19 07:29:23,555 - INFO - Downloaded 15392/96243(16.0%) images - Elapsed time: 00:00:29, Estimated total time: 00:03:05, Estimated time left: 00:02:35\n",
            "2024-09-19 07:29:25,485 - INFO - Downloaded 17316/96243(18.0%) images - Elapsed time: 00:00:31, Estimated total time: 00:02:55, Estimated time left: 00:02:23\n",
            "2024-09-19 07:29:27,434 - INFO - Downloaded 19240/96243(20.0%) images - Elapsed time: 00:00:33, Estimated total time: 00:02:47, Estimated time left: 00:02:14\n",
            "2024-09-19 07:29:29,565 - INFO - Downloaded 21164/96243(22.0%) images - Elapsed time: 00:00:35, Estimated total time: 00:02:41, Estimated time left: 00:02:06\n",
            "2024-09-19 07:29:31,524 - INFO - Downloaded 23088/96243(24.0%) images - Elapsed time: 00:00:37, Estimated total time: 00:02:36, Estimated time left: 00:01:59\n",
            "2024-09-19 07:29:33,469 - INFO - Downloaded 25012/96243(26.0%) images - Elapsed time: 00:00:39, Estimated total time: 00:02:32, Estimated time left: 00:01:52\n",
            "2024-09-19 07:29:35,420 - INFO - Downloaded 26936/96243(28.0%) images - Elapsed time: 00:00:41, Estimated total time: 00:02:28, Estimated time left: 00:01:46\n",
            "2024-09-19 07:29:37,358 - INFO - Downloaded 28860/96243(30.0%) images - Elapsed time: 00:00:43, Estimated total time: 00:02:24, Estimated time left: 00:01:41\n",
            "2024-09-19 07:29:39,487 - INFO - Downloaded 30784/96243(32.0%) images - Elapsed time: 00:00:45, Estimated total time: 00:02:22, Estimated time left: 00:01:36\n",
            "2024-09-19 07:29:41,485 - INFO - Downloaded 32708/96243(34.0%) images - Elapsed time: 00:00:47, Estimated total time: 00:02:19, Estimated time left: 00:01:32\n",
            "2024-09-19 07:29:43,436 - INFO - Downloaded 34632/96243(36.0%) images - Elapsed time: 00:00:49, Estimated total time: 00:02:17, Estimated time left: 00:01:28\n",
            "2024-09-19 07:29:45,408 - INFO - Downloaded 36556/96243(38.0%) images - Elapsed time: 00:00:51, Estimated total time: 00:02:15, Estimated time left: 00:01:24\n",
            "2024-09-19 07:29:47,374 - INFO - Downloaded 38480/96243(40.0%) images - Elapsed time: 00:00:53, Estimated total time: 00:02:13, Estimated time left: 00:01:20\n",
            "2024-09-19 07:29:49,499 - INFO - Downloaded 40404/96243(42.0%) images - Elapsed time: 00:00:55, Estimated total time: 00:02:12, Estimated time left: 00:01:16\n",
            "2024-09-19 07:29:51,542 - INFO - Downloaded 42328/96243(44.0%) images - Elapsed time: 00:00:57, Estimated total time: 00:02:10, Estimated time left: 00:01:13\n",
            "2024-09-19 07:29:53,511 - INFO - Downloaded 44252/96243(46.0%) images - Elapsed time: 00:00:59, Estimated total time: 00:02:09, Estimated time left: 00:01:09\n",
            "2024-09-19 07:29:55,486 - INFO - Downloaded 46176/96243(48.0%) images - Elapsed time: 00:01:01, Estimated total time: 00:02:08, Estimated time left: 00:01:06\n",
            "2024-09-19 07:29:57,455 - INFO - Downloaded 48100/96243(50.0%) images - Elapsed time: 00:01:03, Estimated total time: 00:02:07, Estimated time left: 00:01:03\n",
            "2024-09-19 07:29:59,523 - INFO - Downloaded 50024/96243(52.0%) images - Elapsed time: 00:01:05, Estimated total time: 00:02:06, Estimated time left: 00:01:00\n",
            "2024-09-19 07:30:01,585 - INFO - Downloaded 51948/96243(54.0%) images - Elapsed time: 00:01:07, Estimated total time: 00:02:05, Estimated time left: 00:00:57\n",
            "2024-09-19 07:30:03,592 - INFO - Downloaded 53872/96243(56.0%) images - Elapsed time: 00:01:09, Estimated total time: 00:02:04, Estimated time left: 00:00:54\n",
            "2024-09-19 07:30:05,574 - INFO - Downloaded 55796/96243(58.0%) images - Elapsed time: 00:01:11, Estimated total time: 00:02:03, Estimated time left: 00:00:51\n",
            "2024-09-19 07:30:07,539 - INFO - Downloaded 57720/96243(60.0%) images - Elapsed time: 00:01:13, Estimated total time: 00:02:02, Estimated time left: 00:00:49\n",
            "2024-09-19 07:30:09,588 - INFO - Downloaded 59644/96243(62.0%) images - Elapsed time: 00:01:15, Estimated total time: 00:02:02, Estimated time left: 00:00:46\n",
            "2024-09-19 07:30:11,702 - INFO - Downloaded 61568/96243(64.0%) images - Elapsed time: 00:01:17, Estimated total time: 00:02:01, Estimated time left: 00:00:43\n",
            "2024-09-19 07:30:13,675 - INFO - Downloaded 63492/96243(66.0%) images - Elapsed time: 00:01:19, Estimated total time: 00:02:00, Estimated time left: 00:00:41\n",
            "2024-09-19 07:30:15,611 - INFO - Downloaded 65416/96243(68.0%) images - Elapsed time: 00:01:21, Estimated total time: 00:02:00, Estimated time left: 00:00:38\n",
            "2024-09-19 07:30:17,577 - INFO - Downloaded 67340/96243(70.0%) images - Elapsed time: 00:01:23, Estimated total time: 00:01:59, Estimated time left: 00:00:35\n",
            "2024-09-19 07:30:19,560 - INFO - Downloaded 69264/96243(72.0%) images - Elapsed time: 00:01:25, Estimated total time: 00:01:58, Estimated time left: 00:00:33\n",
            "2024-09-19 07:30:21,672 - INFO - Downloaded 71188/96243(74.0%) images - Elapsed time: 00:01:27, Estimated total time: 00:01:58, Estimated time left: 00:00:30\n",
            "2024-09-19 07:30:23,661 - INFO - Downloaded 73112/96243(76.0%) images - Elapsed time: 00:01:29, Estimated total time: 00:01:58, Estimated time left: 00:00:28\n",
            "2024-09-19 07:30:25,620 - INFO - Downloaded 75036/96243(78.0%) images - Elapsed time: 00:01:31, Estimated total time: 00:01:57, Estimated time left: 00:00:25\n",
            "2024-09-19 07:30:27,601 - INFO - Downloaded 76960/96243(80.0%) images - Elapsed time: 00:01:33, Estimated total time: 00:01:57, Estimated time left: 00:00:23\n",
            "2024-09-19 07:30:29,595 - INFO - Downloaded 78884/96243(82.0%) images - Elapsed time: 00:01:35, Estimated total time: 00:01:56, Estimated time left: 00:00:21\n",
            "2024-09-19 07:30:31,719 - INFO - Downloaded 80808/96243(84.0%) images - Elapsed time: 00:01:37, Estimated total time: 00:01:56, Estimated time left: 00:00:18\n",
            "2024-09-19 07:30:33,720 - INFO - Downloaded 82732/96243(86.0%) images - Elapsed time: 00:01:39, Estimated total time: 00:01:56, Estimated time left: 00:00:16\n",
            "2024-09-19 07:30:35,670 - INFO - Downloaded 84656/96243(88.0%) images - Elapsed time: 00:01:41, Estimated total time: 00:01:55, Estimated time left: 00:00:13\n",
            "2024-09-19 07:30:37,634 - INFO - Downloaded 86580/96243(90.0%) images - Elapsed time: 00:01:43, Estimated total time: 00:01:55, Estimated time left: 00:00:11\n",
            "2024-09-19 07:30:39,588 - INFO - Downloaded 88504/96243(92.0%) images - Elapsed time: 00:01:45, Estimated total time: 00:01:54, Estimated time left: 00:00:09\n",
            "2024-09-19 07:30:41,678 - INFO - Downloaded 90428/96243(94.0%) images - Elapsed time: 00:01:47, Estimated total time: 00:01:54, Estimated time left: 00:00:06\n",
            "2024-09-19 07:30:43,732 - INFO - Downloaded 92352/96243(96.0%) images - Elapsed time: 00:01:49, Estimated total time: 00:01:54, Estimated time left: 00:00:04\n",
            "2024-09-19 07:30:45,709 - INFO - Downloaded 94276/96243(98.0%) images - Elapsed time: 00:01:51, Estimated total time: 00:01:54, Estimated time left: 00:00:02\n",
            "2024-09-19 07:30:47,701 - INFO - Downloaded 96200/96243(100.0%) images - Elapsed time: 00:01:53, Estimated total time: 00:01:53, Estimated time left: 00:00:00\n",
            "2024-09-19 07:30:47,790 - INFO - Image download complete. Updating the dataframe.\n",
            "2024-09-19 07:30:47,791 - INFO - Dataframe updated. Processing downloaded images.\n",
            "2024-09-19 07:30:48,123 - INFO - Image processing complete.\n",
            "2024-09-19 07:31:27,676 - INFO - Final metrics pushed\n",
            "2024-09-19 07:31:27,676 - INFO - Task executed successfully\n",
            "Ready\n",
            "Dataset creation completed. Dataset ID: cbf78d2f-c7f4-49f5-bbce-52938402059f\n"
          ]
        }
      ]
    },
    {
      "cell_type": "markdown",
      "source": [
        "We do the same for the evaluation dataset."
      ],
      "metadata": {
        "id": "hFhSdvSPUWPA"
      }
    },
    {
      "cell_type": "code",
      "source": [
        "# Similarly we create the Evaluation dataset.\n",
        "eval_dataset_name = f\"{eval_data}-{suffix}\"\n",
        "print(f\"Creating evaluation dataset ({eval_dataset_name}):\")\n",
        "eval_dataset = marqtune_client.create_dataset(\n",
        "    dataset_name=eval_dataset_name,\n",
        "    file_path=eval_data,\n",
        "    dataset_type=DatasetType.EVALUATION,\n",
        "    data_schema=data_schema,\n",
        "    query_columns=[\"query\"],\n",
        "    result_columns=[\"title\", \"image\"],\n",
        "    wait_for_completion=True,\n",
        ")"
      ],
      "metadata": {
        "colab": {
          "base_uri": "https://localhost:8080/"
        },
        "collapsed": true,
        "id": "dJJ2BneowC4x",
        "outputId": "f277dcd6-1855-40e1-a8b3-43cb75f5298f"
      },
      "execution_count": 7,
      "outputs": [
        {
          "output_type": "stream",
          "name": "stdout",
          "text": [
            "Creating evaluation dataset (gs_25k_eval.csv-84cb4117):\n",
            "Dataset was initialised. Dataset ID: 2106b176-d5c4-4e3a-bd17-a8ad18d84f06\n",
            "Attempting to upload file...\n",
            "File uploaded successfully. Job will start soon\n",
            "Uploading\n",
            "Creating: Provisioning...\n",
            "Creating: Running\n",
            "2024-09-19 07:32:28,436 - INFO - Initialising task\n",
            "2024-09-19 07:32:28,507 - INFO - Downloading files for task 2106b176-d5c4-4e3a-bd17-a8ad18d84f06\n",
            "2024-09-19 07:32:28,707 - INFO - File download is completed\n",
            "2024-09-19 07:32:28,709 - INFO - Preparing dataset with {'input_file': 'dataset/2106b176-d5c4-4e3a-bd17-a8ad18d84f06/dataset.csv', 'data_schema': {'query': 'text', 'title': 'text', 'image': 'image_pointer', 'score': 'score'}, 'output_path': '2106b176-d5c4-4e3a-bd17-a8ad18d84f06', 'dataset_type': 'evaluation', 'result_columns': ['title', 'image'], 'image_download_headers': None, 'logger': <Logger __main__ (DEBUG)>, 'metrics_collector': <clients.cw_client.CWClient object at 0xffff764e46d0>, 'query_columns': ['query']}\n",
            "2024-09-19 07:32:28,787 - INFO - Total rows after cleaning up dataset: 50000, rows dropped: 0\n",
            "2024-09-19 07:32:28,788 - INFO - Initiating file processing. It will validate every row and download images. Please wait, this process may take a while.\n",
            "2024-09-19 07:32:28,796 - INFO - Image download started for 24757 images.\n",
            "2024-09-19 07:32:32,981 - INFO - Downloaded 495/24757(2.0%) images - Elapsed time: 00:00:04, Estimated total time: 00:03:29, Estimated time left: 00:03:25\n",
            "2024-09-19 07:32:33,502 - INFO - Downloaded 990/24757(4.0%) images - Elapsed time: 00:00:04, Estimated total time: 00:01:57, Estimated time left: 00:01:53\n",
            "2024-09-19 07:32:34,015 - INFO - Downloaded 1485/24757(6.0%) images - Elapsed time: 00:00:05, Estimated total time: 00:01:27, Estimated time left: 00:01:21\n",
            "2024-09-19 07:32:34,526 - INFO - Downloaded 1980/24757(8.0%) images - Elapsed time: 00:00:05, Estimated total time: 00:01:11, Estimated time left: 00:01:06\n",
            "2024-09-19 07:32:35,029 - INFO - Downloaded 2475/24757(10.0%) images - Elapsed time: 00:00:06, Estimated total time: 00:01:02, Estimated time left: 00:00:56\n",
            "2024-09-19 07:32:35,540 - INFO - Downloaded 2970/24757(12.0%) images - Elapsed time: 00:00:06, Estimated total time: 00:00:56, Estimated time left: 00:00:49\n",
            "2024-09-19 07:32:36,050 - INFO - Downloaded 3465/24757(14.0%) images - Elapsed time: 00:00:07, Estimated total time: 00:00:51, Estimated time left: 00:00:44\n",
            "2024-09-19 07:32:36,544 - INFO - Downloaded 3960/24757(16.0%) images - Elapsed time: 00:00:07, Estimated total time: 00:00:48, Estimated time left: 00:00:40\n",
            "2024-09-19 07:32:37,037 - INFO - Downloaded 4455/24757(18.0%) images - Elapsed time: 00:00:08, Estimated total time: 00:00:45, Estimated time left: 00:00:37\n",
            "2024-09-19 07:32:37,543 - INFO - Downloaded 4950/24757(20.0%) images - Elapsed time: 00:00:08, Estimated total time: 00:00:43, Estimated time left: 00:00:35\n",
            "2024-09-19 07:32:38,045 - INFO - Downloaded 5445/24757(22.0%) images - Elapsed time: 00:00:09, Estimated total time: 00:00:42, Estimated time left: 00:00:32\n",
            "2024-09-19 07:32:38,546 - INFO - Downloaded 5940/24757(24.0%) images - Elapsed time: 00:00:09, Estimated total time: 00:00:40, Estimated time left: 00:00:30\n",
            "2024-09-19 07:32:39,054 - INFO - Downloaded 6435/24757(26.0%) images - Elapsed time: 00:00:10, Estimated total time: 00:00:39, Estimated time left: 00:00:29\n",
            "2024-09-19 07:32:39,558 - INFO - Downloaded 6930/24757(28.0%) images - Elapsed time: 00:00:10, Estimated total time: 00:00:38, Estimated time left: 00:00:27\n",
            "2024-09-19 07:32:40,059 - INFO - Downloaded 7425/24757(30.0%) images - Elapsed time: 00:00:11, Estimated total time: 00:00:37, Estimated time left: 00:00:26\n",
            "2024-09-19 07:32:40,565 - INFO - Downloaded 7920/24757(32.0%) images - Elapsed time: 00:00:11, Estimated total time: 00:00:36, Estimated time left: 00:00:25\n",
            "2024-09-19 07:32:41,073 - INFO - Downloaded 8415/24757(34.0%) images - Elapsed time: 00:00:12, Estimated total time: 00:00:36, Estimated time left: 00:00:23\n",
            "2024-09-19 07:32:41,586 - INFO - Downloaded 8910/24757(36.0%) images - Elapsed time: 00:00:12, Estimated total time: 00:00:35, Estimated time left: 00:00:22\n",
            "2024-09-19 07:32:42,097 - INFO - Downloaded 9405/24757(38.0%) images - Elapsed time: 00:00:13, Estimated total time: 00:00:35, Estimated time left: 00:00:21\n",
            "2024-09-19 07:32:42,680 - INFO - Downloaded 9900/24757(40.0%) images - Elapsed time: 00:00:13, Estimated total time: 00:00:34, Estimated time left: 00:00:20\n",
            "2024-09-19 07:32:43,270 - INFO - Downloaded 10395/24757(42.0%) images - Elapsed time: 00:00:14, Estimated total time: 00:00:34, Estimated time left: 00:00:20\n",
            "2024-09-19 07:32:43,805 - INFO - Downloaded 10890/24757(44.0%) images - Elapsed time: 00:00:15, Estimated total time: 00:00:34, Estimated time left: 00:00:19\n",
            "2024-09-19 07:32:44,322 - INFO - Downloaded 11385/24757(46.0%) images - Elapsed time: 00:00:15, Estimated total time: 00:00:33, Estimated time left: 00:00:18\n",
            "2024-09-19 07:32:44,843 - INFO - Downloaded 11880/24757(48.0%) images - Elapsed time: 00:00:16, Estimated total time: 00:00:33, Estimated time left: 00:00:17\n",
            "2024-09-19 07:32:45,358 - INFO - Downloaded 12375/24757(50.0%) images - Elapsed time: 00:00:16, Estimated total time: 00:00:33, Estimated time left: 00:00:16\n",
            "2024-09-19 07:32:45,869 - INFO - Downloaded 12870/24757(52.0%) images - Elapsed time: 00:00:17, Estimated total time: 00:00:32, Estimated time left: 00:00:15\n",
            "2024-09-19 07:32:46,382 - INFO - Downloaded 13365/24757(54.0%) images - Elapsed time: 00:00:17, Estimated total time: 00:00:32, Estimated time left: 00:00:14\n",
            "2024-09-19 07:32:46,884 - INFO - Downloaded 13860/24757(56.0%) images - Elapsed time: 00:00:18, Estimated total time: 00:00:32, Estimated time left: 00:00:14\n",
            "2024-09-19 07:32:47,394 - INFO - Downloaded 14355/24757(58.0%) images - Elapsed time: 00:00:18, Estimated total time: 00:00:32, Estimated time left: 00:00:13\n",
            "2024-09-19 07:32:47,897 - INFO - Downloaded 14850/24757(60.0%) images - Elapsed time: 00:00:19, Estimated total time: 00:00:31, Estimated time left: 00:00:12\n",
            "2024-09-19 07:32:48,412 - INFO - Downloaded 15345/24757(62.0%) images - Elapsed time: 00:00:19, Estimated total time: 00:00:31, Estimated time left: 00:00:12\n",
            "2024-09-19 07:32:48,906 - INFO - Downloaded 15840/24757(64.0%) images - Elapsed time: 00:00:20, Estimated total time: 00:00:31, Estimated time left: 00:00:11\n",
            "2024-09-19 07:32:49,422 - INFO - Downloaded 16335/24757(66.0%) images - Elapsed time: 00:00:20, Estimated total time: 00:00:31, Estimated time left: 00:00:10\n",
            "2024-09-19 07:32:49,932 - INFO - Downloaded 16830/24757(68.0%) images - Elapsed time: 00:00:21, Estimated total time: 00:00:31, Estimated time left: 00:00:09\n",
            "2024-09-19 07:32:50,434 - INFO - Downloaded 17325/24757(70.0%) images - Elapsed time: 00:00:21, Estimated total time: 00:00:30, Estimated time left: 00:00:09\n",
            "2024-09-19 07:32:50,943 - INFO - Downloaded 17820/24757(72.0%) images - Elapsed time: 00:00:22, Estimated total time: 00:00:30, Estimated time left: 00:00:08\n",
            "2024-09-19 07:32:51,444 - INFO - Downloaded 18315/24757(74.0%) images - Elapsed time: 00:00:22, Estimated total time: 00:00:30, Estimated time left: 00:00:07\n",
            "2024-09-19 07:32:51,963 - INFO - Downloaded 18810/24757(76.0%) images - Elapsed time: 00:00:23, Estimated total time: 00:00:30, Estimated time left: 00:00:07\n",
            "2024-09-19 07:32:52,477 - INFO - Downloaded 19305/24757(78.0%) images - Elapsed time: 00:00:23, Estimated total time: 00:00:30, Estimated time left: 00:00:06\n",
            "2024-09-19 07:32:53,041 - INFO - Downloaded 19800/24757(80.0%) images - Elapsed time: 00:00:24, Estimated total time: 00:00:30, Estimated time left: 00:00:06\n",
            "2024-09-19 07:32:53,635 - INFO - Downloaded 20295/24757(82.0%) images - Elapsed time: 00:00:24, Estimated total time: 00:00:30, Estimated time left: 00:00:05\n",
            "2024-09-19 07:32:54,196 - INFO - Downloaded 20790/24757(84.0%) images - Elapsed time: 00:00:25, Estimated total time: 00:00:30, Estimated time left: 00:00:04\n",
            "2024-09-19 07:32:54,722 - INFO - Downloaded 21285/24757(86.0%) images - Elapsed time: 00:00:25, Estimated total time: 00:00:30, Estimated time left: 00:00:04\n",
            "2024-09-19 07:32:55,230 - INFO - Downloaded 21780/24757(88.0%) images - Elapsed time: 00:00:26, Estimated total time: 00:00:30, Estimated time left: 00:00:03\n",
            "2024-09-19 07:32:55,740 - INFO - Downloaded 22275/24757(90.0%) images - Elapsed time: 00:00:26, Estimated total time: 00:00:29, Estimated time left: 00:00:03\n",
            "2024-09-19 07:32:56,257 - INFO - Downloaded 22770/24757(92.0%) images - Elapsed time: 00:00:27, Estimated total time: 00:00:29, Estimated time left: 00:00:02\n",
            "2024-09-19 07:32:56,773 - INFO - Downloaded 23265/24757(94.0%) images - Elapsed time: 00:00:27, Estimated total time: 00:00:29, Estimated time left: 00:00:01\n",
            "2024-09-19 07:32:57,298 - INFO - Downloaded 23760/24757(96.0%) images - Elapsed time: 00:00:28, Estimated total time: 00:00:29, Estimated time left: 00:00:01\n",
            "2024-09-19 07:32:57,802 - INFO - Downloaded 24255/24757(98.0%) images - Elapsed time: 00:00:29, Estimated total time: 00:00:29, Estimated time left: 00:00:00\n",
            "2024-09-19 07:32:58,323 - INFO - Downloaded 24750/24757(100.0%) images - Elapsed time: 00:00:29, Estimated total time: 00:00:29, Estimated time left: 00:00:00\n",
            "2024-09-19 07:32:58,463 - INFO - Image download complete. Updating the dataframe.\n",
            "2024-09-19 07:32:58,463 - INFO - Dataframe updated. Processing downloaded images.\n",
            "2024-09-19 07:32:58,639 - INFO - Image processing complete.\n",
            "2024-09-19 07:33:23,517 - INFO - Final metrics pushed\n",
            "2024-09-19 07:33:23,517 - INFO - Task executed successfully\n",
            "Ready\n",
            "Dataset creation completed. Dataset ID: 2106b176-d5c4-4e3a-bd17-a8ad18d84f06\n"
          ]
        }
      ]
    },
    {
      "cell_type": "markdown",
      "source": [
        "### **4. Model Tuning**"
      ],
      "metadata": {
        "id": "wgcr0EPxVV-R"
      }
    },
    {
      "cell_type": "markdown",
      "source": [
        "Now we're ready to train a model. To do so we define a few training hyper parameters. In this example we've set some parameters that work well with the sample dataset but you are encouraged to experiment with these values for your own datasets.\n",
        "\n",
        "In our example for the base pre-trained open clip model, we've chosen to use `ViT-B-32 - laion400m_e31` which is a good model to start with as it gives us good performance with low latency/memory usage. We have previously published a guide to help you [choose the right model](https://www.marqo.ai/blog/benchmarking-models-for-multimodal-search) for your use case."
      ],
      "metadata": {
        "id": "7U5elIMyUaUX"
      }
    },
    {
      "cell_type": "code",
      "source": [
        "# Setup training hyper parameters:\n",
        "training_params = {\n",
        "    \"leftKeys\": [\"query\"],\n",
        "    \"leftWeights\": [1],\n",
        "    \"rightKeys\": [\"image\", \"title\"],\n",
        "    \"rightWeights\": [0.9, 0.1],\n",
        "    \"weightKey\": \"score\",\n",
        "    \"epochs\": 5,\n",
        "}\n",
        "\n",
        "base_model = \"ViT-B-32\"\n",
        "base_checkpoint = \"laion400m_e31\""
      ],
      "metadata": {
        "id": "M2QNenCLwHNb"
      },
      "execution_count": 8,
      "outputs": []
    },
    {
      "cell_type": "markdown",
      "source": [
        "The `training_params` dictionary is used to define the training hyperparameters. We've chosen a minimal set of hyperparameters to get you started - primarily the left/right keys define the columns in the input CSV that we're training on. You can experiment on these parameters yourself, refer to the [Training Parameters documentation](https://docs.marqo.ai/2.10/Marqtune/API/evaluation/evaluation_parameters/) for documentation on these and other parameters available for training.\n",
        "\n",
        "This training will take a while to complete, though you may choose to run it faster using more powerful hardware: `instance_type=InstanceType.PERFORMANCE`.\n",
        "\n",
        "It's also worth noting that once training has been successfully kicked off in Marqtune it will continue till completion no matter what happens to your local client session. On start the logs will show the new model id that can be used to identify your model - copy this id so that if your local console disconnects for some reason during training you can always resume the rest of this guide after loading the completed model: `tuned_model = marqtune_client.model('<model id>')`."
      ],
      "metadata": {
        "id": "cIXDKOWLUfS_"
      }
    },
    {
      "cell_type": "code",
      "source": [
        "model_name = f\"{training_data}-model-{suffix}\"\n",
        "print(f\"Training a new model ({model_name}):\")\n",
        "tuned_model = marqtune_client.train_model(\n",
        "    dataset_id=training_dataset.dataset_id,\n",
        "    model_name=f\"{training_data}-model-{suffix}\",\n",
        "    instance_type=InstanceType.BASIC,\n",
        "    base_model=f\"Marqo/{base_model}.{base_checkpoint}\",\n",
        "    hyperparameters=training_params,\n",
        "    wait_for_completion=True,\n",
        ")"
      ],
      "metadata": {
        "colab": {
          "base_uri": "https://localhost:8080/"
        },
        "collapsed": true,
        "id": "d_vIrvhXa0gS",
        "outputId": "52f190f1-e33f-4e52-dd72-59ea193e3358"
      },
      "execution_count": 9,
      "outputs": [
        {
          "output_type": "stream",
          "name": "stdout",
          "text": [
            "Training a new model (gs_100k_training.csv-model-84cb4117):\n",
            "Model creation was initialised. Model ID: 0caf76be-e045-4799-be7c-d42bf2255b78\n",
            "Initializing\n",
            "Creating: Provisioning.\n",
            "Creating: Running\n",
            "2024-09-19 07:34:13,103 - INFO - Initialising task\n",
            "2024-09-19 07:34:13,179 - INFO - Downloading files for task 0caf76be-e045-4799-be7c-d42bf2255b78\n",
            "2024-09-19 07:34:45,864 - INFO - File download is completed\n",
            "2024-09-19 07:34:45,941 - INFO - Initializing training job for model ViT-B-32 and dataset cbf78d2f-c7f4-49f5-bbce-52938402059f. Please wait, it may take some time.\n",
            "METRIC: imagesPreprocessingTime=29;\n",
            "Executing training job with 1 GPUs.\n",
            "Torchrun command:  ['torchrun', '--nproc_per_node', '1', 'main.py', '--', '--left-keys', \"['query']\", '--left-weights', '[1]', '--right-keys', \"['image', 'title']\", '--right-weights', '[0.9, 0.1]', '--weight-key', 'score', '--epochs', '5', '--train-data', '/app/src/data/label.csv', '--img-or-txt', \"[['txt'], ['img', 'txt']]\", '--id-keys', \"['query', 'image']\", '--dataset-type', 'weighted_csv', '--output-format', 'pt', '--model', 'ViT-B-32', '--pretrained', 'laion400m_e31', '--logs', '/app/logs', '--name', 'model']\n",
            "2024-09-19,07:37:33 | INFO | Running with a single process. Device cuda:0.\n",
            "2024-09-19,07:37:34 | INFO | Loaded ViT-B-32 model config.\n",
            "100%|████████████████████████████████████████| 605M/605M [00:01<00:00, 448MiB/s]\n",
            "2024-09-19,07:37:40 | INFO | Loading pretrained ViT-B-32 weights (laion400m_e31).\n",
            "/usr/local/lib/python3.8/site-packages/open_clip/factory.py:129: FutureWarning: You are using `torch.load` with `weights_only=False` (the current default value), which uses the default pickle module implicitly. It is possible to construct malicious pickle data which will execute arbitrary code during unpickling (See https://github.com/pytorch/pytorch/blob/main/SECURITY.md#untrusted-models for more details). In a future release, the default value for `weights_only` will be flipped to `True`. This limits the functions that could be executed during unpickling. Arbitrary objects will no longer be allowed to be loaded via this mode unless they are explicitly allowlisted by the user via `torch.serialization.add_safe_globals`. We recommend you start setting `weights_only=True` for any use case where you don't have full control of the loaded file. Please open an issue on GitHub for any issues related to this experimental feature.\n",
            "  checkpoint = torch.load(checkpoint_path, map_location=map_location)\n",
            "2024-09-19,07:37:40 | INFO | Model:\n",
            "2024-09-19,07:37:40 | INFO | multi_field_model(\n",
            "  (model): CLIP(\n",
            "    (visual): VisionTransformer(\n",
            "      (conv1): Conv2d(3, 768, kernel_size=(32, 32), stride=(32, 32), bias=False)\n",
            "      (patch_dropout): Identity()\n",
            "      (ln_pre): LayerNorm((768,), eps=1e-05, elementwise_affine=True)\n",
            "      (transformer): Transformer(\n",
            "        (resblocks): ModuleList(\n",
            "          (0-11): 12 x ResidualAttentionBlock(\n",
            "            (ln_1): LayerNorm((768,), eps=1e-05, elementwise_affine=True)\n",
            "            (attn): MultiheadAttention(\n",
            "              (out_proj): NonDynamicallyQuantizableLinear(in_features=768, out_features=768, bias=True)\n",
            "            )\n",
            "            (ls_1): Identity()\n",
            "            (ln_2): LayerNorm((768,), eps=1e-05, elementwise_affine=True)\n",
            "            (mlp): Sequential(\n",
            "              (c_fc): Linear(in_features=768, out_features=3072, bias=True)\n",
            "              (gelu): GELU(approximate='none')\n",
            "              (c_proj): Linear(in_features=3072, out_features=768, bias=True)\n",
            "            )\n",
            "            (ls_2): Identity()\n",
            "          )\n",
            "        )\n",
            "      )\n",
            "      (ln_post): LayerNorm((768,), eps=1e-05, elementwise_affine=True)\n",
            "    )\n",
            "    (transformer): Transformer(\n",
            "      (resblocks): ModuleList(\n",
            "        (0-11): 12 x ResidualAttentionBlock(\n",
            "          (ln_1): LayerNorm((512,), eps=1e-05, elementwise_affine=True)\n",
            "          (attn): MultiheadAttention(\n",
            "            (out_proj): NonDynamicallyQuantizableLinear(in_features=512, out_features=512, bias=True)\n",
            "          )\n",
            "          (ls_1): Identity()\n",
            "          (ln_2): LayerNorm((512,), eps=1e-05, elementwise_affine=True)\n",
            "          (mlp): Sequential(\n",
            "            (c_fc): Linear(in_features=512, out_features=2048, bias=True)\n",
            "            (gelu): GELU(approximate='none')\n",
            "            (c_proj): Linear(in_features=2048, out_features=512, bias=True)\n",
            "          )\n",
            "          (ls_2): Identity()\n",
            "        )\n",
            "      )\n",
            "    )\n",
            "    (token_embedding): Embedding(49408, 512)\n",
            "    (ln_final): LayerNorm((512,), eps=1e-05, elementwise_affine=True)\n",
            "  )\n",
            ")\n",
            "2024-09-19,07:37:40 | INFO | Params:\n",
            "2024-09-19,07:37:40 | INFO |   __annotations__: {'cluster_sampling': <class 'bool'>, 'id_keys': <class 'str'>, 'context_length': <class 'str'>, 'logit_scale': <class 'float'>, 'logit_bias': <class 'float'>, 'sq_interval': <class 'int'>, 'sq_logit_scale': <class 'float'>, 'left_keys': <class 'str'>, 'right_keys': <class 'str'>, 'img_or_txt': <class 'str'>, 'left_weights': <class 'str'>, 'right_weights': <class 'str'>, 'weight_key': <class 'str'>, 'weighted_loss': <class 'str'>, 'train_data': <class 'str'>, 'train_data_sq': <class 'str'>, 'train_data_upsampling_factors': <class 'str'>, 'val_data': <class 'str'>, 'train_num_samples': <class 'int'>, 'val_num_samples': <class 'int'>, 'dataset_type': <class 'str'>, 'dataset_resampled': <class 'bool'>, 'csv_separator': <class 'str'>, 'imagenet_val': <class 'str'>, 'imagenet_v2': <class 'str'>, 'logs': <class 'str'>, 'log_local': <class 'bool'>, 'name': <class 'str'>, 'workers': <class 'int'>, 'batch_size': <class 'int'>, 'epochs': <class 'int'>, 'epochs_cooldown': <class 'int'>, 'lr': <class 'float'>, 'beta1': <class 'float'>, 'beta2': <class 'float'>, 'eps': <class 'float'>, 'wd': <class 'float'>, 'warmup': <class 'int'>, 'use_bn_sync': <class 'bool'>, 'skip_scheduler': <class 'bool'>, 'lr_scheduler': <class 'str'>, 'lr_cooldown_end': <class 'float'>, 'lr_cooldown_power': <class 'float'>, 'save_frequency': <class 'int'>, 'save_most_recent': <class 'bool'>, 'zeroshot_frequency': <class 'int'>, 'val_frequency': <class 'int'>, 'resume': <class 'str'>, 'precision': <class 'str'>, 'model': <class 'str'>, 'pretrained': <class 'str'>, 'pretrained_image': <class 'bool'>, 'lock_image': <class 'bool'>, 'lock_image_unlocked_groups': <class 'int'>, 'lock_image_freeze_bn_stats': <class 'bool'>, 'image_mean': typing.List[float], 'image_std': typing.List[float], 'aug_cfg': typing.Dict[str, typing.Any], 'grad_checkpointing': <class 'bool'>, 'local_loss': <class 'bool'>, 'gather_with_grad': <class 'bool'>, 'force_image_size': typing.List[int], 'force_quick_gelu': <class 'bool'>, 'force_patch_dropout': <class 'float'>, 'force_custom_text': <class 'bool'>, 'torchscript': <class 'bool'>, 'trace': <class 'bool'>, 'accum_freq': <class 'int'>, 'dist_url': <class 'str'>, 'dist_backend': <class 'str'>, 'report_to': <class 'str'>, 'wandb_notes': <class 'str'>, 'wandb_project_name': <class 'str'>, 'debug': <class 'bool'>, 'copy_codebase': <class 'bool'>, 'horovod': <class 'bool'>, 'ddp_static_graph': <class 'bool'>, 'no_set_device_rank': <class 'bool'>, 'seed': <class 'int'>, 'grad_clip_norm': <class 'float'>, 'lock_text': <class 'bool'>, 'lock_text_unlocked_layers': <class 'int'>, 'lock_text_freeze_layer_norm': <class 'bool'>, 'log_every_n_steps': <class 'int'>, 'coca_caption_loss_weight': <class 'float'>, 'coca_contrastive_loss_weight': <class 'float'>, 'remote_sync': <class 'str'>, 'remote_sync_frequency': <class 'int'>, 'remote_sync_protocol': <class 'str'>, 'delete_previous_checkpoint': <class 'bool'>, 'distill_model': <class 'str'>, 'distill_pretrained': <class 'str'>, 'use_bnb_linear': <class 'str'>, 'frozen_right': <class 'bool'>, 'checkpoint_path': <class 'str'>, 'dynamic_batch_size': <class 'bool'>}\n",
            "2024-09-19,07:37:40 | INFO |   __doc__: \n",
            "    This class inherits from argparse.Namespace and is used to store the arguments passed to the training script.\n",
            "    \n",
            "2024-09-19,07:37:40 | INFO |   __module__: params\n",
            "2024-09-19,07:37:40 | INFO |   accum_freq: 1\n",
            "2024-09-19,07:37:40 | INFO |   aug_cfg: {}\n",
            "2024-09-19,07:37:40 | INFO |   batch_size: 256\n",
            "2024-09-19,07:37:40 | INFO |   beta1: 0.9\n",
            "2024-09-19,07:37:40 | INFO |   beta2: 0.98\n",
            "2024-09-19,07:37:40 | INFO |   checkpoint_path: /app/logs/model/checkpoints\n",
            "2024-09-19,07:37:40 | INFO |   cluster_sampling: False\n",
            "2024-09-19,07:37:40 | INFO |   coca_caption_loss_weight: 2.0\n",
            "2024-09-19,07:37:40 | INFO |   coca_contrastive_loss_weight: 1.0\n",
            "2024-09-19,07:37:40 | INFO |   context_length: [[77], [77, 77]]\n",
            "2024-09-19,07:37:40 | INFO |   copy_codebase: False\n",
            "2024-09-19,07:37:40 | INFO |   csv_separator: \t\n",
            "2024-09-19,07:37:40 | INFO |   dataset_resampled: False\n",
            "2024-09-19,07:37:40 | INFO |   dataset_type: weighted_csv\n",
            "2024-09-19,07:37:40 | INFO |   ddp_static_graph: False\n",
            "2024-09-19,07:37:40 | INFO |   debug: False\n",
            "2024-09-19,07:37:40 | INFO |   delete_previous_checkpoint: False\n",
            "2024-09-19,07:37:40 | INFO |   device: cuda:0\n",
            "2024-09-19,07:37:40 | INFO |   dist_backend: nccl\n",
            "2024-09-19,07:37:40 | INFO |   dist_url: env://\n",
            "2024-09-19,07:37:40 | INFO |   distill: False\n",
            "2024-09-19,07:37:40 | INFO |   distill_model: None\n",
            "2024-09-19,07:37:40 | INFO |   distill_pretrained: None\n",
            "2024-09-19,07:37:40 | INFO |   distributed: False\n",
            "2024-09-19,07:37:40 | INFO |   dynamic_batch_size: False\n",
            "2024-09-19,07:37:40 | INFO |   epochs: 5\n",
            "2024-09-19,07:37:40 | INFO |   epochs_cooldown: None\n",
            "2024-09-19,07:37:40 | INFO |   eps: 1e-06\n",
            "2024-09-19,07:37:40 | INFO |   force_custom_text: False\n",
            "2024-09-19,07:37:40 | INFO |   force_image_size: None\n",
            "2024-09-19,07:37:40 | INFO |   force_patch_dropout: None\n",
            "2024-09-19,07:37:40 | INFO |   force_quick_gelu: False\n",
            "2024-09-19,07:37:40 | INFO |   frozen_right: False\n",
            "2024-09-19,07:37:40 | INFO |   gather_with_grad: True\n",
            "2024-09-19,07:37:40 | INFO |   grad_checkpointing: True\n",
            "2024-09-19,07:37:40 | INFO |   grad_clip_norm: None\n",
            "2024-09-19,07:37:40 | INFO |   horovod: False\n",
            "2024-09-19,07:37:40 | INFO |   id_keys: ['query', 'image']\n",
            "2024-09-19,07:37:40 | INFO |   image_mean: None\n",
            "2024-09-19,07:37:40 | INFO |   image_std: None\n",
            "2024-09-19,07:37:40 | INFO |   imagenet_v2: None\n",
            "2024-09-19,07:37:40 | INFO |   imagenet_val: None\n",
            "2024-09-19,07:37:40 | INFO |   img_or_txt: [['txt'], ['img', 'txt']]\n",
            "2024-09-19,07:37:40 | INFO |   left_keys: ['query']\n",
            "2024-09-19,07:37:40 | INFO |   left_weights: [1]\n",
            "2024-09-19,07:37:40 | INFO |   local_loss: False\n",
            "2024-09-19,07:37:40 | INFO |   local_rank: 0\n",
            "2024-09-19,07:37:40 | INFO |   lock_image: False\n",
            "2024-09-19,07:37:40 | INFO |   lock_image_freeze_bn_stats: False\n",
            "2024-09-19,07:37:40 | INFO |   lock_image_unlocked_groups: 0\n",
            "2024-09-19,07:37:40 | INFO |   lock_text: False\n",
            "2024-09-19,07:37:40 | INFO |   lock_text_freeze_layer_norm: False\n",
            "2024-09-19,07:37:40 | INFO |   lock_text_unlocked_layers: 0\n",
            "2024-09-19,07:37:40 | INFO |   log_every_n_steps: 100\n",
            "2024-09-19,07:37:40 | INFO |   log_level: 20\n",
            "2024-09-19,07:37:40 | INFO |   log_local: False\n",
            "2024-09-19,07:37:40 | INFO |   log_path: /app/logs/model/out.log\n",
            "2024-09-19,07:37:40 | INFO |   logit_bias: None\n",
            "2024-09-19,07:37:40 | INFO |   logit_scale: None\n",
            "2024-09-19,07:37:40 | INFO |   logs: /app/logs\n",
            "2024-09-19,07:37:40 | INFO |   lr: 0.0005\n",
            "2024-09-19,07:37:40 | INFO |   lr_cooldown_end: 0.0\n",
            "2024-09-19,07:37:40 | INFO |   lr_cooldown_power: 1.0\n",
            "2024-09-19,07:37:40 | INFO |   lr_scheduler: cosine\n",
            "2024-09-19,07:37:40 | INFO |   meta_data: None\n",
            "2024-09-19,07:37:40 | INFO |   model: ViT-B-32\n",
            "2024-09-19,07:37:40 | INFO |   name: model\n",
            "2024-09-19,07:37:40 | INFO |   no_set_device_rank: False\n",
            "2024-09-19,07:37:40 | INFO |   output_format: pt\n",
            "2024-09-19,07:37:40 | INFO |   precision: amp\n",
            "2024-09-19,07:37:40 | INFO |   pretrained: laion400m_e31\n",
            "2024-09-19,07:37:40 | INFO |   pretrained_image: False\n",
            "2024-09-19,07:37:40 | INFO |   rank: 0\n",
            "2024-09-19,07:37:40 | INFO |   remote_sync: None\n",
            "2024-09-19,07:37:40 | INFO |   remote_sync_frequency: 300\n",
            "2024-09-19,07:37:40 | INFO |   remote_sync_protocol: s3\n",
            "2024-09-19,07:37:40 | INFO |   report_to: \n",
            "2024-09-19,07:37:40 | INFO |   resume: None\n",
            "2024-09-19,07:37:40 | INFO |   right_keys: ['image', 'title']\n",
            "2024-09-19,07:37:40 | INFO |   right_weights: [0.9, 0.1]\n",
            "2024-09-19,07:37:40 | INFO |   save_frequency: 1\n",
            "2024-09-19,07:37:40 | INFO |   save_most_recent: False\n",
            "2024-09-19,07:37:40 | INFO |   seed: 0\n",
            "2024-09-19,07:37:40 | INFO |   skip_scheduler: False\n",
            "2024-09-19,07:37:40 | INFO |   sq_interval: 2\n",
            "2024-09-19,07:37:40 | INFO |   sq_logit_scale: 1.5\n",
            "2024-09-19,07:37:40 | INFO |   tensorboard: False\n",
            "2024-09-19,07:37:40 | INFO |   tensorboard_path: \n",
            "2024-09-19,07:37:40 | INFO |   torchscript: False\n",
            "2024-09-19,07:37:40 | INFO |   trace: False\n",
            "2024-09-19,07:37:40 | INFO |   train_data: /app/src/data/label.csv\n",
            "2024-09-19,07:37:40 | INFO |   train_data_sq: None\n",
            "2024-09-19,07:37:40 | INFO |   train_data_upsampling_factors: None\n",
            "2024-09-19,07:37:40 | INFO |   train_num_samples: None\n",
            "2024-09-19,07:37:40 | INFO |   unique_batch_sampling: False\n",
            "2024-09-19,07:37:40 | INFO |   use_bn_sync: False\n",
            "2024-09-19,07:37:40 | INFO |   use_bnb_linear: None\n",
            "2024-09-19,07:37:40 | INFO |   val_data: None\n",
            "2024-09-19,07:37:40 | INFO |   val_frequency: 1\n",
            "2024-09-19,07:37:40 | INFO |   val_num_samples: None\n",
            "2024-09-19,07:37:40 | INFO |   wandb: False\n",
            "2024-09-19,07:37:40 | INFO |   wandb_notes: \n",
            "2024-09-19,07:37:40 | INFO |   wandb_project_name: open-clip\n",
            "2024-09-19,07:37:40 | INFO |   warmup: 10000\n",
            "2024-09-19,07:37:40 | INFO |   wd: 0.2\n",
            "2024-09-19,07:37:40 | INFO |   weight_key: score\n",
            "2024-09-19,07:37:40 | INFO |   weighted_loss: ce\n",
            "2024-09-19,07:37:40 | INFO |   workers: 5\n",
            "2024-09-19,07:37:40 | INFO |   world_size: 1\n",
            "2024-09-19,07:37:40 | INFO |   zeroshot_frequency: 2\n",
            "main.py:437: FutureWarning: `torch.cuda.amp.GradScaler(args...)` is deprecated. Please use `torch.amp.GradScaler('cuda', args...)` instead.\n",
            "  scaler = GradScaler() if args.precision == \"amp\" else None\n",
            "Using Pyarrow instead of List\n",
            "2024-09-19,07:37:41 | INFO | Start epoch 0\n",
            "/app/ml/code/weighted_training/utils.py:348: FutureWarning: `torch.cuda.amp.autocast(args...)` is deprecated. Please use `torch.amp.autocast('cuda', args...)` instead.\n",
            "  with autocast():\n",
            "/usr/local/lib/python3.8/site-packages/torch/_dynamo/eval_frame.py:600: UserWarning: torch.utils.checkpoint: the use_reentrant parameter should be passed explicitly. In version 2.4 we will raise an exception if use_reentrant is not passed. use_reentrant=False is recommended, but if you need to preserve the current default behavior, you can pass use_reentrant=True. Refer to docs for more details on the differences between the two variants.\n",
            "  return fn(*args, **kwargs)\n",
            "/usr/local/lib/python3.8/site-packages/torch/utils/checkpoint.py:295: FutureWarning: `torch.cpu.amp.autocast(args...)` is deprecated. Please use `torch.amp.autocast('cpu', args...)` instead.\n",
            "  with torch.enable_grad(), device_autocast_ctx, torch.cpu.amp.autocast(**ctx.cpu_autocast_kwargs):  # type: ignore[attr-defined]\n",
            "2024-09-19,07:38:41 | INFO | Train Epoch: 0 [   256/100000 (0%)] Data (t): 4.242 Batch (t): 59.849, 4.27741/s, 4.27741/s/gpu LR: 0.000000 Logit Scale: 100.003, Logit Bias: 0.000, Txt_img_0_0_loss: 1.4281 (1.4281) Txt_txt_0_1_loss: 2.6939 (2.6939) Weighted_mean_loss: 1.1233 (1.1233) Loss: 1.6683 (1.6683)\n",
            "2024-09-19,07:40:03 | INFO | Train Epoch: 0 [ 25856/100000 (26%)] Data (t): 0.000 Batch (t): 0.816, 313.769/s, 313.769/s/gpu LR: 0.000005 Logit Scale: 99.984, Logit Bias: 0.000, Txt_img_0_0_loss: 0.88890 (1.1585) Txt_txt_0_1_loss: 0.47516 (1.5845) Weighted_mean_loss: 0.67245 (0.89789) Loss: 0.73135 (1.1999)\n",
            "2024-09-19,07:41:24 | INFO | Train Epoch: 0 [ 51456/100000 (52%)] Data (t): 0.000 Batch (t): 0.816, 313.792/s, 313.792/s/gpu LR: 0.000010 Logit Scale: 99.970, Logit Bias: 0.000, Txt_img_0_0_loss: 0.72529 (1.0141) Txt_txt_0_1_loss: 0.29270 (1.1539) Weighted_mean_loss: 0.49330 (0.76303) Loss: 0.55914 (0.98628)\n",
            "2024-09-19,07:42:46 | INFO | Train Epoch: 0 [ 77056/100000 (77%)] Data (t): 0.001 Batch (t): 0.816, 313.957/s, 313.957/s/gpu LR: 0.000015 Logit Scale: 99.946, Logit Bias: 0.000, Txt_img_0_0_loss: 0.92702 (0.99233) Txt_txt_0_1_loss: 0.30934 (0.94277) Weighted_mean_loss: 0.60664 (0.72393) Loss: 0.69250 (0.91284)\n",
            "2024-09-19,07:43:59 | INFO | Train Epoch: 0 [ 99840/100000 (100%)] Data (t): 0.001 Batch (t): 0.816, 314.662/s, 314.662/s/gpu LR: 0.000019 Logit Scale: 99.913, Logit Bias: 0.000, Txt_img_0_0_loss: 0.93692 (0.98124) Txt_txt_0_1_loss: 0.38270 (0.83075) Weighted_mean_loss: 0.59152 (0.69745) Loss: 0.71201 (0.87267)\n",
            "METRIC: epochTime=377;\n",
            "2024-09-19,07:44:00 | INFO | Start epoch 1\n",
            "2024-09-19,07:44:03 | INFO | Train Epoch: 1 [   256/100000 (0%)] Data (t): 2.012 Batch (t): 2.816, 90.9161/s, 90.9161/s/gpu LR: 0.000020 Logit Scale: 99.913, Logit Bias: 0.000, Txt_img_0_0_loss: 0.53368 (0.53368) Txt_txt_0_1_loss: 0.19998 (0.19998) Weighted_mean_loss: 0.31605 (0.31605) Loss: 0.39585 (0.39585)\n",
            "2024-09-19,07:45:25 | INFO | Train Epoch: 1 [ 25856/100000 (26%)] Data (t): 0.000 Batch (t): 0.818, 313.320/s, 313.320/s/gpu LR: 0.000025 Logit Scale: 99.894, Logit Bias: 0.000, Txt_img_0_0_loss: 0.77641 (0.65504) Txt_txt_0_1_loss: 0.35173 (0.27585) Weighted_mean_loss: 0.43902 (0.37754) Loss: 0.58589 (0.49087)\n",
            "2024-09-19,07:46:47 | INFO | Train Epoch: 1 [ 51456/100000 (52%)] Data (t): 0.001 Batch (t): 0.816, 313.472/s, 313.472/s/gpu LR: 0.000030 Logit Scale: 99.832, Logit Bias: 0.000, Txt_img_0_0_loss: 0.71226 (0.67411) Txt_txt_0_1_loss: 0.24076 (0.26416) Weighted_mean_loss: 0.41316 (0.38941) Loss: 0.51961 (0.50045)\n",
            "2024-09-19,07:48:08 | INFO | Train Epoch: 1 [ 77056/100000 (77%)] Data (t): 0.000 Batch (t): 0.816, 313.399/s, 313.399/s/gpu LR: 0.000035 Logit Scale: 99.748, Logit Bias: 0.000, Txt_img_0_0_loss: 0.78397 (0.70158) Txt_txt_0_1_loss: 0.38638 (0.29471) Weighted_mean_loss: 0.46989 (0.40953) Loss: 0.60605 (0.52685)\n",
            "2024-09-19,07:49:21 | INFO | Train Epoch: 1 [ 99840/100000 (100%)] Data (t): 0.001 Batch (t): 0.816, 314.567/s, 314.567/s/gpu LR: 0.000039 Logit Scale: 99.674, Logit Bias: 0.000, Txt_img_0_0_loss: 0.81605 (0.72447) Txt_txt_0_1_loss: 0.30928 (0.29762) Weighted_mean_loss: 0.44513 (0.41665) Loss: 0.59662 (0.54080)\n",
            "METRIC: epochTime=320;\n",
            "Uploading {'logs/model/checkpoints/epoch_1.pt'} to model/0caf76be-e045-4799-be7c-d42bf2255b78, current file: logs/model/checkpoints/epoch_2.pt\n",
            "Uploading files\n",
            "Uploading files from local to bucket fb1v8ftn-bucket\n",
            "2024-09-19,07:49:23 | INFO | Start epoch 2\n",
            "2024-09-19,07:49:27 | INFO | Train Epoch: 2 [   256/100000 (0%)] Data (t): 2.895 Batch (t): 3.737, 68.4998/s, 68.4998/s/gpu LR: 0.000039 Logit Scale: 99.673, Logit Bias: 0.000, Txt_img_0_0_loss: 0.49888 (0.49888) Txt_txt_0_1_loss: 0.26508 (0.26508) Weighted_mean_loss: 0.24932 (0.24932) Loss: 0.37804 (0.37804)\n",
            "2024-09-19,07:50:48 | INFO | Train Epoch: 2 [ 25856/100000 (26%)] Data (t): 0.001 Batch (t): 0.818, 313.583/s, 313.583/s/gpu LR: 0.000044 Logit Scale: 99.656, Logit Bias: 0.000, Txt_img_0_0_loss: 0.44901 (0.47394) Txt_txt_0_1_loss: 0.18314 (0.22411) Weighted_mean_loss: 0.20018 (0.22475) Loss: 0.32033 (0.34919)\n",
            "2024-09-19,07:52:10 | INFO | Train Epoch: 2 [ 51456/100000 (52%)] Data (t): 0.001 Batch (t): 0.816, 313.521/s, 313.521/s/gpu LR: 0.000049 Logit Scale: 99.521, Logit Bias: 0.000, Txt_img_0_0_loss: 0.59530 (0.51440) Txt_txt_0_1_loss: 0.14596 (0.19806) Weighted_mean_loss: 0.31310 (0.25420) Loss: 0.41242 (0.37026)\n",
            "2024-09-19,07:53:32 | INFO | Train Epoch: 2 [ 77056/100000 (77%)] Data (t): 0.001 Batch (t): 0.816, 313.485/s, 313.485/s/gpu LR: 0.000054 Logit Scale: 99.388, Logit Bias: 0.000, Txt_img_0_0_loss: 0.75703 (0.57506) Txt_txt_0_1_loss: 0.13148 (0.18142) Weighted_mean_loss: 0.32205 (0.27116) Loss: 0.49190 (0.40067)\n",
            "2024-09-19,07:54:44 | INFO | Train Epoch: 2 [ 99840/100000 (100%)] Data (t): 0.001 Batch (t): 0.816, 314.382/s, 314.382/s/gpu LR: 0.000058 Logit Scale: 99.264, Logit Bias: 0.000, Txt_img_0_0_loss: 0.84152 (0.62835) Txt_txt_0_1_loss: 0.24618 (0.19437) Weighted_mean_loss: 0.43181 (0.30329) Loss: 0.59026 (0.43859)\n",
            "METRIC: epochTime=321;\n",
            "Uploading {'logs/model/checkpoints/epoch_2.pt'} to model/0caf76be-e045-4799-be7c-d42bf2255b78, current file: logs/model/checkpoints/epoch_3.pt\n",
            "Uploading files\n",
            "Uploading files from local to bucket fb1v8ftn-bucket\n",
            "2024-09-19,07:54:47 | INFO | Start epoch 3\n",
            "2024-09-19,07:54:50 | INFO | Train Epoch: 3 [   256/100000 (0%)] Data (t): 2.789 Batch (t): 3.663, 69.8972/s, 69.8972/s/gpu LR: 0.000059 Logit Scale: 99.261, Logit Bias: 0.000, Txt_img_0_0_loss: 0.49330 (0.49330) Txt_txt_0_1_loss: 0.17568 (0.17568) Weighted_mean_loss: 0.21096 (0.21096) Loss: 0.34331 (0.34331)\n",
            "2024-09-19,07:56:12 | INFO | Train Epoch: 3 [ 25856/100000 (26%)] Data (t): 0.001 Batch (t): 0.819, 313.711/s, 313.711/s/gpu LR: 0.000064 Logit Scale: 99.189, Logit Bias: 0.000, Txt_img_0_0_loss: 0.59349 (0.54339) Txt_txt_0_1_loss: 0.086873 (0.13128) Weighted_mean_loss: 0.28568 (0.24832) Loss: 0.38988 (0.36660)\n",
            "2024-09-19,07:57:34 | INFO | Train Epoch: 3 [ 51456/100000 (52%)] Data (t): 0.001 Batch (t): 0.816, 313.575/s, 313.575/s/gpu LR: 0.000069 Logit Scale: 98.980, Logit Bias: 0.000, Txt_img_0_0_loss: 0.71820 (0.60166) Txt_txt_0_1_loss: 0.23509 (0.16588) Weighted_mean_loss: 0.29483 (0.26383) Loss: 0.49158 (0.40826)\n",
            "2024-09-19,07:58:55 | INFO | Train Epoch: 3 [ 77056/100000 (77%)] Data (t): 0.001 Batch (t): 0.816, 313.868/s, 313.868/s/gpu LR: 0.000074 Logit Scale: 98.782, Logit Bias: 0.000, Txt_img_0_0_loss: 0.77909 (0.64602) Txt_txt_0_1_loss: 0.24622 (0.18596) Weighted_mean_loss: 0.35894 (0.28760) Loss: 0.54084 (0.44140)\n",
            "2024-09-19,08:00:08 | INFO | Train Epoch: 3 [ 99840/100000 (100%)] Data (t): 0.001 Batch (t): 0.816, 314.132/s, 314.132/s/gpu LR: 0.000078 Logit Scale: 98.621, Logit Bias: 0.000, Txt_img_0_0_loss: 0.79763 (0.67634) Txt_txt_0_1_loss: 0.11839 (0.17245) Weighted_mean_loss: 0.33294 (0.29667) Loss: 0.51165 (0.45545)\n",
            "METRIC: epochTime=321;\n",
            "Uploading {'logs/model/checkpoints/epoch_3.pt'} to model/0caf76be-e045-4799-be7c-d42bf2255b78, current file: logs/model/checkpoints/epoch_4.pt\n",
            "Uploading files\n",
            "Uploading files from local to bucket fb1v8ftn-bucket\n",
            "2024-09-19,08:00:10 | INFO | Start epoch 4\n",
            "2024-09-19,08:00:14 | INFO | Train Epoch: 4 [   256/100000 (0%)] Data (t): 2.784 Batch (t): 3.587, 71.3733/s, 71.3733/s/gpu LR: 0.000078 Logit Scale: 98.618, Logit Bias: 0.000, Txt_img_0_0_loss: 0.42933 (0.42933) Txt_txt_0_1_loss: 0.17114 (0.17114) Weighted_mean_loss: 0.16260 (0.16260) Loss: 0.29810 (0.29810)\n",
            "2024-09-19,08:01:35 | INFO | Train Epoch: 4 [ 25856/100000 (26%)] Data (t): 0.001 Batch (t): 0.818, 313.620/s, 313.620/s/gpu LR: 0.000083 Logit Scale: 98.520, Logit Bias: 0.000, Txt_img_0_0_loss: 0.54111 (0.48522) Txt_txt_0_1_loss: 0.13370 (0.15242) Weighted_mean_loss: 0.19790 (0.18025) Loss: 0.35346 (0.32578)\n",
            "2024-09-19,08:02:57 | INFO | Train Epoch: 4 [ 51456/100000 (52%)] Data (t): 0.001 Batch (t): 0.816, 313.778/s, 313.778/s/gpu LR: 0.000088 Logit Scale: 98.244, Logit Bias: 0.000, Txt_img_0_0_loss: 0.64601 (0.53882) Txt_txt_0_1_loss: 0.20463 (0.16982) Weighted_mean_loss: 0.24525 (0.20192) Loss: 0.43548 (0.36234)\n",
            "2024-09-19,08:04:19 | INFO | Train Epoch: 4 [ 77056/100000 (77%)] Data (t): 0.000 Batch (t): 0.816, 313.280/s, 313.280/s/gpu LR: 0.000093 Logit Scale: 98.025, Logit Bias: 0.000, Txt_img_0_0_loss: 0.76626 (0.59568) Txt_txt_0_1_loss: 0.21673 (0.18155) Weighted_mean_loss: 0.29082 (0.22414) Loss: 0.51002 (0.39926)\n",
            "2024-09-19,08:05:31 | INFO | Train Epoch: 4 [ 99840/100000 (100%)] Data (t): 0.001 Batch (t): 0.816, 314.481/s, 314.481/s/gpu LR: 0.000097 Logit Scale: 97.813, Logit Bias: 0.000, Txt_img_0_0_loss: 0.88408 (0.65336) Txt_txt_0_1_loss: 0.15302 (0.17584) Weighted_mean_loss: 0.33994 (0.24730) Loss: 0.56528 (0.43247)\n",
            "METRIC: epochTime=321;\n",
            "Uploading {'logs/model/checkpoints/epoch_4.pt'} to model/0caf76be-e045-4799-be7c-d42bf2255b78, current file: logs/model/checkpoints/epoch_5.pt\n",
            "Uploading files\n",
            "Uploading files from local to bucket fb1v8ftn-bucket\n",
            "I0919 08:05:33.855009 140107797256000 torch/_dynamo/utils.py:335] TorchDynamo compilation metrics:\n",
            "I0919 08:05:33.855009 140107797256000 torch/_dynamo/utils.py:335] Function, Runtimes (s)\n",
            "2024-09-19 08:06:13,414 - INFO - Final metrics pushed\n",
            "2024-09-19 08:06:13,414 - INFO - Task executed successfully\n",
            "Ready\n",
            "Model creation completed. Model ID: 0caf76be-e045-4799-be7c-d42bf2255b78\n"
          ]
        }
      ]
    },
    {
      "cell_type": "markdown",
      "source": [
        "Note, the logs contain information about the training process. Here’s an example:\n",
        "\n",
        "```python\n",
        "1721298452795 2024-07-18 10:27:32,795 - INFO - 2024-07-18T10:27:22.521705828Z 2024-07-18,10:27:22 | INFO | Train Epoch: 0 [   256/100000 (0%)] Data (t): 1.996 Batch (t): 6.086, 42.0608/s, 42.0608/s/gpu LR: 0.000000 Logit Scale: 100.003, Logit Bias: 0.000, Txt_img_0_0_loss: 1.5323 (1.5323) Txt_txt_0_1_loss: 2.2189 (2.2189) Weighted_mean_loss: 1.1285 (1.1285) Loss: 1.6030 (1.6030)\n",
        "1721298602882 2024-07-18 10:30:02,882 - INFO - 2024-07-18T10:29:57.309371399Z 2024-07-18,10:29:57 | INFO | Train Epoch: 0 [ 25856/100000 (26%)] Data (t): 0.742 Batch (t): 1.548, 160.529/s, 160.529/s/gpu LR: 0.000005 Logit Scale: 99.984, Logit Bias: 0.000, Txt_img_0_0_loss: 0.89163 (1.2119) Txt_txt_0_1_loss: 0.40258 (1.3107) Weighted_mean_loss: 0.61996 (0.87425) Loss: 0.70145 (1.1522)\n",
        "1721298762976 2024-07-18 10:32:42,975 - INFO - 2024-07-18T10:32:34.148183677Z 2024-07-18,10:32:34 | INFO | Train Epoch: 0 [ 51456/100000 (52%)] Data (t): 0.766 Batch (t): 1.568, 161.327/s, 161.327/s/gpu LR: 0.000010 Logit Scale: 99.969, Logit Bias: 0.000, Txt_img_0_0_loss: 0.89120 (1.1050) Txt_txt_0_1_loss: 0.32536 (0.98227) Weighted_mean_loss: 0.66933 (0.80594) Loss: 0.69427 (0.99957)\n",
        "1721298913063 2024-07-18 10:35:13,063 - INFO - 2024-07-18T10:35:10.632618682Z 2024-07-18,10:35:10 | INFO | Train Epoch: 0 [ 77056/100000 (77%)] Data (t): 0.762 Batch (t): 1.565, 167.016/s, 167.016/s/gpu LR: 0.000015 Logit Scale: 99.943, Logit Bias: 0.000, Txt_img_0_0_loss: 1.0737 (1.0972) Txt_txt_0_1_loss: 0.36037 (0.82679) Weighted_mean_loss: 0.74134 (0.78979) Loss: 0.81226 (0.95274)\n",
        "1721299053145 2024-07-18 10:37:33,145 - INFO - 2024-07-18T10:37:29.910381986Z 2024-07-18,10:37:29 | INFO | Train Epoch: 0 [ 99840/100000 (100%)] Data (t): 0.762 Batch (t): 1.565, 165.425/s, 165.425/s/gpu LR: 0.000019 Logit Scale: 99.911, Logit Bias: 0.000, Txt_img_0_0_loss: 0.97796 (1.0733) Txt_txt_0_1_loss: 0.27951 (0.71734) Weighted_mean_loss: 0.60969 (0.75377) Loss: 0.71128 (0.90445)\n",
        "```\n",
        "\n",
        "We see here information about the epoch, data, batch, logit scale, logit bias, text-image loss, text-text loss, weighted mean loss and loss."
      ],
      "metadata": {
        "id": "NZKiIINTUteN"
      }
    },
    {
      "cell_type": "markdown",
      "source": [
        "### **5. Evaluation**"
      ],
      "metadata": {
        "id": "hY2f1_p5Vboa"
      }
    },
    {
      "cell_type": "markdown",
      "source": [
        "Once we've successfully tuned the model we will want to be able to quantify the performance of the tuned model against the baseline set by the original base model. To do this we can get Marqtune to use the evaluation dataset to run a an evaluation on the original base model to establish a baseline and then a subsequent evaluation with the same dataset on the last checkpoint generated by our freshly tuned model.\n",
        "\n",
        "Finally, we will print out the results of each evaluation which should show the tuned model returning better performance numbers than the base model."
      ],
      "metadata": {
        "id": "S_nHDCYqUy7b"
      }
    },
    {
      "cell_type": "code",
      "source": [
        "eval_params = {\n",
        "    \"leftKeys\": [\"query\"],\n",
        "    \"leftWeights\": [1],\n",
        "    \"rightKeys\": [\"image\", \"title\"],\n",
        "    \"rightWeights\": [0.9, 0.1],\n",
        "    \"weightKey\": \"score\",\n",
        "}"
      ],
      "metadata": {
        "id": "-BKvi53YwRVa"
      },
      "execution_count": 10,
      "outputs": []
    },
    {
      "cell_type": "code",
      "source": [
        "print(\"Evaluating the base model:\")\n",
        "base_model_eval = marqtune_client.evaluate(\n",
        "    dataset_id=eval_dataset.dataset_id,\n",
        "    model=f\"Marqo/{base_model}.{base_checkpoint}\",\n",
        "    hyperparameters=eval_params,\n",
        "    wait_for_completion=True,\n",
        ")\n",
        "\n",
        "print(\"Evaluating the tuned model:\")\n",
        "tuned_model_id = tuned_model.model_id\n",
        "tuned_checkpoint = tuned_model.describe()[\"checkpoints\"][-1]\n",
        "tuned_model_eval = marqtune_client.evaluate(\n",
        "    dataset_id=eval_dataset.dataset_id,\n",
        "    model=f\"{tuned_model_id}/{tuned_checkpoint}\",\n",
        "    hyperparameters=eval_params,\n",
        "    wait_for_completion=True,\n",
        ")"
      ],
      "metadata": {
        "colab": {
          "base_uri": "https://localhost:8080/"
        },
        "id": "wbaSePEQwU8I",
        "outputId": "6362d1d5-107a-4cf0-a24f-0fdd4d3ddc9a"
      },
      "execution_count": 12,
      "outputs": [
        {
          "output_type": "stream",
          "name": "stdout",
          "text": [
            "Evaluating the base model:\n",
            "Evaluation was initialised. Evaluation ID: d45e9613-37a1-4355-b9da-666ee1370d19\n",
            "Initializing.\n",
            "Running: Provisioning.\n",
            "Running\n",
            "2024-09-19 08:18:12,862 - INFO - Initialising task\n",
            "2024-09-19 08:18:12,933 - INFO - Downloading files for task d45e9613-37a1-4355-b9da-666ee1370d19\n",
            "2024-09-19 08:18:38,579 - INFO - File download is completed\n",
            "INFO:root:ViT-B-32 laion400m_e31\n",
            "INFO:root:Loaded ViT-B-32 model config.\n",
            "100%|████████████████████████████████████████| 605M/605M [00:01<00:00, 459MiB/s]\n",
            "INFO:root:Loading pretrained ViT-B-32 weights (laion400m_e31).\n",
            "INFO:root:loading df test\n",
            "INFO:root:       docid  ...                                          query_id\n",
            "0          1  ...                      Boys' fitness shorts_{!@#~}_\n",
            "1          2  ...               Girls Soccer Training Shoes_{!@#~}_\n",
            "2          3  ...                      pink toddler warmers_{!@#~}_\n",
            "3          4  ...                        Control Top Tights_{!@#~}_\n",
            "4          5  ...                          Espresso devices_{!@#~}_\n",
            "...      ...  ...                                               ...\n",
            "24995  24996  ...  Water Bottle Side Pockets Kids Backpacks_{!@#~}_\n",
            "24996  24997  ...                  Handmade beeswax candles_{!@#~}_\n",
            "24997  24998  ...                           stylish buckles_{!@#~}_\n",
            "24998  24999  ...            Novelty School Belts for Girls_{!@#~}_\n",
            "24999  25000  ...                         Roll Storage Case_{!@#~}_\n",
            "[25000 rows x 4 columns]\n",
            "100%|██████████| 2/2 [01:05<00:00, 32.80s/it]\n",
            "100%|██████████| 49/49 [01:32<00:00,  1.89s/it]\n",
            "INFO:root:torch.Size([25000, 512]) torch.float32\n",
            "INFO:root:Computing Ground Truth\n",
            "100%|██████████| 1000/1000 [00:00<00:00, 1068.46it/s]\n",
            "INFO:root:Running Retrieval\n",
            "1000it [00:02, 426.01it/s]\n",
            "INFO:root:Evaluation Starts\n",
            "INFO:root:For evaluation, we ignore identical query and document ids (default), please explicitly set ``ignore_identical_ids=False`` to ignore this.\n",
            "INFO:root:\n",
            "INFO:root:NDCG@1: 0.1411\n",
            "INFO:root:NDCG@2: 0.1762\n",
            "INFO:root:NDCG@3: 0.2017\n",
            "INFO:root:NDCG@4: 0.2198\n",
            "INFO:root:NDCG@5: 0.2349\n",
            "INFO:root:NDCG@6: 0.2468\n",
            "INFO:root:NDCG@8: 0.2611\n",
            "INFO:root:NDCG@10: 0.2747\n",
            "INFO:root:NDCG@12: 0.2843\n",
            "INFO:root:NDCG@20: 0.3047\n",
            "INFO:root:NDCG@30: 0.3179\n",
            "INFO:root:NDCG@40: 0.3273\n",
            "INFO:root:NDCG@50: 0.3350\n",
            "INFO:root:NDCG@60: 0.3408\n",
            "INFO:root:NDCG@70: 0.3455\n",
            "INFO:root:NDCG@80: 0.3479\n",
            "INFO:root:NDCG@90: 0.3521\n",
            "INFO:root:NDCG@100: 0.3549\n",
            "INFO:root:NDCG@200: 0.3647\n",
            "INFO:root:NDCG@500: 0.3723\n",
            "INFO:root:NDCG@1000: 0.3755\n",
            "INFO:root:\n",
            "INFO:root:MAP@1: 0.1214\n",
            "INFO:root:MAP@2: 0.1608\n",
            "INFO:root:MAP@3: 0.1787\n",
            "INFO:root:MAP@4: 0.1891\n",
            "INFO:root:MAP@5: 0.1972\n",
            "INFO:root:MAP@6: 0.2034\n",
            "INFO:root:MAP@8: 0.2096\n",
            "INFO:root:MAP@10: 0.2146\n",
            "INFO:root:MAP@12: 0.2182\n",
            "INFO:root:MAP@20: 0.2244\n",
            "INFO:root:MAP@30: 0.2273\n",
            "INFO:root:MAP@40: 0.2290\n",
            "INFO:root:MAP@50: 0.2300\n",
            "INFO:root:MAP@60: 0.2307\n",
            "INFO:root:MAP@70: 0.2313\n",
            "INFO:root:MAP@80: 0.2315\n",
            "INFO:root:MAP@90: 0.2319\n",
            "INFO:root:MAP@100: 0.2321\n",
            "INFO:root:MAP@200: 0.2327\n",
            "INFO:root:MAP@500: 0.2330\n",
            "INFO:root:MAP@1000: 0.2330\n",
            "INFO:root:\n",
            "INFO:root:Recall@1: 0.1214\n",
            "INFO:root:Recall@2: 0.1922\n",
            "INFO:root:Recall@3: 0.2401\n",
            "INFO:root:Recall@4: 0.2779\n",
            "INFO:root:Recall@5: 0.3165\n",
            "INFO:root:Recall@6: 0.3481\n",
            "INFO:root:Recall@8: 0.3888\n",
            "INFO:root:Recall@10: 0.4310\n",
            "INFO:root:Recall@12: 0.4649\n",
            "INFO:root:Recall@20: 0.5472\n",
            "INFO:root:Recall@30: 0.6087\n",
            "INFO:root:Recall@40: 0.6541\n",
            "INFO:root:Recall@50: 0.6942\n",
            "INFO:root:Recall@60: 0.7258\n",
            "INFO:root:Recall@70: 0.7560\n",
            "INFO:root:Recall@80: 0.7712\n",
            "INFO:root:Recall@90: 0.7969\n",
            "INFO:root:Recall@100: 0.8137\n",
            "INFO:root:Recall@200: 0.8823\n",
            "INFO:root:Recall@500: 0.9445\n",
            "INFO:root:Recall@1000: 0.9698\n",
            "INFO:root:\n",
            "INFO:root:P@1: 0.1550\n",
            "INFO:root:P@2: 0.1255\n",
            "INFO:root:P@3: 0.1050\n",
            "INFO:root:P@4: 0.0915\n",
            "INFO:root:P@5: 0.0824\n",
            "INFO:root:P@6: 0.0760\n",
            "INFO:root:P@8: 0.0640\n",
            "INFO:root:P@10: 0.0568\n",
            "INFO:root:P@12: 0.0512\n",
            "INFO:root:P@20: 0.0362\n",
            "INFO:root:P@30: 0.0269\n",
            "INFO:root:P@40: 0.0218\n",
            "INFO:root:P@50: 0.0184\n",
            "INFO:root:P@60: 0.0161\n",
            "INFO:root:P@70: 0.0143\n",
            "INFO:root:P@80: 0.0128\n",
            "INFO:root:P@90: 0.0117\n",
            "INFO:root:P@100: 0.0108\n",
            "INFO:root:P@200: 0.0058\n",
            "INFO:root:P@500: 0.0025\n",
            "INFO:root:P@1000: 0.0013\n",
            "INFO:root:\n",
            "INFO:root:MRR@1: 0.1550\n",
            "INFO:root:MRR@2: 0.1950\n",
            "INFO:root:MRR@3: 0.2120\n",
            "INFO:root:MRR@4: 0.2223\n",
            "INFO:root:MRR@5: 0.2306\n",
            "INFO:root:MRR@6: 0.2361\n",
            "INFO:root:MRR@8: 0.2422\n",
            "INFO:root:MRR@10: 0.2470\n",
            "INFO:root:MRR@12: 0.2498\n",
            "INFO:root:MRR@20: 0.2547\n",
            "INFO:root:MRR@30: 0.2573\n",
            "INFO:root:MRR@40: 0.2584\n",
            "INFO:root:MRR@50: 0.2592\n",
            "INFO:root:MRR@60: 0.2597\n",
            "INFO:root:MRR@70: 0.2601\n",
            "INFO:root:MRR@80: 0.2603\n",
            "INFO:root:MRR@90: 0.2606\n",
            "INFO:root:MRR@100: 0.2607\n",
            "INFO:root:MRR@200: 0.2612\n",
            "INFO:root:MRR@500: 0.2614\n",
            "INFO:root:MRR@1000: 0.2614\n",
            "INFO:root:\n",
            "INFO:root:Hole@1: 0.7900\n",
            "INFO:root:Hole@2: 0.8215\n",
            "INFO:root:Hole@3: 0.8460\n",
            "INFO:root:Hole@4: 0.8588\n",
            "INFO:root:Hole@5: 0.8678\n",
            "INFO:root:Hole@6: 0.8750\n",
            "INFO:root:Hole@8: 0.8882\n",
            "INFO:root:Hole@10: 0.8917\n",
            "INFO:root:Hole@12: 0.8970\n",
            "INFO:root:Hole@20: 0.9119\n",
            "INFO:root:Hole@30: 0.9204\n",
            "INFO:root:Hole@40: 0.9254\n",
            "INFO:root:Hole@50: 0.9290\n",
            "INFO:root:Hole@60: 0.9321\n",
            "INFO:root:Hole@70: 0.9343\n",
            "INFO:root:Hole@80: 0.9358\n",
            "INFO:root:Hole@90: 0.9370\n",
            "INFO:root:Hole@100: 0.9377\n",
            "INFO:root:Hole@200: 0.9422\n",
            "INFO:root:Hole@500: 0.9449\n",
            "INFO:root:Hole@1000: 0.9460\n",
            "INFO:root:\n",
            "INFO:root:Accuracy@1: 0.1550\n",
            "INFO:root:Accuracy@2: 0.2350\n",
            "INFO:root:Accuracy@3: 0.2860\n",
            "INFO:root:Accuracy@4: 0.3270\n",
            "INFO:root:Accuracy@5: 0.3690\n",
            "INFO:root:Accuracy@6: 0.4020\n",
            "INFO:root:Accuracy@8: 0.4470\n",
            "INFO:root:Accuracy@10: 0.4930\n",
            "INFO:root:Accuracy@12: 0.5240\n",
            "INFO:root:Accuracy@20: 0.6010\n",
            "INFO:root:Accuracy@30: 0.6650\n",
            "INFO:root:Accuracy@40: 0.7050\n",
            "INFO:root:Accuracy@50: 0.7430\n",
            "INFO:root:Accuracy@60: 0.7690\n",
            "INFO:root:Accuracy@70: 0.7950\n",
            "INFO:root:Accuracy@80: 0.8100\n",
            "INFO:root:Accuracy@90: 0.8310\n",
            "INFO:root:Accuracy@100: 0.8470\n",
            "INFO:root:Accuracy@200: 0.9080\n",
            "INFO:root:Accuracy@500: 0.9610\n",
            "INFO:root:Accuracy@1000: 0.9760\n",
            "INFO:root:Measure ERR\n",
            "100%|██████████| 1000/1000 [00:00<00:00, 1110.18it/s]\n",
            "INFO:root:{'mAP@1000': [0.23304], 'mrr@1000': [0.26141], 'NDCG@10': [0.27474], 'mERR': 0.22895879258957913, 'mRBP7': 0.08243739449739396, 'mRBP8': 0.06657576973339482, 'mRBP9': 0.04435379069345453}\n",
            "INFO:root:   mAP@1000  mrr@1000  NDCG@10      mERR     mRBP7     mRBP8     mRBP9\n",
            "0   0.23304   0.26141  0.27474  0.228959  0.082437  0.066576  0.044354\n",
            "2024-09-19 08:24:48,999 - INFO - Final metrics pushed\n",
            "2024-09-19 08:24:48,999 - INFO - Task executed successfully\n",
            "Finished\n",
            "Evaluation completed. Evaluation ID: d45e9613-37a1-4355-b9da-666ee1370d19\n",
            "Evaluating the tuned model:\n",
            "Evaluation was initialised. Evaluation ID: b509b89c-2cc1-414e-987f-3ae37429477f\n",
            "Initializing.\n",
            "Running: Provisioning.\n",
            "Running\n",
            "2024-09-19 08:28:36,037 - INFO - Initialising task\n",
            "2024-09-19 08:28:36,109 - INFO - Downloading files for task b509b89c-2cc1-414e-987f-3ae37429477f\n",
            "2024-09-19 08:28:45,863 - INFO - File download is completed\n",
            "2024-09-19 08:28:45,934 - INFO - Downloading files for task b509b89c-2cc1-414e-987f-3ae37429477f\n",
            "2024-09-19 08:29:10,131 - INFO - File download is completed\n",
            "INFO:root:ViT-B-32 /app/src/model/epoch_5.pt\n",
            "INFO:root:Loaded ViT-B-32 model config.\n",
            "INFO:root:Loading pretrained ViT-B-32 weights (/app/src/model/epoch_5.pt).\n",
            "INFO:root:loading df test\n",
            "INFO:root:       docid  ...                                          query_id\n",
            "0          1  ...                      Boys' fitness shorts_{!@#~}_\n",
            "1          2  ...               Girls Soccer Training Shoes_{!@#~}_\n",
            "2          3  ...                      pink toddler warmers_{!@#~}_\n",
            "3          4  ...                        Control Top Tights_{!@#~}_\n",
            "4          5  ...                          Espresso devices_{!@#~}_\n",
            "...      ...  ...                                               ...\n",
            "24995  24996  ...  Water Bottle Side Pockets Kids Backpacks_{!@#~}_\n",
            "24996  24997  ...                  Handmade beeswax candles_{!@#~}_\n",
            "24997  24998  ...                           stylish buckles_{!@#~}_\n",
            "24998  24999  ...            Novelty School Belts for Girls_{!@#~}_\n",
            "24999  25000  ...                         Roll Storage Case_{!@#~}_\n",
            "[25000 rows x 4 columns]\n",
            "100%|██████████| 2/2 [00:55<00:00, 27.56s/it]\n",
            "100%|██████████| 49/49 [01:27<00:00,  1.78s/it]\n",
            "INFO:root:torch.Size([25000, 512]) torch.float32\n",
            "INFO:root:Computing Ground Truth\n",
            "100%|██████████| 1000/1000 [00:00<00:00, 1035.11it/s]\n",
            "INFO:root:Running Retrieval\n",
            "1000it [00:02, 441.66it/s]\n",
            "INFO:root:Evaluation Starts\n",
            "INFO:root:For evaluation, we ignore identical query and document ids (default), please explicitly set ``ignore_identical_ids=False`` to ignore this.\n",
            "INFO:root:\n",
            "INFO:root:NDCG@1: 0.1352\n",
            "INFO:root:NDCG@2: 0.1738\n",
            "INFO:root:NDCG@3: 0.2074\n",
            "INFO:root:NDCG@4: 0.2274\n",
            "INFO:root:NDCG@5: 0.2437\n",
            "INFO:root:NDCG@6: 0.2563\n",
            "INFO:root:NDCG@8: 0.2793\n",
            "INFO:root:NDCG@10: 0.2940\n",
            "INFO:root:NDCG@12: 0.3078\n",
            "INFO:root:NDCG@20: 0.3350\n",
            "INFO:root:NDCG@30: 0.3542\n",
            "INFO:root:NDCG@40: 0.3625\n",
            "INFO:root:NDCG@50: 0.3679\n",
            "INFO:root:NDCG@60: 0.3718\n",
            "INFO:root:NDCG@70: 0.3756\n",
            "INFO:root:NDCG@80: 0.3795\n",
            "INFO:root:NDCG@90: 0.3817\n",
            "INFO:root:NDCG@100: 0.3833\n",
            "INFO:root:NDCG@200: 0.3908\n",
            "INFO:root:NDCG@500: 0.3957\n",
            "INFO:root:NDCG@1000: 0.3965\n",
            "INFO:root:\n",
            "INFO:root:MAP@1: 0.1129\n",
            "INFO:root:MAP@2: 0.1561\n",
            "INFO:root:MAP@3: 0.1790\n",
            "INFO:root:MAP@4: 0.1909\n",
            "INFO:root:MAP@5: 0.2000\n",
            "INFO:root:MAP@6: 0.2062\n",
            "INFO:root:MAP@8: 0.2164\n",
            "INFO:root:MAP@10: 0.2224\n",
            "INFO:root:MAP@12: 0.2274\n",
            "INFO:root:MAP@20: 0.2358\n",
            "INFO:root:MAP@30: 0.2400\n",
            "INFO:root:MAP@40: 0.2414\n",
            "INFO:root:MAP@50: 0.2421\n",
            "INFO:root:MAP@60: 0.2426\n",
            "INFO:root:MAP@70: 0.2430\n",
            "INFO:root:MAP@80: 0.2434\n",
            "INFO:root:MAP@90: 0.2436\n",
            "INFO:root:MAP@100: 0.2437\n",
            "INFO:root:MAP@200: 0.2442\n",
            "INFO:root:MAP@500: 0.2444\n",
            "INFO:root:MAP@1000: 0.2444\n",
            "INFO:root:\n",
            "INFO:root:Recall@1: 0.1129\n",
            "INFO:root:Recall@2: 0.1934\n",
            "INFO:root:Recall@3: 0.2591\n",
            "INFO:root:Recall@4: 0.3035\n",
            "INFO:root:Recall@5: 0.3448\n",
            "INFO:root:Recall@6: 0.3771\n",
            "INFO:root:Recall@8: 0.4434\n",
            "INFO:root:Recall@10: 0.4912\n",
            "INFO:root:Recall@12: 0.5393\n",
            "INFO:root:Recall@20: 0.6470\n",
            "INFO:root:Recall@30: 0.7341\n",
            "INFO:root:Recall@40: 0.7759\n",
            "INFO:root:Recall@50: 0.8014\n",
            "INFO:root:Recall@60: 0.8236\n",
            "INFO:root:Recall@70: 0.8464\n",
            "INFO:root:Recall@80: 0.8689\n",
            "INFO:root:Recall@90: 0.8837\n",
            "INFO:root:Recall@100: 0.8930\n",
            "INFO:root:Recall@200: 0.9448\n",
            "INFO:root:Recall@500: 0.9837\n",
            "INFO:root:Recall@1000: 0.9915\n",
            "INFO:root:\n",
            "INFO:root:P@1: 0.1450\n",
            "INFO:root:P@2: 0.1270\n",
            "INFO:root:P@3: 0.1123\n",
            "INFO:root:P@4: 0.0985\n",
            "INFO:root:P@5: 0.0896\n",
            "INFO:root:P@6: 0.0823\n",
            "INFO:root:P@8: 0.0730\n",
            "INFO:root:P@10: 0.0650\n",
            "INFO:root:P@12: 0.0593\n",
            "INFO:root:P@20: 0.0427\n",
            "INFO:root:P@30: 0.0322\n",
            "INFO:root:P@40: 0.0255\n",
            "INFO:root:P@50: 0.0212\n",
            "INFO:root:P@60: 0.0181\n",
            "INFO:root:P@70: 0.0159\n",
            "INFO:root:P@80: 0.0143\n",
            "INFO:root:P@90: 0.0130\n",
            "INFO:root:P@100: 0.0118\n",
            "INFO:root:P@200: 0.0062\n",
            "INFO:root:P@500: 0.0026\n",
            "INFO:root:P@1000: 0.0013\n",
            "INFO:root:\n",
            "INFO:root:MRR@1: 0.1440\n",
            "INFO:root:MRR@2: 0.1925\n",
            "INFO:root:MRR@3: 0.2178\n",
            "INFO:root:MRR@4: 0.2303\n",
            "INFO:root:MRR@5: 0.2393\n",
            "INFO:root:MRR@6: 0.2450\n",
            "INFO:root:MRR@8: 0.2543\n",
            "INFO:root:MRR@10: 0.2594\n",
            "INFO:root:MRR@12: 0.2632\n",
            "INFO:root:MRR@20: 0.2691\n",
            "INFO:root:MRR@30: 0.2724\n",
            "INFO:root:MRR@40: 0.2735\n",
            "INFO:root:MRR@50: 0.2740\n",
            "INFO:root:MRR@60: 0.2744\n",
            "INFO:root:MRR@70: 0.2747\n",
            "INFO:root:MRR@80: 0.2749\n",
            "INFO:root:MRR@90: 0.2751\n",
            "INFO:root:MRR@100: 0.2752\n",
            "INFO:root:MRR@200: 0.2754\n",
            "INFO:root:MRR@500: 0.2756\n",
            "INFO:root:MRR@1000: 0.2756\n",
            "INFO:root:\n",
            "INFO:root:Hole@1: 0.8050\n",
            "INFO:root:Hole@2: 0.8190\n",
            "INFO:root:Hole@3: 0.8343\n",
            "INFO:root:Hole@4: 0.8480\n",
            "INFO:root:Hole@5: 0.8584\n",
            "INFO:root:Hole@6: 0.8662\n",
            "INFO:root:Hole@8: 0.8761\n",
            "INFO:root:Hole@10: 0.8843\n",
            "INFO:root:Hole@12: 0.8899\n",
            "INFO:root:Hole@20: 0.9052\n",
            "INFO:root:Hole@30: 0.9164\n",
            "INFO:root:Hole@40: 0.9237\n",
            "INFO:root:Hole@50: 0.9278\n",
            "INFO:root:Hole@60: 0.9306\n",
            "INFO:root:Hole@70: 0.9327\n",
            "INFO:root:Hole@80: 0.9340\n",
            "INFO:root:Hole@90: 0.9362\n",
            "INFO:root:Hole@100: 0.9375\n",
            "INFO:root:Hole@200: 0.9421\n",
            "INFO:root:Hole@500: 0.9455\n",
            "INFO:root:Hole@1000: 0.9465\n",
            "INFO:root:\n",
            "INFO:root:Accuracy@1: 0.1440\n",
            "INFO:root:Accuracy@2: 0.2410\n",
            "INFO:root:Accuracy@3: 0.3170\n",
            "INFO:root:Accuracy@4: 0.3670\n",
            "INFO:root:Accuracy@5: 0.4120\n",
            "INFO:root:Accuracy@6: 0.4460\n",
            "INFO:root:Accuracy@8: 0.5160\n",
            "INFO:root:Accuracy@10: 0.5630\n",
            "INFO:root:Accuracy@12: 0.6070\n",
            "INFO:root:Accuracy@20: 0.7000\n",
            "INFO:root:Accuracy@30: 0.7800\n",
            "INFO:root:Accuracy@40: 0.8180\n",
            "INFO:root:Accuracy@50: 0.8430\n",
            "INFO:root:Accuracy@60: 0.8640\n",
            "INFO:root:Accuracy@70: 0.8860\n",
            "INFO:root:Accuracy@80: 0.9020\n",
            "INFO:root:Accuracy@90: 0.9150\n",
            "INFO:root:Accuracy@100: 0.9220\n",
            "INFO:root:Accuracy@200: 0.9620\n",
            "INFO:root:Accuracy@500: 0.9900\n",
            "INFO:root:Accuracy@1000: 0.9950\n",
            "INFO:root:Measure ERR\n",
            "100%|██████████| 1000/1000 [00:00<00:00, 1109.72it/s]\n",
            "INFO:root:{'mAP@1000': [0.24443], 'mrr@1000': [0.27556], 'NDCG@10': [0.29399], 'mERR': 0.24092820349732966, 'mRBP7': 0.08635987407997228, 'mRBP8': 0.07158387059136286, 'mRBP9': 0.0494858323718516}\n",
            "INFO:root:   mAP@1000  mrr@1000  NDCG@10      mERR    mRBP7     mRBP8     mRBP9\n",
            "0   0.24443   0.27556  0.29399  0.240928  0.08636  0.071584  0.049486\n",
            "2024-09-19 08:34:35,636 - INFO - Final metrics pushed\n",
            "2024-09-19 08:34:35,636 - INFO - Task executed successfully\n",
            "Finished\n",
            "Evaluation completed. Evaluation ID: b509b89c-2cc1-414e-987f-3ae37429477f\n"
          ]
        }
      ]
    },
    {
      "cell_type": "code",
      "source": [
        "# convenience function to inspect evaluation logs and extract the results\n",
        "def print_eval_results(description, evaluation):\n",
        "    results = next(\n",
        "        (\n",
        "            json.loads(log[\"message\"][index:].replace(\"'\", '\"'))\n",
        "            for log in evaluation.logs()[-10:]\n",
        "            if (index := log[\"message\"].find(\"{'mAP@1000': \")) != -1\n",
        "        ),\n",
        "        None,\n",
        "    )\n",
        "    print(description)\n",
        "    print(json.dumps(results, indent=4))\n",
        "\n",
        "\n",
        "print_eval_results(\"Evaluation results from base model:\", base_model_eval)\n",
        "print_eval_results(\"Evaluation results from tuned model:\", tuned_model_eval)"
      ],
      "metadata": {
        "id": "WerYYEacwYwA"
      },
      "execution_count": null,
      "outputs": []
    },
    {
      "cell_type": "markdown",
      "source": [
        "Again, we've chosen a minimal set of hyperparameters for the evaluation tasks, and you can read about these in the [Evaluation Parameters documentation](https://docs.marqo.ai/2.10/Marqtune/API/evaluation/evaluation_parameters/).\n",
        "\n",
        "Due to the inherent stochasticity of training and evaluation the results you see will likely be different from our measurements, but you should see improvements similar to the measurements below (higher numbers are better)."
      ],
      "metadata": {
        "id": "XP5kAtaYU728"
      }
    },
    {
      "cell_type": "markdown",
      "source": [
        "Picking out one of the above metrics: NDCG@10 (Normalized Discounted Cumulative Gain - a measure of the ranking and retrieval quality of the model by comparing top 10 model retrievals with the ground truth) we can see our tuned model performed better than the base model. Similarly, the other metrics also show consistent improvements. Refer to our blog post on [Generalised Contrastive Learning for Multimodal Retrieval and Ranking](https://www.marqo.ai/blog/generalized-contrastive-learning-for-multi-modal-retrieval-and-ranking) for more information as well as an explanation of each of the metrics above."
      ],
      "metadata": {
        "id": "PgDOHEeCU-33"
      }
    },
    {
      "cell_type": "markdown",
      "source": [
        "### **6. Download and Cleanup**"
      ],
      "metadata": {
        "id": "79NAuN10VngO"
      }
    },
    {
      "cell_type": "markdown",
      "source": [
        "At this point, you can download the model to your local disk:"
      ],
      "metadata": {
        "id": "Iysh9bsfVuJN"
      }
    },
    {
      "cell_type": "code",
      "source": [
        "tuned_model.download()"
      ],
      "metadata": {
        "id": "sBpZefDCSZGL"
      },
      "execution_count": null,
      "outputs": []
    },
    {
      "cell_type": "markdown",
      "source": [
        "From here you can choose to [create a Marqo index with this custom model](https://gh-previews.marqo.pages.dev/marqtune_walkthrough/Guides/Models-Reference/bring_your_own_model/#3-use-your-model-in-marqo).\n",
        "\n",
        "Finally, you can choose to (optionally) clean up your generated resources:"
      ],
      "metadata": {
        "id": "brQaGrhrVwZJ"
      }
    },
    {
      "cell_type": "code",
      "source": [
        "training_dataset.delete()\n",
        "eval_dataset.delete()\n",
        "tuned_model.delete()\n",
        "base_model_eval.delete()\n",
        "tuned_model_eval.delete()"
      ],
      "metadata": {
        "id": "zZG_kYvTSUps"
      },
      "execution_count": null,
      "outputs": []
    },
    {
      "cell_type": "markdown",
      "source": [
        "### **Conclusion**"
      ],
      "metadata": {
        "id": "0UEsoiCTV3ts"
      }
    },
    {
      "cell_type": "markdown",
      "source": [
        "This notebook has guided you through the process of fine-tuning a base open clip model using a multi-modal training dataset with Marqtune. We evaluated the performance of this newly fine-tuned model and found significant improvements when compared to the base model. [Marqtune](https://cloud.marqo.ai/) can be used to fine-tune a variety of different models—try it yourself, today!"
      ],
      "metadata": {
        "id": "Hnm0T_V0V6kL"
      }
    },
    {
      "cell_type": "markdown",
      "source": [
        "### **Code**"
      ],
      "metadata": {
        "id": "c63eGlW6WBky"
      }
    },
    {
      "cell_type": "markdown",
      "source": [
        "You can find this code on our GitHub [here](https://github.com/marqo-ai/marqtune-examples/)."
      ],
      "metadata": {
        "id": "mQlT0elxWD-I"
      }
    }
  ]
}