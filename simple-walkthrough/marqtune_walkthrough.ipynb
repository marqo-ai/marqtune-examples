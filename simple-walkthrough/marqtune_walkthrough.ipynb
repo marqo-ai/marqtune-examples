{
  "cells": [
    {
      "cell_type": "markdown",
      "metadata": {},
      "source": [
        "[![Open in Colab](https://colab.research.google.com/assets/colab-badge.svg)](https://colab.research.google.com/drive/132QX_LM1db0huNpN41Vg62otSfcNuJu6?usp=sharing)"
      ]
    },
    {
      "cell_type": "markdown",
      "metadata": {
        "id": "dm44RZLWSBm9"
      },
      "source": [
        "# **Getting Started with Marqtune - A Guided Walkthrough**"
      ]
    },
    {
      "cell_type": "markdown",
      "metadata": {
        "id": "6E6bjsFcSalc"
      },
      "source": [
        "This notebook contains information on how to get up and running with [Marqtune](https://cloud.marqo.ai/marqtune/), the embedding model training platform. We have an in-depth [article](https://marqo.ai/blog/getting-started-with-marqtune) to accompany this walkthrough which we highly recommend reading."
      ]
    },
    {
      "cell_type": "markdown",
      "metadata": {
        "id": "TI6Aa-ADSsau"
      },
      "source": [
        "This guide will walk you through the process of fine tuning a model based on a base open clip model using a multi-modal training dataset. We will then evaluate the performance of the tuned model and compare it with an equivalent evaluation of the base model to demonstrate an improvement in performance. This tuned model can subsequently be used in a [Marqo index](https://cloud.marqo.ai/) to provide more relevant results for queries."
      ]
    },
    {
      "cell_type": "markdown",
      "metadata": {
        "id": "m9PHXEh3S1lx"
      },
      "source": [
        "Let's get stuck in!"
      ]
    },
    {
      "cell_type": "markdown",
      "metadata": {
        "id": "v8A7HbZdVFnM"
      },
      "source": [
        "### **1. Set Up and Installation**"
      ]
    },
    {
      "cell_type": "markdown",
      "metadata": {
        "id": "peEViJXfYd98"
      },
      "source": [
        "To use Marqtune you will need the Marqtune Python client. You can install this using pip:"
      ]
    },
    {
      "cell_type": "code",
      "execution_count": 1,
      "metadata": {
        "colab": {
          "base_uri": "https://localhost:8080/"
        },
        "id": "tulkcLIAYZIv",
        "outputId": "f9d7d9f1-e43a-42ff-f5d1-860bc4457024"
      },
      "outputs": [
        {
          "name": "stdout",
          "output_type": "stream",
          "text": [
            "Requirement already satisfied: marqtune in /usr/local/lib/python3.10/dist-packages (0.0.1)\n",
            "Requirement already satisfied: requests in /usr/local/lib/python3.10/dist-packages (from marqtune) (2.31.0)\n",
            "Requirement already satisfied: urllib3 in /usr/local/lib/python3.10/dist-packages (from marqtune) (2.0.7)\n",
            "Requirement already satisfied: charset-normalizer<4,>=2 in /usr/local/lib/python3.10/dist-packages (from requests->marqtune) (3.3.2)\n",
            "Requirement already satisfied: idna<4,>=2.5 in /usr/local/lib/python3.10/dist-packages (from requests->marqtune) (3.7)\n",
            "Requirement already satisfied: certifi>=2017.4.17 in /usr/local/lib/python3.10/dist-packages (from requests->marqtune) (2024.7.4)\n"
          ]
        }
      ],
      "source": [
        "!pip install marqtune"
      ]
    },
    {
      "cell_type": "markdown",
      "metadata": {
        "id": "rYOfmkwxYgjE"
      },
      "source": [
        "Next, you will need a Marqo API key with access to Marqtune. To obtain this, sign in to your Marqo Cloud and navigate to the API keys section and create your own. For more information on obtaining your Marqo API Key, see this [article](https://marqo.ai/blog)."
      ]
    },
    {
      "cell_type": "markdown",
      "metadata": {
        "id": "Onxy8N_XTTbp"
      },
      "source": [
        "We are using Google Colab so we will take advantage of 'Secrets' which allows you to store environment variables privately. Navigate to the 'key' logo on the lefthand side navigation bar and store your API key there."
      ]
    },
    {
      "cell_type": "code",
      "execution_count": 2,
      "metadata": {
        "id": "KpF4OkS0WaUN"
      },
      "outputs": [],
      "source": [
        "# Store Marqo API Key using Secrets in Google Colab\n",
        "from google.colab import userdata\n",
        "api_key = userdata.get('MARQO_API_KEY')   # alternatively, api_key = \"...\""
      ]
    },
    {
      "cell_type": "markdown",
      "metadata": {
        "id": "u_1P1iFeVMBq"
      },
      "source": [
        "### **2. Initializing the Client**"
      ]
    },
    {
      "cell_type": "markdown",
      "metadata": {
        "id": "w51ksgRiTxoW"
      },
      "source": [
        "We now make the necessary imports and setup the Marqtune Python client."
      ]
    },
    {
      "cell_type": "code",
      "execution_count": 3,
      "metadata": {
        "colab": {
          "base_uri": "https://localhost:8080/"
        },
        "id": "EuCWtCSJaiPJ",
        "outputId": "3a13e52a-8054-42d0-a5fd-7bafdc1248a6"
      },
      "outputs": [
        {
          "name": "stdout",
          "output_type": "stream",
          "text": [
            "Using suffix=d192580a for this walkthrough\n"
          ]
        }
      ],
      "source": [
        "from marqtune.client import Client\n",
        "from marqtune.enums import DatasetType, ModelType, InstanceType\n",
        "from urllib.request import urlopen\n",
        "import gzip\n",
        "import json\n",
        "import uuid\n",
        "import os\n",
        "\n",
        "# Suffix is used just to make the dataset and model names unique\n",
        "suffix = str(uuid.uuid4())[:8]\n",
        "print(f\"Using suffix={suffix} for this walkthrough\")\n",
        "\n",
        "# Set up Marqtune Client\n",
        "marqtune_client = Client(url=\"https://marqtune.marqo.ai\", api_key=api_key)"
      ]
    },
    {
      "cell_type": "markdown",
      "metadata": {
        "id": "emjvdzwdUAnr"
      },
      "source": [
        "To see the results of datasets and other resources generated in this walkthrough in the Marqtune UI, please refer to our [article](https://marqo.ai/blog/getting-started-with-marqtune)."
      ]
    },
    {
      "cell_type": "markdown",
      "metadata": {
        "id": "59fAt0jMVQ7h"
      },
      "source": [
        "### **3. Dataset Creation**"
      ]
    },
    {
      "cell_type": "markdown",
      "metadata": {
        "id": "WamVMuZkUNS8"
      },
      "source": [
        "We will now create two datasets, one for training and another for evaluation. The datasets will be sourced from a couple of CSV files. The data in these CSV files consists of shopping data generated from a subset of `Marqo-GS-10M` which is described in more detail in our [open-source GCL repository](https://github.com/marqo-ai/GCL).\n",
        "\n",
        "Both CSV files have the same format; however, the first one is larger (100,000 rows) which we will use for training a model, the second is smaller (25,000 rows) which we will use for model evaluation.\n",
        "\n",
        "The datasets are multi-modal, consisting of both text and images. The images are represented by URLs that Marqtune will use to download.\n",
        "\n",
        "Let’s begin by downloading these data files:"
      ]
    },
    {
      "cell_type": "code",
      "execution_count": 4,
      "metadata": {
        "colab": {
          "base_uri": "https://localhost:8080/"
        },
        "id": "BPwOAXRfXfZh",
        "outputId": "343dfb3d-cc8b-4953-e579-53bb7705e411"
      },
      "outputs": [
        {
          "name": "stdout",
          "output_type": "stream",
          "text": [
            "Downloading data files:\n"
          ]
        },
        {
          "data": {
            "text/plain": [
              "5079946"
            ]
          },
          "execution_count": 4,
          "metadata": {},
          "output_type": "execute_result"
        }
      ],
      "source": [
        "print(\"Downloading data files:\")\n",
        "base_path = (\n",
        "    \"https://marqo-gcl-public.s3.us-west-2.amazonaws.com/marqtune_test/datasets/v1\"\n",
        ")\n",
        "training_data = \"gs_100k_training.csv\"\n",
        "eval_data = \"gs_25k_eval.csv\"\n",
        "open(training_data, \"w\").write(\n",
        "    gzip.open(urlopen(f\"{base_path}/{training_data}.gz\"), \"rb\").read().decode(\"utf-8\")\n",
        ")\n",
        "open(eval_data, \"w\").write(\n",
        "    gzip.open(urlopen(f\"{base_path}/{eval_data}.gz\"), \"rb\").read().decode(\"utf-8\")\n",
        ")"
      ]
    },
    {
      "cell_type": "markdown",
      "metadata": {
        "id": "nyHM1Wg7USqf"
      },
      "source": [
        "We now want to create datasets in Marqtune. In order to do this, we need to identify the columns in the CSVs as well as their types by defining a data schema. We will reuse the same data schema for both training and evaluation datasets though this is not strictly necessary."
      ]
    },
    {
      "cell_type": "code",
      "execution_count": 6,
      "metadata": {
        "collapsed": true,
        "id": "m5NUJxoEaxae"
      },
      "outputs": [],
      "source": [
        "data_schema = {\n",
        "    \"query\": \"text\",\n",
        "    \"title\": \"text\",\n",
        "    \"image\": \"image_pointer\",\n",
        "    \"score\": \"score\",\n",
        "}"
      ]
    },
    {
      "cell_type": "markdown",
      "metadata": {
        "id": "ZThOaQKDUTRq"
      },
      "source": [
        "After defining the data schema we can then create the two datasets. Note that creating a dataset takes a few minutes to complete as it accomplishes a few steps:\n",
        "\n",
        "1. The CSV file has to be uploaded\n",
        "2. Some simple validations have to pass (e.g. the data schema needs to be validated against each row in the CSV input)\n",
        "3. The URLs in the `image_pointer` columns are used to download the image files to the dataset"
      ]
    },
    {
      "cell_type": "code",
      "execution_count": 7,
      "metadata": {
        "colab": {
          "base_uri": "https://localhost:8080/"
        },
        "collapsed": true,
        "id": "06y8vNWVwBrm",
        "outputId": "5a9afc6c-14eb-478e-d130-5da87750a62f"
      },
      "outputs": [
        {
          "name": "stdout",
          "output_type": "stream",
          "text": [
            "Creating training dataset (gs_100k_training.csv-d192580a):\n",
            "dataset_id: eeba9e46-410e-458a-89ac-4e2e54cb4fac\n",
            "Uploading..\n",
            "Creating: Provisioning..\n",
            "Creating: Running\n",
            "2024-07-18 13:48:38,667 - INFO - Initialising task\n",
            "2024-07-18 13:48:38,752 - INFO - Downloading files for task eeba9e46-410e-458a-89ac-4e2e54cb4fac\n",
            "2024-07-18 13:48:39,027 - INFO - File download is completed\n",
            "2024-07-18 13:48:39,028 - INFO - Preparing dataset with {'input_file': 'dataset/eeba9e46-410e-458a-89ac-4e2e54cb4fac/dataset.csv', 'data_schema': {'query': 'text', 'title': 'text', 'image': 'image_pointer', 'score': 'score'}, 'output_path': 'eeba9e46-410e-458a-89ac-4e2e54cb4fac', 'dataset_type': 'training', 'result_columns': None, 'image_download_headers': None, 'logger': <Logger __main__ (DEBUG)>}\n",
            "2024-07-18 13:48:39,304 - INFO - Initiating file processing. It will validate every row and download images. Please wait, this process may take a while.\n",
            "2024-07-18 13:48:39,325 - INFO - Image download started for 96243 images.\n",
            "2024-07-18 13:48:42,503 - INFO - Downloaded 1924/96243(2.0%) images - Elapsed time: 3.20s, Estimated total time: 160.01s, Estimated time left: 156.81s\n",
            "2024-07-18 13:48:44,502 - INFO - Downloaded 3848/96243(4.0%) images - Elapsed time: 5.20s, Estimated total time: 129.99s, Estimated time left: 124.79s\n",
            "2024-07-18 13:48:47,297 - INFO - Downloaded 5772/96243(6.0%) images - Elapsed time: 7.99s, Estimated total time: 133.28s, Estimated time left: 125.29s\n",
            "2024-07-18 13:48:49,289 - INFO - Downloaded 7696/96243(8.0%) images - Elapsed time: 9.99s, Estimated total time: 124.87s, Estimated time left: 114.89s\n",
            "2024-07-18 13:48:51,293 - INFO - Downloaded 9620/96243(10.0%) images - Elapsed time: 11.99s, Estimated total time: 119.95s, Estimated time left: 107.96s\n",
            "2024-07-18 13:48:54,340 - INFO - Downloaded 11544/96243(12.0%) images - Elapsed time: 15.04s, Estimated total time: 125.35s, Estimated time left: 110.32s\n",
            "2024-07-18 13:48:56,315 - INFO - Downloaded 13468/96243(14.0%) images - Elapsed time: 17.01s, Estimated total time: 121.56s, Estimated time left: 104.55s\n",
            "2024-07-18 13:48:59,132 - INFO - Downloaded 15392/96243(16.0%) images - Elapsed time: 19.83s, Estimated total time: 123.98s, Estimated time left: 104.15s\n",
            "2024-07-18 13:49:01,106 - INFO - Downloaded 17316/96243(18.0%) images - Elapsed time: 21.80s, Estimated total time: 121.17s, Estimated time left: 99.37s\n",
            "2024-07-18 13:49:03,073 - INFO - Downloaded 19240/96243(20.0%) images - Elapsed time: 23.77s, Estimated total time: 118.90s, Estimated time left: 95.13s\n",
            "2024-07-18 13:49:06,059 - INFO - Downloaded 21164/96243(22.0%) images - Elapsed time: 26.76s, Estimated total time: 121.67s, Estimated time left: 94.91s\n",
            "2024-07-18 13:49:08,013 - INFO - Downloaded 23088/96243(24.0%) images - Elapsed time: 28.71s, Estimated total time: 119.67s, Estimated time left: 90.96s\n",
            "2024-07-18 13:49:10,688 - INFO - Downloaded 25012/96243(26.0%) images - Elapsed time: 31.38s, Estimated total time: 120.76s, Estimated time left: 89.38s\n",
            "2024-07-18 13:49:12,575 - INFO - Downloaded 26936/96243(28.0%) images - Elapsed time: 33.27s, Estimated total time: 118.88s, Estimated time left: 85.61s\n",
            "2024-07-18 13:49:14,536 - INFO - Downloaded 28860/96243(30.0%) images - Elapsed time: 35.23s, Estimated total time: 117.49s, Estimated time left: 82.26s\n",
            "2024-07-18 13:49:17,576 - INFO - Downloaded 30784/96243(32.0%) images - Elapsed time: 38.27s, Estimated total time: 119.65s, Estimated time left: 81.38s\n",
            "2024-07-18 13:49:19,581 - INFO - Downloaded 32708/96243(34.0%) images - Elapsed time: 40.28s, Estimated total time: 118.52s, Estimated time left: 78.24s\n",
            "2024-07-18 13:49:21,538 - INFO - Downloaded 34632/96243(36.0%) images - Elapsed time: 42.23s, Estimated total time: 117.37s, Estimated time left: 75.13s\n",
            "2024-07-18 13:49:24,217 - INFO - Downloaded 36556/96243(38.0%) images - Elapsed time: 44.91s, Estimated total time: 118.24s, Estimated time left: 73.33s\n",
            "2024-07-18 13:49:26,186 - INFO - Downloaded 38480/96243(40.0%) images - Elapsed time: 46.88s, Estimated total time: 117.26s, Estimated time left: 70.38s\n",
            "2024-07-18 13:49:29,219 - INFO - Downloaded 40404/96243(42.0%) images - Elapsed time: 49.92s, Estimated total time: 118.90s, Estimated time left: 68.98s\n",
            "2024-07-18 13:49:31,266 - INFO - Downloaded 42328/96243(44.0%) images - Elapsed time: 51.96s, Estimated total time: 118.15s, Estimated time left: 66.19s\n",
            "2024-07-18 13:49:33,226 - INFO - Downloaded 44252/96243(46.0%) images - Elapsed time: 53.92s, Estimated total time: 117.27s, Estimated time left: 63.35s\n",
            "2024-07-18 13:49:35,927 - INFO - Downloaded 46176/96243(48.0%) images - Elapsed time: 56.62s, Estimated total time: 118.02s, Estimated time left: 61.39s\n",
            "2024-07-18 13:49:37,883 - INFO - Downloaded 48100/96243(50.0%) images - Elapsed time: 58.58s, Estimated total time: 117.21s, Estimated time left: 58.63s\n",
            "2024-07-18 13:49:40,865 - INFO - Downloaded 50024/96243(52.0%) images - Elapsed time: 61.56s, Estimated total time: 118.44s, Estimated time left: 56.88s\n",
            "2024-07-18 13:49:42,907 - INFO - Downloaded 51948/96243(54.0%) images - Elapsed time: 63.60s, Estimated total time: 117.84s, Estimated time left: 54.23s\n",
            "2024-07-18 13:49:44,868 - INFO - Downloaded 53872/96243(56.0%) images - Elapsed time: 65.56s, Estimated total time: 117.13s, Estimated time left: 51.57s\n",
            "2024-07-18 13:49:47,588 - INFO - Downloaded 55796/96243(58.0%) images - Elapsed time: 68.28s, Estimated total time: 117.78s, Estimated time left: 49.50s\n",
            "2024-07-18 13:49:49,544 - INFO - Downloaded 57720/96243(60.0%) images - Elapsed time: 70.24s, Estimated total time: 117.12s, Estimated time left: 46.88s\n",
            "2024-07-18 13:49:51,566 - INFO - Downloaded 59644/96243(62.0%) images - Elapsed time: 72.26s, Estimated total time: 116.60s, Estimated time left: 44.34s\n",
            "2024-07-18 13:49:54,660 - INFO - Downloaded 61568/96243(64.0%) images - Elapsed time: 75.36s, Estimated total time: 117.80s, Estimated time left: 42.44s\n",
            "2024-07-18 13:49:56,626 - INFO - Downloaded 63492/96243(66.0%) images - Elapsed time: 77.32s, Estimated total time: 117.21s, Estimated time left: 39.88s\n",
            "2024-07-18 13:49:59,383 - INFO - Downloaded 65416/96243(68.0%) images - Elapsed time: 80.08s, Estimated total time: 117.81s, Estimated time left: 37.74s\n",
            "2024-07-18 13:50:01,351 - INFO - Downloaded 67340/96243(70.0%) images - Elapsed time: 82.05s, Estimated total time: 117.26s, Estimated time left: 35.22s\n",
            "2024-07-18 13:50:03,374 - INFO - Downloaded 69264/96243(72.0%) images - Elapsed time: 84.07s, Estimated total time: 116.82s, Estimated time left: 32.75s\n",
            "2024-07-18 13:50:06,472 - INFO - Downloaded 71188/96243(74.0%) images - Elapsed time: 87.17s, Estimated total time: 117.85s, Estimated time left: 30.68s\n",
            "2024-07-18 13:50:08,463 - INFO - Downloaded 73112/96243(76.0%) images - Elapsed time: 89.16s, Estimated total time: 117.37s, Estimated time left: 28.21s\n",
            "2024-07-18 13:50:11,276 - INFO - Downloaded 75036/96243(78.0%) images - Elapsed time: 91.97s, Estimated total time: 117.97s, Estimated time left: 25.99s\n",
            "2024-07-18 13:50:13,242 - INFO - Downloaded 76960/96243(80.0%) images - Elapsed time: 93.94s, Estimated total time: 117.47s, Estimated time left: 23.54s\n",
            "2024-07-18 13:50:15,209 - INFO - Downloaded 78884/96243(82.0%) images - Elapsed time: 95.90s, Estimated total time: 117.01s, Estimated time left: 21.10s\n",
            "2024-07-18 13:50:18,130 - INFO - Downloaded 80808/96243(84.0%) images - Elapsed time: 98.83s, Estimated total time: 117.70s, Estimated time left: 18.88s\n",
            "2024-07-18 13:50:20,161 - INFO - Downloaded 82732/96243(86.0%) images - Elapsed time: 100.86s, Estimated total time: 117.33s, Estimated time left: 16.47s\n",
            "2024-07-18 13:50:22,126 - INFO - Downloaded 84656/96243(88.0%) images - Elapsed time: 102.82s, Estimated total time: 116.89s, Estimated time left: 14.07s\n",
            "2024-07-18 13:50:25,046 - INFO - Downloaded 86580/96243(90.0%) images - Elapsed time: 105.74s, Estimated total time: 117.54s, Estimated time left: 11.80s\n",
            "2024-07-18 13:50:27,024 - INFO - Downloaded 88504/96243(92.0%) images - Elapsed time: 107.72s, Estimated total time: 117.14s, Estimated time left: 9.42s\n",
            "2024-07-18 13:50:29,998 - INFO - Downloaded 90428/96243(94.0%) images - Elapsed time: 110.69s, Estimated total time: 117.81s, Estimated time left: 7.12s\n",
            "2024-07-18 13:50:32,045 - INFO - Downloaded 92352/96243(96.0%) images - Elapsed time: 112.74s, Estimated total time: 117.49s, Estimated time left: 4.75s\n",
            "2024-07-18 13:50:34,004 - INFO - Downloaded 94276/96243(98.0%) images - Elapsed time: 114.70s, Estimated total time: 117.09s, Estimated time left: 2.39s\n",
            "2024-07-18 13:50:36,232 - INFO - Downloaded 96200/96243(100.0%) images - Elapsed time: 116.93s, Estimated total time: 116.98s, Estimated time left: 0.05s\n",
            "2024-07-18 13:50:36,314 - INFO - Image download complete. Updating the dataframe.\n",
            "2024-07-18 13:50:36,314 - INFO - Dataframe updated. Processing downloaded images.\n",
            "2024-07-18 13:50:36,692 - INFO - Image processing complete.\n",
            "Ready\n"
          ]
        }
      ],
      "source": [
        "# Create the training dataset.\n",
        "training_dataset_name = f\"{training_data}-{suffix}\"\n",
        "print(f\"Creating training dataset ({training_dataset_name}):\")\n",
        "training_dataset = marqtune_client.create_dataset(\n",
        "    dataset_name=training_dataset_name,\n",
        "    file_path=training_data,\n",
        "    dataset_type=DatasetType.TRAINING,\n",
        "    data_schema=data_schema,\n",
        "    query_columns=[\"query\"],\n",
        "    result_columns=[\"title\", \"image\"],\n",
        "    # setting wait_for_completion=True will make this a blocking call and will also print logs interactively\n",
        "    wait_for_completion=True,\n",
        ")"
      ]
    },
    {
      "cell_type": "markdown",
      "metadata": {
        "id": "hFhSdvSPUWPA"
      },
      "source": [
        "We do the same for the evaluation dataset."
      ]
    },
    {
      "cell_type": "code",
      "execution_count": 8,
      "metadata": {
        "colab": {
          "base_uri": "https://localhost:8080/"
        },
        "collapsed": true,
        "id": "dJJ2BneowC4x",
        "outputId": "fd05f398-f059-4454-f43b-ff09fa047500"
      },
      "outputs": [
        {
          "name": "stdout",
          "output_type": "stream",
          "text": [
            "Creating evaluation dataset (gs_25k_eval.csv-d192580a):\n",
            "dataset_id: b5348b7f-eee2-45c6-b834-0db4c240c0ee\n",
            "Uploading\n",
            "Creating: Provisioning...\n",
            "Creating: Running\n",
            "2024-07-18 13:51:53,109 - INFO - Initialising task\n",
            "2024-07-18 13:51:53,191 - INFO - Downloading files for task b5348b7f-eee2-45c6-b834-0db4c240c0ee\n",
            "2024-07-18 13:51:53,414 - INFO - File download is completed\n",
            "2024-07-18 13:51:53,416 - INFO - Preparing dataset with {'input_file': 'dataset/b5348b7f-eee2-45c6-b834-0db4c240c0ee/dataset.csv', 'data_schema': {'query': 'text', 'title': 'text', 'image': 'image_pointer', 'score': 'score'}, 'output_path': 'b5348b7f-eee2-45c6-b834-0db4c240c0ee', 'dataset_type': 'evaluation', 'result_columns': ['title', 'image'], 'image_download_headers': None, 'logger': <Logger __main__ (DEBUG)>, 'query_columns': ['query']}\n",
            "2024-07-18 13:51:53,488 - INFO - Initiating file processing. It will validate every row and download images. Please wait, this process may take a while.\n",
            "2024-07-18 13:51:53,496 - INFO - Image download started for 24757 images.\n",
            "2024-07-18 13:51:55,026 - INFO - Downloaded 495/24757(2.0%) images - Elapsed time: 1.54s, Estimated total time: 76.92s, Estimated time left: 75.38s\n",
            "2024-07-18 13:51:55,532 - INFO - Downloaded 990/24757(4.0%) images - Elapsed time: 2.04s, Estimated total time: 51.10s, Estimated time left: 49.06s\n",
            "2024-07-18 13:51:56,046 - INFO - Downloaded 1485/24757(6.0%) images - Elapsed time: 2.56s, Estimated total time: 42.63s, Estimated time left: 40.08s\n",
            "2024-07-18 13:51:56,549 - INFO - Downloaded 1980/24757(8.0%) images - Elapsed time: 3.06s, Estimated total time: 38.26s, Estimated time left: 35.20s\n",
            "2024-07-18 13:51:57,060 - INFO - Downloaded 2475/24757(10.0%) images - Elapsed time: 3.57s, Estimated total time: 35.72s, Estimated time left: 32.15s\n",
            "2024-07-18 13:51:57,563 - INFO - Downloaded 2970/24757(12.0%) images - Elapsed time: 4.07s, Estimated total time: 33.96s, Estimated time left: 29.89s\n",
            "2024-07-18 13:51:58,071 - INFO - Downloaded 3465/24757(14.0%) images - Elapsed time: 4.58s, Estimated total time: 32.74s, Estimated time left: 28.16s\n",
            "2024-07-18 13:51:58,568 - INFO - Downloaded 3960/24757(16.0%) images - Elapsed time: 5.08s, Estimated total time: 31.76s, Estimated time left: 26.68s\n",
            "2024-07-18 13:51:59,071 - INFO - Downloaded 4455/24757(18.0%) images - Elapsed time: 5.58s, Estimated total time: 31.03s, Estimated time left: 25.44s\n",
            "2024-07-18 13:51:59,566 - INFO - Downloaded 4950/24757(20.0%) images - Elapsed time: 6.08s, Estimated total time: 30.40s, Estimated time left: 24.32s\n",
            "2024-07-18 13:52:00,845 - INFO - Downloaded 5445/24757(22.0%) images - Elapsed time: 7.36s, Estimated total time: 33.45s, Estimated time left: 26.09s\n",
            "2024-07-18 13:52:01,353 - INFO - Downloaded 5940/24757(24.0%) images - Elapsed time: 7.87s, Estimated total time: 32.78s, Estimated time left: 24.92s\n",
            "2024-07-18 13:52:01,855 - INFO - Downloaded 6435/24757(26.0%) images - Elapsed time: 8.37s, Estimated total time: 32.19s, Estimated time left: 23.82s\n",
            "2024-07-18 13:52:02,361 - INFO - Downloaded 6930/24757(28.0%) images - Elapsed time: 8.87s, Estimated total time: 31.70s, Estimated time left: 22.82s\n",
            "2024-07-18 13:52:02,866 - INFO - Downloaded 7425/24757(30.0%) images - Elapsed time: 9.38s, Estimated total time: 31.27s, Estimated time left: 21.89s\n",
            "2024-07-18 13:52:03,372 - INFO - Downloaded 7920/24757(32.0%) images - Elapsed time: 9.88s, Estimated total time: 30.90s, Estimated time left: 21.01s\n",
            "2024-07-18 13:52:03,871 - INFO - Downloaded 8415/24757(34.0%) images - Elapsed time: 10.38s, Estimated total time: 30.55s, Estimated time left: 20.16s\n",
            "2024-07-18 13:52:04,381 - INFO - Downloaded 8910/24757(36.0%) images - Elapsed time: 10.89s, Estimated total time: 30.27s, Estimated time left: 19.37s\n",
            "2024-07-18 13:52:04,884 - INFO - Downloaded 9405/24757(38.0%) images - Elapsed time: 11.40s, Estimated total time: 30.00s, Estimated time left: 18.60s\n",
            "2024-07-18 13:52:05,423 - INFO - Downloaded 9900/24757(40.0%) images - Elapsed time: 11.93s, Estimated total time: 29.85s, Estimated time left: 17.91s\n",
            "2024-07-18 13:52:06,968 - INFO - Downloaded 10395/24757(42.0%) images - Elapsed time: 13.48s, Estimated total time: 32.10s, Estimated time left: 18.62s\n",
            "2024-07-18 13:52:07,495 - INFO - Downloaded 10890/24757(44.0%) images - Elapsed time: 14.01s, Estimated total time: 31.84s, Estimated time left: 17.84s\n",
            "2024-07-18 13:52:08,018 - INFO - Downloaded 11385/24757(46.0%) images - Elapsed time: 14.53s, Estimated total time: 31.59s, Estimated time left: 17.07s\n",
            "2024-07-18 13:52:08,523 - INFO - Downloaded 11880/24757(48.0%) images - Elapsed time: 15.03s, Estimated total time: 31.33s, Estimated time left: 16.30s\n",
            "2024-07-18 13:52:09,031 - INFO - Downloaded 12375/24757(50.0%) images - Elapsed time: 15.54s, Estimated total time: 31.09s, Estimated time left: 15.55s\n",
            "2024-07-18 13:52:09,539 - INFO - Downloaded 12870/24757(52.0%) images - Elapsed time: 16.05s, Estimated total time: 30.87s, Estimated time left: 14.82s\n",
            "2024-07-18 13:52:10,052 - INFO - Downloaded 13365/24757(54.0%) images - Elapsed time: 16.56s, Estimated total time: 30.68s, Estimated time left: 14.12s\n",
            "2024-07-18 13:52:10,562 - INFO - Downloaded 13860/24757(56.0%) images - Elapsed time: 17.07s, Estimated total time: 30.50s, Estimated time left: 13.42s\n",
            "2024-07-18 13:52:11,062 - INFO - Downloaded 14355/24757(58.0%) images - Elapsed time: 17.57s, Estimated total time: 30.31s, Estimated time left: 12.73s\n",
            "2024-07-18 13:52:11,570 - INFO - Downloaded 14850/24757(60.0%) images - Elapsed time: 18.08s, Estimated total time: 30.15s, Estimated time left: 12.06s\n",
            "2024-07-18 13:52:13,036 - INFO - Downloaded 15345/24757(62.0%) images - Elapsed time: 19.55s, Estimated total time: 31.54s, Estimated time left: 11.99s\n",
            "2024-07-18 13:52:13,539 - INFO - Downloaded 15840/24757(64.0%) images - Elapsed time: 20.05s, Estimated total time: 31.34s, Estimated time left: 11.29s\n",
            "2024-07-18 13:52:14,059 - INFO - Downloaded 16335/24757(66.0%) images - Elapsed time: 20.57s, Estimated total time: 31.18s, Estimated time left: 10.61s\n",
            "2024-07-18 13:52:14,568 - INFO - Downloaded 16830/24757(68.0%) images - Elapsed time: 21.08s, Estimated total time: 31.01s, Estimated time left: 9.93s\n",
            "2024-07-18 13:52:15,077 - INFO - Downloaded 17325/24757(70.0%) images - Elapsed time: 21.59s, Estimated total time: 30.85s, Estimated time left: 9.26s\n",
            "2024-07-18 13:52:15,589 - INFO - Downloaded 17820/24757(72.0%) images - Elapsed time: 22.10s, Estimated total time: 30.70s, Estimated time left: 8.60s\n",
            "2024-07-18 13:52:16,094 - INFO - Downloaded 18315/24757(74.0%) images - Elapsed time: 22.61s, Estimated total time: 30.56s, Estimated time left: 7.95s\n",
            "2024-07-18 13:52:16,596 - INFO - Downloaded 18810/24757(76.0%) images - Elapsed time: 23.11s, Estimated total time: 30.41s, Estimated time left: 7.31s\n",
            "2024-07-18 13:52:17,105 - INFO - Downloaded 19305/24757(78.0%) images - Elapsed time: 23.62s, Estimated total time: 30.29s, Estimated time left: 6.67s\n",
            "2024-07-18 13:52:17,652 - INFO - Downloaded 19800/24757(80.0%) images - Elapsed time: 24.16s, Estimated total time: 30.21s, Estimated time left: 6.05s\n",
            "2024-07-18 13:52:19,075 - INFO - Downloaded 20295/24757(82.0%) images - Elapsed time: 25.59s, Estimated total time: 31.21s, Estimated time left: 5.63s\n",
            "2024-07-18 13:52:19,630 - INFO - Downloaded 20790/24757(84.0%) images - Elapsed time: 26.14s, Estimated total time: 31.13s, Estimated time left: 4.99s\n",
            "2024-07-18 13:52:20,140 - INFO - Downloaded 21285/24757(86.0%) images - Elapsed time: 26.65s, Estimated total time: 31.00s, Estimated time left: 4.35s\n",
            "2024-07-18 13:52:20,650 - INFO - Downloaded 21780/24757(88.0%) images - Elapsed time: 27.16s, Estimated total time: 30.87s, Estimated time left: 3.71s\n",
            "2024-07-18 13:52:21,157 - INFO - Downloaded 22275/24757(90.0%) images - Elapsed time: 27.67s, Estimated total time: 30.75s, Estimated time left: 3.08s\n",
            "2024-07-18 13:52:21,661 - INFO - Downloaded 22770/24757(92.0%) images - Elapsed time: 28.17s, Estimated total time: 30.63s, Estimated time left: 2.46s\n",
            "2024-07-18 13:52:22,159 - INFO - Downloaded 23265/24757(94.0%) images - Elapsed time: 28.67s, Estimated total time: 30.51s, Estimated time left: 1.84s\n",
            "2024-07-18 13:52:22,665 - INFO - Downloaded 23760/24757(96.0%) images - Elapsed time: 29.18s, Estimated total time: 30.40s, Estimated time left: 1.22s\n",
            "2024-07-18 13:52:23,173 - INFO - Downloaded 24255/24757(98.0%) images - Elapsed time: 29.68s, Estimated total time: 30.30s, Estimated time left: 0.61s\n",
            "2024-07-18 13:52:23,683 - INFO - Downloaded 24750/24757(100.0%) images - Elapsed time: 30.20s, Estimated total time: 30.20s, Estimated time left: 0.01s\n",
            "2024-07-18 13:52:23,752 - INFO - Image download complete. Updating the dataframe.\n",
            "2024-07-18 13:52:23,752 - INFO - Dataframe updated. Processing downloaded images.\n",
            "2024-07-18 13:52:23,850 - INFO - Image processing complete.\n",
            "2024-07-18 13:52:50,665 - INFO - Task executed successfully\n",
            "Ready\n"
          ]
        }
      ],
      "source": [
        "# Similarly we create the Evaluation dataset.\n",
        "eval_dataset_name = f\"{eval_data}-{suffix}\"\n",
        "print(f\"Creating evaluation dataset ({eval_dataset_name}):\")\n",
        "eval_dataset = marqtune_client.create_dataset(\n",
        "    dataset_name=eval_dataset_name,\n",
        "    file_path=eval_data,\n",
        "    dataset_type=DatasetType.EVALUATION,\n",
        "    data_schema=data_schema,\n",
        "    query_columns=[\"query\"],\n",
        "    result_columns=[\"title\", \"image\"],\n",
        "    wait_for_completion=True,\n",
        ")"
      ]
    },
    {
      "cell_type": "markdown",
      "metadata": {
        "id": "wgcr0EPxVV-R"
      },
      "source": [
        "### **4. Model Tuning**"
      ]
    },
    {
      "cell_type": "markdown",
      "metadata": {
        "id": "7U5elIMyUaUX"
      },
      "source": [
        "Now we're ready to train a model. To do so we define a few training hyper parameters. In this example we've set some parameters that work well with the sample dataset but you are encouraged to experiment with these values for your own datasets.\n",
        "\n",
        "In our example for the base pre-trained open clip model, we've chosen to use `ViT-B-32 - laion400m_e31` which is a good model to start with as it gives us good performance with low latency/memory usage. We have previously published a guide to help you [choose the right model](https://www.marqo.ai/blog/benchmarking-models-for-multimodal-search) for your use case."
      ]
    },
    {
      "cell_type": "code",
      "execution_count": 9,
      "metadata": {
        "id": "M2QNenCLwHNb"
      },
      "outputs": [],
      "source": [
        "# Setup training hyper parameters:\n",
        "training_params = {\n",
        "    \"leftKeys\": [\"query\"],\n",
        "    \"leftWeights\": [1],\n",
        "    \"rightKeys\": [\"image\", \"title\"],\n",
        "    \"rightWeights\": [0.9, 0.1],\n",
        "    \"weightKey\": \"score\",\n",
        "    \"epochs\": 5,\n",
        "}\n",
        "\n",
        "base_model = \"ViT-B-32\"\n",
        "base_checkpoint = \"laion400m_e31\""
      ]
    },
    {
      "cell_type": "markdown",
      "metadata": {
        "id": "cIXDKOWLUfS_"
      },
      "source": [
        "The `training_params` dictionary is used to define the training hyperparameters. We've chosen a minimal set of hyperparameters to get you started - primarily the left/right keys define the columns in the input CSV that we're training on. You can experiment on these parameters yourself, refer to the [Training Parameters documentation](https://docs.marqo.ai/2.10/Marqtune/API/evaluation/evaluation_parameters/) for documentation on these and other parameters available for training.\n",
        "\n",
        "This training will take a while to complete, though you may choose to run it faster using more powerful hardware: `instance_type=InstanceType.PERFORMANCE`.\n",
        "\n",
        "It's also worth noting that once training has been successfully kicked off in Marqtune it will continue till completion no matter what happens to your local client session. On start the logs will show the new model id that can be used to identify your model - copy this id so that if your local console disconnects for some reason during training you can always resume the rest of this guide after loading the completed model: `tuned_model = marqtune_client.model('<model id>')`."
      ]
    },
    {
      "cell_type": "code",
      "execution_count": 10,
      "metadata": {
        "colab": {
          "base_uri": "https://localhost:8080/"
        },
        "collapsed": true,
        "id": "d_vIrvhXa0gS",
        "outputId": "96cf991d-e1e8-4a3d-b24a-9a6972e22911"
      },
      "outputs": [
        {
          "name": "stdout",
          "output_type": "stream",
          "text": [
            "Training a new model (gs_100k_training.csv-model-d192580a):\n",
            "model_id: b58630ab-f1e5-4909-82a7-9157dc9f1687\n",
            "Initializing.\n",
            "Creating: Provisioning...\n",
            "Creating: Running\n",
            "2024-07-18 13:53:31,629 - INFO - Initialising task\n",
            "2024-07-18 13:53:31,733 - INFO - Downloading files for task b58630ab-f1e5-4909-82a7-9157dc9f1687\n",
            "2024-07-18 13:53:52,971 - INFO - File download is completed\n",
            "2024-07-18 13:53:53,045 - INFO - Initializing training job for model ViT-B-32 and dataset eeba9e46-410e-458a-89ac-4e2e54cb4fac. Please wait, it may take some time.\n",
            "2024-07-18 13:55:48,107 - INFO - 2024-07-18T13:55:40.461568261Z 2024-07-18,13:55:40 | INFO | Running with a single process. Device cuda:0.\n",
            "2024-07-18 13:55:48,108 - INFO - 2024-07-18T13:55:40.555572489Z 2024-07-18,13:55:40 | INFO | Loaded ViT-B-32 model config.\n",
            "100%|████████████████████████████████████████| 605M/605M [00:01<00:00, 429MiB/s]\n",
            "2024-07-18 13:55:48,108 - INFO - 2024-07-18T13:55:45.796187735Z 2024-07-18,13:55:45 | INFO | Loading pretrained ViT-B-32 weights (laion400m_e31).\n",
            "2024-07-18 13:55:48,108 - INFO - 2024-07-18T13:55:46.058170675Z 2024-07-18,13:55:46 | INFO | Model:\n",
            "2024-07-18 13:55:48,108 - INFO - 2024-07-18T13:55:46.059464537Z 2024-07-18,13:55:46 | INFO | multi_field_model(\n",
            "2024-07-18 13:55:48,108 - INFO - 2024-07-18T13:55:46.059475107Z   (model): CLIP(\n",
            "2024-07-18 13:55:48,108 - INFO - 2024-07-18T13:55:46.059477997Z     (visual): VisionTransformer(\n",
            "2024-07-18 13:55:48,108 - INFO - 2024-07-18T13:55:46.059480147Z       (conv1): Conv2d(3, 768, kernel_size=(32, 32), stride=(32, 32), bias=False)\n",
            "2024-07-18 13:55:48,108 - INFO - 2024-07-18T13:55:46.059482087Z       (patch_dropout): Identity()\n",
            "2024-07-18 13:55:48,108 - INFO - 2024-07-18T13:55:46.059483877Z       (ln_pre): LayerNorm((768,), eps=1e-05, elementwise_affine=True)\n",
            "2024-07-18 13:55:48,108 - INFO - 2024-07-18T13:55:46.059485777Z       (transformer): Transformer(\n",
            "2024-07-18 13:55:48,108 - INFO - 2024-07-18T13:55:46.059487507Z         (resblocks): ModuleList(\n",
            "2024-07-18 13:55:48,108 - INFO - 2024-07-18T13:55:46.059489227Z           (0-11): 12 x ResidualAttentionBlock(\n",
            "2024-07-18 13:55:48,108 - INFO - 2024-07-18T13:55:46.059491027Z             (ln_1): LayerNorm((768,), eps=1e-05, elementwise_affine=True)\n",
            "2024-07-18 13:55:48,108 - INFO - 2024-07-18T13:55:46.059492927Z             (attn): MultiheadAttention(\n",
            "2024-07-18 13:55:48,109 - INFO - 2024-07-18T13:55:46.059495057Z               (out_proj): NonDynamicallyQuantizableLinear(in_features=768, out_features=768, bias=True)\n",
            "2024-07-18 13:55:48,109 - INFO - 2024-07-18T13:55:46.059506207Z             )\n",
            "2024-07-18 13:55:48,109 - INFO - 2024-07-18T13:55:46.059508097Z             (ls_1): Identity()\n",
            "2024-07-18 13:55:48,109 - INFO - 2024-07-18T13:55:46.059509887Z             (ln_2): LayerNorm((768,), eps=1e-05, elementwise_affine=True)\n",
            "2024-07-18 13:55:48,109 - INFO - 2024-07-18T13:55:46.059511777Z             (mlp): Sequential(\n",
            "2024-07-18 13:55:48,109 - INFO - 2024-07-18T13:55:46.059513507Z               (c_fc): Linear(in_features=768, out_features=3072, bias=True)\n",
            "2024-07-18 13:55:48,109 - INFO - 2024-07-18T13:55:46.059515338Z               (gelu): GELU(approximate='none')\n",
            "2024-07-18 13:55:48,109 - INFO - 2024-07-18T13:55:46.059517108Z               (c_proj): Linear(in_features=3072, out_features=768, bias=True)\n",
            "2024-07-18 13:55:48,109 - INFO - 2024-07-18T13:55:46.059518968Z             )\n",
            "2024-07-18 13:55:48,109 - INFO - 2024-07-18T13:55:46.059520668Z             (ls_2): Identity()\n",
            "2024-07-18 13:55:48,109 - INFO - 2024-07-18T13:55:46.059522388Z           )\n",
            "2024-07-18 13:55:48,109 - INFO - 2024-07-18T13:55:46.059524108Z         )\n",
            "2024-07-18 13:55:48,109 - INFO - 2024-07-18T13:55:46.059525798Z       )\n",
            "2024-07-18 13:55:48,109 - INFO - 2024-07-18T13:55:46.059527528Z       (ln_post): LayerNorm((768,), eps=1e-05, elementwise_affine=True)\n",
            "2024-07-18 13:55:48,110 - INFO - 2024-07-18T13:55:46.059529308Z     )\n",
            "2024-07-18 13:55:48,110 - INFO - 2024-07-18T13:55:46.059531078Z     (transformer): Transformer(\n",
            "2024-07-18 13:55:48,110 - INFO - 2024-07-18T13:55:46.059533148Z       (resblocks): ModuleList(\n",
            "2024-07-18 13:55:48,110 - INFO - 2024-07-18T13:55:46.059534898Z         (0-11): 12 x ResidualAttentionBlock(\n",
            "2024-07-18 13:55:48,110 - INFO - 2024-07-18T13:55:46.059536678Z           (ln_1): LayerNorm((512,), eps=1e-05, elementwise_affine=True)\n",
            "2024-07-18 13:55:48,110 - INFO - 2024-07-18T13:55:46.059538498Z           (attn): MultiheadAttention(\n",
            "2024-07-18 13:55:48,110 - INFO - 2024-07-18T13:55:46.059540278Z             (out_proj): NonDynamicallyQuantizableLinear(in_features=512, out_features=512, bias=True)\n",
            "2024-07-18 13:55:48,110 - INFO - 2024-07-18T13:55:46.059542388Z           )\n",
            "2024-07-18 13:55:48,110 - INFO - 2024-07-18T13:55:46.059544518Z           (ls_1): Identity()\n",
            "2024-07-18 13:55:48,110 - INFO - 2024-07-18T13:55:46.059546708Z           (ln_2): LayerNorm((512,), eps=1e-05, elementwise_affine=True)\n",
            "2024-07-18 13:55:48,110 - INFO - 2024-07-18T13:55:46.059548998Z           (mlp): Sequential(\n",
            "2024-07-18 13:55:48,110 - INFO - 2024-07-18T13:55:46.059551158Z             (c_fc): Linear(in_features=512, out_features=2048, bias=True)\n",
            "2024-07-18 13:55:48,110 - INFO - 2024-07-18T13:55:46.059553478Z             (gelu): GELU(approximate='none')\n",
            "2024-07-18 13:55:48,110 - INFO - 2024-07-18T13:55:46.059555308Z             (c_proj): Linear(in_features=2048, out_features=512, bias=True)\n",
            "2024-07-18 13:55:48,110 - INFO - 2024-07-18T13:55:46.059557138Z           )\n",
            "2024-07-18 13:55:48,111 - INFO - 2024-07-18T13:55:46.059558828Z           (ls_2): Identity()\n",
            "2024-07-18 13:55:48,111 - INFO - 2024-07-18T13:55:46.059560588Z         )\n",
            "2024-07-18 13:55:48,111 - INFO - 2024-07-18T13:55:46.059562708Z       )\n",
            "2024-07-18 13:55:48,111 - INFO - 2024-07-18T13:55:46.059564828Z     )\n",
            "2024-07-18 13:55:48,111 - INFO - 2024-07-18T13:55:46.059566948Z     (token_embedding): Embedding(49408, 512)\n",
            "2024-07-18 13:55:48,111 - INFO - 2024-07-18T13:55:46.059569158Z     (ln_final): LayerNorm((512,), eps=1e-05, elementwise_affine=True)\n",
            "2024-07-18 13:55:48,111 - INFO - 2024-07-18T13:55:46.059571428Z   )\n",
            "2024-07-18 13:55:48,111 - INFO - 2024-07-18T13:55:46.059573448Z )\n",
            "2024-07-18 13:55:48,111 - INFO - 2024-07-18T13:55:46.059576659Z 2024-07-18,13:55:46 | INFO | Params:\n",
            "2024-07-18 13:55:48,111 - INFO - 2024-07-18T13:55:46.059781372Z 2024-07-18,13:55:46 | INFO |   __annotations__: {'cluster_sampling': <class 'bool'>, 'id_keys': <class 'str'>, 'context_length': <class 'str'>, 'logit_scale': <class 'float'>, 'logit_bias': <class 'float'>, 'sq_interval': <class 'int'>, 'sq_logit_scale': <class 'float'>, 'left_keys': <class 'str'>, 'right_keys': <class 'str'>, 'img_or_txt': <class 'str'>, 'left_weights': <class 'str'>, 'right_weights': <class 'str'>, 'weight_key': <class 'str'>, 'weighted_loss': <class 'str'>, 'train_data': <class 'str'>, 'train_data_sq': <class 'str'>, 'train_data_upsampling_factors': <class 'str'>, 'val_data': <class 'str'>, 'train_num_samples': <class 'int'>, 'val_num_samples': <class 'int'>, 'dataset_type': <class 'str'>, 'dataset_resampled': <class 'bool'>, 'csv_separator': <class 'str'>, 'imagenet_val': <class 'str'>, 'imagenet_v2': <class 'str'>, 'logs': <class 'str'>, 'log_local': <class 'bool'>, 'name': <class 'str'>, 'workers': <class 'int'>, 'batch_size': <class 'int'>, 'epochs': <class 'int'>, 'epochs_cooldown': <class 'int'>, 'lr': <class 'float'>, 'beta1': <class 'float'>, 'beta2': <class 'float'>, 'eps': <class 'float'>, 'wd': <class 'float'>, 'warmup': <class 'int'>, 'use_bn_sync': <class 'bool'>, 'skip_scheduler': <class 'bool'>, 'lr_scheduler': <class 'str'>, 'lr_cooldown_end': <class 'float'>, 'lr_cooldown_power': <class 'float'>, 'save_frequency': <class 'int'>, 'save_most_recent': <class 'bool'>, 'zeroshot_frequency': <class 'int'>, 'val_frequency': <class 'int'>, 'resume': <class 'str'>, 'precision': <class 'str'>, 'model': <class 'str'>, 'pretrained': <class 'str'>, 'pretrained_image': <class 'bool'>, 'lock_image': <class 'bool'>, 'lock_image_unlocked_groups': <class 'int'>, 'lock_image_freeze_bn_stats': <class 'bool'>, 'image_mean': typing.List[float], 'image_std': typing.List[float], 'aug_cfg': typing.Dict[str, typing.Any], 'grad_checkpointing': <class 'bool'>, 'local_loss': <class 'bool'>, 'gather_with_grad': <class 'bool'>, 'force_image_size': typing.List[int], 'force_quick_gelu': <class 'bool'>, 'force_patch_dropout': <class 'float'>, 'force_custom_text': <class 'bool'>, 'torchscript': <class 'bool'>, 'trace': <class 'bool'>, 'accum_freq': <class 'int'>, 'dist_url': <class 'str'>, 'dist_backend': <class 'str'>, 'report_to': <class 'str'>, 'wandb_notes': <class 'str'>, 'wandb_project_name': <class 'str'>, 'debug': <class 'bool'>, 'copy_codebase': <class 'bool'>, 'horovod': <class 'bool'>, 'ddp_static_graph': <class 'bool'>, 'no_set_device_rank': <class 'bool'>, 'seed': <class 'int'>, 'grad_clip_norm': <class 'float'>, 'lock_text': <class 'bool'>, 'lock_text_unlocked_layers': <class 'int'>, 'lock_text_freeze_layer_norm': <class 'bool'>, 'log_every_n_steps': <class 'int'>, 'coca_caption_loss_weight': <class 'float'>, 'coca_contrastive_loss_weight': <class 'float'>, 'remote_sync': <class 'str'>, 'remote_sync_frequency': <class 'int'>, 'remote_sync_protocol': <class 'str'>, 'delete_previous_checkpoint': <class 'bool'>, 'distill_model': <class 'str'>, 'distill_pretrained': <class 'str'>, 'use_bnb_linear': <class 'str'>, 'frozen_right': <class 'bool'>, 'checkpoint_path': <class 'str'>, 'dynamic_batch_size': <class 'bool'>}\n",
            "2024-07-18 13:55:48,111 - INFO - 2024-07-18T13:55:46.059911124Z 2024-07-18,13:55:46 | INFO |   __doc__: \n",
            "2024-07-18 13:55:48,111 - INFO - 2024-07-18T13:55:46.059920584Z     This class inherits from argparse.Namespace and is used to store the arguments passed to the training script.\n",
            "2024-07-18 13:55:48,111 - INFO - 2024-07-18T13:55:46.059922874Z     \n",
            "2024-07-18 13:55:48,111 - INFO - 2024-07-18T13:55:46.059964015Z 2024-07-18,13:55:46 | INFO |   __module__: params\n",
            "2024-07-18 13:55:48,111 - INFO - 2024-07-18T13:55:46.060032346Z 2024-07-18,13:55:46 | INFO |   accum_freq: 1\n",
            "2024-07-18 13:55:48,111 - INFO - 2024-07-18T13:55:46.060093227Z 2024-07-18,13:55:46 | INFO |   aug_cfg: {}\n",
            "2024-07-18 13:55:48,111 - INFO - 2024-07-18T13:55:46.060169948Z 2024-07-18,13:55:46 | INFO |   batch_size: 256\n",
            "2024-07-18 13:55:48,111 - INFO - 2024-07-18T13:55:46.060226749Z 2024-07-18,13:55:46 | INFO |   beta1: 0.9\n",
            "2024-07-18 13:55:48,111 - INFO - 2024-07-18T13:55:46.060301221Z 2024-07-18,13:55:46 | INFO |   beta2: 0.98\n",
            "2024-07-18 13:55:48,111 - INFO - 2024-07-18T13:55:46.060358162Z 2024-07-18,13:55:46 | INFO |   checkpoint_path: /app/logs/model/checkpoints\n",
            "2024-07-18 13:55:48,112 - INFO - 2024-07-18T13:55:46.060433153Z 2024-07-18,13:55:46 | INFO |   cluster_sampling: False\n",
            "2024-07-18 13:55:48,112 - INFO - 2024-07-18T13:55:46.060490844Z 2024-07-18,13:55:46 | INFO |   coca_caption_loss_weight: 2.0\n",
            "2024-07-18 13:55:48,112 - INFO - 2024-07-18T13:55:46.060567385Z 2024-07-18,13:55:46 | INFO |   coca_contrastive_loss_weight: 1.0\n",
            "2024-07-18 13:55:48,112 - INFO - 2024-07-18T13:55:46.060627926Z 2024-07-18,13:55:46 | INFO |   context_length: [[77], [0, 77]]\n",
            "2024-07-18 13:55:48,112 - INFO - 2024-07-18T13:55:46.060704607Z 2024-07-18,13:55:46 | INFO |   copy_codebase: False\n",
            "2024-07-18 13:55:48,112 - INFO - 2024-07-18T13:55:46.060759038Z 2024-07-18,13:55:46 | INFO |   csv_separator: \t\n",
            "2024-07-18 13:55:48,112 - INFO - 2024-07-18T13:55:46.060828879Z 2024-07-18,13:55:46 | INFO |   dataset_resampled: False\n",
            "2024-07-18 13:55:48,112 - INFO - 2024-07-18T13:55:46.060887300Z 2024-07-18,13:55:46 | INFO |   dataset_type: weighted_csv\n",
            "2024-07-18 13:55:48,112 - INFO - 2024-07-18T13:55:46.060959572Z 2024-07-18,13:55:46 | INFO |   ddp_static_graph: False\n",
            "2024-07-18 13:55:48,112 - INFO - 2024-07-18T13:55:46.061025543Z 2024-07-18,13:55:46 | INFO |   debug: False\n",
            "2024-07-18 13:55:48,112 - INFO - 2024-07-18T13:55:46.061105084Z 2024-07-18,13:55:46 | INFO |   delete_previous_checkpoint: False\n",
            "2024-07-18 13:55:48,112 - INFO - 2024-07-18T13:55:46.061159165Z 2024-07-18,13:55:46 | INFO |   device: cuda:0\n",
            "2024-07-18 13:55:48,112 - INFO - 2024-07-18T13:55:46.061230006Z 2024-07-18,13:55:46 | INFO |   dist_backend: nccl\n",
            "2024-07-18 13:55:48,112 - INFO - 2024-07-18T13:55:46.061286947Z 2024-07-18,13:55:46 | INFO |   dist_url: env://\n",
            "2024-07-18 13:55:48,112 - INFO - 2024-07-18T13:55:46.061359788Z 2024-07-18,13:55:46 | INFO |   distill: False\n",
            "2024-07-18 13:55:48,112 - INFO - 2024-07-18T13:55:46.061417459Z 2024-07-18,13:55:46 | INFO |   distill_model: None\n",
            "2024-07-18 13:55:48,112 - INFO - 2024-07-18T13:55:46.061492011Z 2024-07-18,13:55:46 | INFO |   distill_pretrained: None\n",
            "2024-07-18 13:55:48,112 - INFO - 2024-07-18T13:55:46.061551242Z 2024-07-18,13:55:46 | INFO |   distributed: False\n",
            "2024-07-18 13:55:48,112 - INFO - 2024-07-18T13:55:46.061625623Z 2024-07-18,13:55:46 | INFO |   dynamic_batch_size: False\n",
            "2024-07-18 13:55:48,112 - INFO - 2024-07-18T13:55:46.061682534Z 2024-07-18,13:55:46 | INFO |   epochs: 5\n",
            "2024-07-18 13:55:48,112 - INFO - 2024-07-18T13:55:46.061753475Z 2024-07-18,13:55:46 | INFO |   epochs_cooldown: None\n",
            "2024-07-18 13:55:48,113 - INFO - 2024-07-18T13:55:46.061813016Z 2024-07-18,13:55:46 | INFO |   eps: 1e-06\n",
            "2024-07-18 13:55:48,113 - INFO - 2024-07-18T13:55:46.061890167Z 2024-07-18,13:55:46 | INFO |   force_custom_text: False\n",
            "2024-07-18 13:55:48,113 - INFO - 2024-07-18T13:55:46.061943188Z 2024-07-18,13:55:46 | INFO |   force_image_size: None\n",
            "2024-07-18 13:55:48,113 - INFO - 2024-07-18T13:55:46.062047780Z 2024-07-18,13:55:46 | INFO |   force_patch_dropout: None\n",
            "2024-07-18 13:55:48,113 - INFO - 2024-07-18T13:55:46.062094621Z 2024-07-18,13:55:46 | INFO |   force_quick_gelu: False\n",
            "2024-07-18 13:55:48,113 - INFO - 2024-07-18T13:55:46.062159822Z 2024-07-18,13:55:46 | INFO |   frozen_right: False\n",
            "2024-07-18 13:55:48,113 - INFO - 2024-07-18T13:55:46.062217463Z 2024-07-18,13:55:46 | INFO |   gather_with_grad: True\n",
            "2024-07-18 13:55:48,113 - INFO - 2024-07-18T13:55:46.062288784Z 2024-07-18,13:55:46 | INFO |   grad_checkpointing: True\n",
            "2024-07-18 13:55:48,113 - INFO - 2024-07-18T13:55:46.062343845Z 2024-07-18,13:55:46 | INFO |   grad_clip_norm: None\n",
            "2024-07-18 13:55:48,113 - INFO - 2024-07-18T13:55:46.062414936Z 2024-07-18,13:55:46 | INFO |   horovod: False\n",
            "2024-07-18 13:55:48,113 - INFO - 2024-07-18T13:55:46.062472967Z 2024-07-18,13:55:46 | INFO |   id_keys: ['query', 'image']\n",
            "2024-07-18 13:55:48,113 - INFO - 2024-07-18T13:55:46.062551568Z 2024-07-18,13:55:46 | INFO |   image_mean: None\n",
            "2024-07-18 13:55:48,113 - INFO - 2024-07-18T13:55:46.062605709Z 2024-07-18,13:55:46 | INFO |   image_std: None\n",
            "2024-07-18 13:55:48,113 - INFO - 2024-07-18T13:55:46.062678210Z 2024-07-18,13:55:46 | INFO |   imagenet_v2: None\n",
            "2024-07-18 13:55:48,113 - INFO - 2024-07-18T13:55:46.062735781Z 2024-07-18,13:55:46 | INFO |   imagenet_val: None\n",
            "2024-07-18 13:55:48,113 - INFO - 2024-07-18T13:55:46.062810573Z 2024-07-18,13:55:46 | INFO |   img_or_txt: [['txt'], ['img', 'txt']]\n",
            "2024-07-18 13:55:48,113 - INFO - 2024-07-18T13:55:46.062867524Z 2024-07-18,13:55:46 | INFO |   left_keys: ['query']\n",
            "2024-07-18 13:55:48,113 - INFO - 2024-07-18T13:55:46.062941385Z 2024-07-18,13:55:46 | INFO |   left_weights: [1]\n",
            "2024-07-18 13:55:48,113 - INFO - 2024-07-18T13:55:46.062997536Z 2024-07-18,13:55:46 | INFO |   local_loss: False\n",
            "2024-07-18 13:55:48,113 - INFO - 2024-07-18T13:55:46.063068767Z 2024-07-18,13:55:46 | INFO |   local_rank: 0\n",
            "2024-07-18 13:55:48,114 - INFO - 2024-07-18T13:55:46.063124438Z 2024-07-18,13:55:46 | INFO |   lock_image: False\n",
            "2024-07-18 13:55:48,114 - INFO - 2024-07-18T13:55:46.063195309Z 2024-07-18,13:55:46 | INFO |   lock_image_freeze_bn_stats: False\n",
            "2024-07-18 13:55:48,114 - INFO - 2024-07-18T13:55:46.063256460Z 2024-07-18,13:55:46 | INFO |   lock_image_unlocked_groups: 0\n",
            "2024-07-18 13:55:48,114 - INFO - 2024-07-18T13:55:46.063330411Z 2024-07-18,13:55:46 | INFO |   lock_text: False\n",
            "2024-07-18 13:55:48,114 - INFO - 2024-07-18T13:55:46.063383312Z 2024-07-18,13:55:46 | INFO |   lock_text_freeze_layer_norm: False\n",
            "2024-07-18 13:55:48,114 - INFO - 2024-07-18T13:55:46.063454883Z 2024-07-18,13:55:46 | INFO |   lock_text_unlocked_layers: 0\n",
            "2024-07-18 13:55:48,114 - INFO - 2024-07-18T13:55:46.063510384Z 2024-07-18,13:55:46 | INFO |   log_every_n_steps: 100\n",
            "2024-07-18 13:55:48,114 - INFO - 2024-07-18T13:55:46.063582175Z 2024-07-18,13:55:46 | INFO |   log_level: 20\n",
            "2024-07-18 13:55:48,114 - INFO - 2024-07-18T13:55:46.063639526Z 2024-07-18,13:55:46 | INFO |   log_local: False\n",
            "2024-07-18 13:55:48,114 - INFO - 2024-07-18T13:55:46.063710258Z 2024-07-18,13:55:46 | INFO |   log_path: /app/logs/model/out.log\n",
            "2024-07-18 13:55:48,114 - INFO - 2024-07-18T13:55:46.063767069Z 2024-07-18,13:55:46 | INFO |   logit_bias: None\n",
            "2024-07-18 13:55:48,114 - INFO - 2024-07-18T13:55:46.063837210Z 2024-07-18,13:55:46 | INFO |   logit_scale: None\n",
            "2024-07-18 13:55:48,114 - INFO - 2024-07-18T13:55:46.063894221Z 2024-07-18,13:55:46 | INFO |   logs: /app/logs\n",
            "2024-07-18 13:55:48,114 - INFO - 2024-07-18T13:55:46.063968832Z 2024-07-18,13:55:46 | INFO |   lr: 0.0005\n",
            "2024-07-18 13:55:48,114 - INFO - 2024-07-18T13:55:46.064025243Z 2024-07-18,13:55:46 | INFO |   lr_cooldown_end: 0.0\n",
            "2024-07-18 13:55:48,114 - INFO - 2024-07-18T13:55:46.064098984Z 2024-07-18,13:55:46 | INFO |   lr_cooldown_power: 1.0\n",
            "2024-07-18 13:55:48,114 - INFO - 2024-07-18T13:55:46.064162955Z 2024-07-18,13:55:46 | INFO |   lr_scheduler: cosine\n",
            "2024-07-18 13:55:48,114 - INFO - 2024-07-18T13:55:46.064227616Z 2024-07-18,13:55:46 | INFO |   model: ViT-B-32\n",
            "2024-07-18 13:55:48,114 - INFO - 2024-07-18T13:55:46.064277887Z 2024-07-18,13:55:46 | INFO |   name: model\n",
            "2024-07-18 13:55:48,115 - INFO - 2024-07-18T13:55:46.064347008Z 2024-07-18,13:55:46 | INFO |   no_set_device_rank: False\n",
            "2024-07-18 13:55:48,115 - INFO - 2024-07-18T13:55:46.064402939Z 2024-07-18,13:55:46 | INFO |   precision: amp\n",
            "2024-07-18 13:55:48,115 - INFO - 2024-07-18T13:55:46.064474900Z 2024-07-18,13:55:46 | INFO |   pretrained: laion400m_e31\n",
            "2024-07-18 13:55:48,115 - INFO - 2024-07-18T13:55:46.064532561Z 2024-07-18,13:55:46 | INFO |   pretrained_image: False\n",
            "2024-07-18 13:55:48,115 - INFO - 2024-07-18T13:55:46.064606913Z 2024-07-18,13:55:46 | INFO |   rank: 0\n",
            "2024-07-18 13:55:48,115 - INFO - 2024-07-18T13:55:46.064660783Z 2024-07-18,13:55:46 | INFO |   remote_sync: None\n",
            "2024-07-18 13:55:48,115 - INFO - 2024-07-18T13:55:46.064730905Z 2024-07-18,13:55:46 | INFO |   remote_sync_frequency: 300\n",
            "2024-07-18 13:55:48,115 - INFO - 2024-07-18T13:55:46.064787156Z 2024-07-18,13:55:46 | INFO |   remote_sync_protocol: s3\n",
            "2024-07-18 13:55:48,115 - INFO - 2024-07-18T13:55:46.064858067Z 2024-07-18,13:55:46 | INFO |   report_to: \n",
            "2024-07-18 13:55:48,115 - INFO - 2024-07-18T13:55:46.064929328Z 2024-07-18,13:55:46 | INFO |   resume: None\n",
            "2024-07-18 13:55:48,115 - INFO - 2024-07-18T13:55:46.064995889Z 2024-07-18,13:55:46 | INFO |   right_keys: ['image', 'title']\n",
            "2024-07-18 13:55:48,115 - INFO - 2024-07-18T13:55:46.065056160Z 2024-07-18,13:55:46 | INFO |   right_weights: [0.9, 0.1]\n",
            "2024-07-18 13:55:48,115 - INFO - 2024-07-18T13:55:46.065122241Z 2024-07-18,13:55:46 | INFO |   save_frequency: 1\n",
            "2024-07-18 13:55:48,115 - INFO - 2024-07-18T13:55:46.065213673Z 2024-07-18,13:55:46 | INFO |   save_most_recent: False\n",
            "2024-07-18 13:55:48,115 - INFO - 2024-07-18T13:55:46.065243883Z 2024-07-18,13:55:46 | INFO |   seed: 0\n",
            "2024-07-18 13:55:48,115 - INFO - 2024-07-18T13:55:46.065311064Z 2024-07-18,13:55:46 | INFO |   skip_scheduler: False\n",
            "2024-07-18 13:55:48,116 - INFO - 2024-07-18T13:55:46.065369765Z 2024-07-18,13:55:46 | INFO |   sq_interval: 2\n",
            "2024-07-18 13:55:48,116 - INFO - 2024-07-18T13:55:46.065450337Z 2024-07-18,13:55:46 | INFO |   sq_logit_scale: 1.5\n",
            "2024-07-18 13:55:48,116 - INFO - 2024-07-18T13:55:46.065501338Z 2024-07-18,13:55:46 | INFO |   tensorboard: False\n",
            "2024-07-18 13:55:48,116 - INFO - 2024-07-18T13:55:46.065573479Z 2024-07-18,13:55:46 | INFO |   tensorboard_path: \n",
            "2024-07-18 13:55:48,116 - INFO - 2024-07-18T13:55:46.065629370Z 2024-07-18,13:55:46 | INFO |   torchscript: False\n",
            "2024-07-18 13:55:48,116 - INFO - 2024-07-18T13:55:46.065702811Z 2024-07-18,13:55:46 | INFO |   trace: False\n",
            "2024-07-18 13:55:48,116 - INFO - 2024-07-18T13:55:46.065756442Z 2024-07-18,13:55:46 | INFO |   train_data: /app/src/data/label.csv\n",
            "2024-07-18 13:55:48,116 - INFO - 2024-07-18T13:55:46.065829133Z 2024-07-18,13:55:46 | INFO |   train_data_sq: None\n",
            "2024-07-18 13:55:48,116 - INFO - 2024-07-18T13:55:46.065883904Z 2024-07-18,13:55:46 | INFO |   train_data_upsampling_factors: None\n",
            "2024-07-18 13:55:48,116 - INFO - 2024-07-18T13:55:46.065981596Z 2024-07-18,13:55:46 | INFO |   train_num_samples: None\n",
            "2024-07-18 13:55:48,116 - INFO - 2024-07-18T13:55:46.066057797Z 2024-07-18,13:55:46 | INFO |   use_bn_sync: False\n",
            "2024-07-18 13:55:48,116 - INFO - 2024-07-18T13:55:46.066105298Z 2024-07-18,13:55:46 | INFO |   use_bnb_linear: None\n",
            "2024-07-18 13:55:48,116 - INFO - 2024-07-18T13:55:46.066174079Z 2024-07-18,13:55:46 | INFO |   val_data: None\n",
            "2024-07-18 13:55:48,116 - INFO - 2024-07-18T13:55:46.066231110Z 2024-07-18,13:55:46 | INFO |   val_frequency: 1\n",
            "2024-07-18 13:55:48,116 - INFO - 2024-07-18T13:55:46.066304011Z 2024-07-18,13:55:46 | INFO |   val_num_samples: None\n",
            "2024-07-18 13:55:48,116 - INFO - 2024-07-18T13:55:46.066365232Z 2024-07-18,13:55:46 | INFO |   wandb: False\n",
            "2024-07-18 13:55:48,116 - INFO - 2024-07-18T13:55:46.066431603Z 2024-07-18,13:55:46 | INFO |   wandb_notes: \n",
            "2024-07-18 13:55:48,116 - INFO - 2024-07-18T13:55:46.066484924Z 2024-07-18,13:55:46 | INFO |   wandb_project_name: open-clip\n",
            "2024-07-18 13:55:48,116 - INFO - 2024-07-18T13:55:46.066560775Z 2024-07-18,13:55:46 | INFO |   warmup: 10000\n",
            "2024-07-18 13:55:48,116 - INFO - 2024-07-18T13:55:46.066618276Z 2024-07-18,13:55:46 | INFO |   wd: 0.2\n",
            "2024-07-18 13:55:48,116 - INFO - 2024-07-18T13:55:46.066694137Z 2024-07-18,13:55:46 | INFO |   weight_key: score\n",
            "2024-07-18 13:55:48,117 - INFO - 2024-07-18T13:55:46.066748948Z 2024-07-18,13:55:46 | INFO |   weighted_loss: ce\n",
            "2024-07-18 13:55:48,117 - INFO - 2024-07-18T13:55:46.066820200Z 2024-07-18,13:55:46 | INFO |   workers: 1\n",
            "2024-07-18 13:55:48,117 - INFO - 2024-07-18T13:55:46.066874570Z 2024-07-18,13:55:46 | INFO |   world_size: 1\n",
            "2024-07-18 13:55:48,117 - INFO - 2024-07-18T13:55:46.066945752Z 2024-07-18,13:55:46 | INFO |   zeroshot_frequency: 2\n",
            "2024-07-18 13:55:48,117 - INFO - 2024-07-18T13:55:46.444486500Z Using Pyarrow instead of List\n",
            "2024-07-18 13:55:48,117 - INFO - 2024-07-18T13:55:46.785939915Z 2024-07-18,13:55:46 | INFO | Start epoch 0\n",
            "2024-07-18 13:55:58,124 - INFO - 2024-07-18T13:55:51.851887429Z /usr/local/lib/python3.8/site-packages/torch/utils/checkpoint.py:464: UserWarning: torch.utils.checkpoint: the use_reentrant parameter should be passed explicitly. In version 2.4 we will raise an exception if use_reentrant is not passed. use_reentrant=False is recommended, but if you need to preserve the current default behavior, you can pass use_reentrant=True. Refer to docs for more details on the differences between the two variants.\n",
            "2024-07-18 13:55:58,124 - INFO - 2024-07-18T13:55:51.851913780Z   warnings.warn(\n",
            "2024-07-18 13:56:28,140 - INFO - 2024-07-18T13:56:26.499610865Z 2024-07-18,13:56:26 | INFO | Train Epoch: 0 [   256/100000 (0%)] Data (t): 2.519 Batch (t): 39.712, 6.44642/s, 6.44642/s/gpu LR: 0.000000 Logit Scale: 100.003, Logit Bias: 0.000, Txt_img_0_0_loss: 1.5323 (1.5323) Txt_txt_0_1_loss: 2.2189 (2.2189) Weighted_mean_loss: 1.1285 (1.1285) Loss: 1.6030 (1.6030)\n",
            "2024-07-18 13:59:08,238 - INFO - 2024-07-18T13:59:02.466888818Z 2024-07-18,13:59:02 | INFO | Train Epoch: 0 [ 25856/100000 (26%)] Data (t): 0.738 Batch (t): 1.559, 160.485/s, 160.485/s/gpu LR: 0.000005 Logit Scale: 99.984, Logit Bias: 0.000, Txt_img_0_0_loss: 0.89163 (1.2119) Txt_txt_0_1_loss: 0.40258 (1.3107) Weighted_mean_loss: 0.61996 (0.87425) Loss: 0.70145 (1.1522)\n",
            "2024-07-18 14:01:48,335 - INFO - 2024-07-18T14:01:39.581811134Z 2024-07-18,14:01:39 | INFO | Train Epoch: 0 [ 51456/100000 (52%)] Data (t): 0.769 Batch (t): 1.571, 160.955/s, 160.955/s/gpu LR: 0.000010 Logit Scale: 99.969, Logit Bias: 0.000, Txt_img_0_0_loss: 0.89120 (1.1050) Txt_txt_0_1_loss: 0.32536 (0.98227) Weighted_mean_loss: 0.66933 (0.80594) Loss: 0.69427 (0.99957)\n",
            "2024-07-18 14:04:18,429 - INFO - 2024-07-18T14:04:16.159575545Z 2024-07-18,14:04:16 | INFO | Train Epoch: 0 [ 77056/100000 (77%)] Data (t): 0.764 Batch (t): 1.566, 167.431/s, 167.431/s/gpu LR: 0.000015 Logit Scale: 99.943, Logit Bias: 0.000, Txt_img_0_0_loss: 1.0737 (1.0972) Txt_txt_0_1_loss: 0.36037 (0.82679) Weighted_mean_loss: 0.74134 (0.78979) Loss: 0.81226 (0.95274)\n",
            "2024-07-18 14:06:38,519 - INFO - 2024-07-18T14:06:35.415215269Z 2024-07-18,14:06:35 | INFO | Train Epoch: 0 [ 99840/100000 (100%)] Data (t): 0.762 Batch (t): 1.565, 165.083/s, 165.083/s/gpu LR: 0.000019 Logit Scale: 99.911, Logit Bias: 0.000, Txt_img_0_0_loss: 0.97796 (1.0733) Txt_txt_0_1_loss: 0.27951 (0.71734) Weighted_mean_loss: 0.60969 (0.75377) Loss: 0.71128 (0.90445)\n",
            "2024-07-18 14:06:38,520 - INFO - 2024-07-18T14:06:37.167652264Z 2024-07-18,14:06:37 | INFO | Start epoch 1\n",
            "2024-07-18 14:06:48,525 - INFO - 2024-07-18T14:06:39.746418503Z 2024-07-18,14:06:39 | INFO | Train Epoch: 1 [   256/100000 (0%)] Data (t): 1.744 Batch (t): 2.553, 100.273/s, 100.273/s/gpu LR: 0.000020 Logit Scale: 99.911, Logit Bias: 0.000, Txt_img_0_0_loss: 0.77348 (0.77348) Txt_txt_0_1_loss: 0.24046 (0.24046) Weighted_mean_loss: 0.46922 (0.46922) Loss: 0.56416 (0.56416)\n",
            "2024-07-18 14:09:18,617 - INFO - 2024-07-18T14:09:17.162566477Z 2024-07-18,14:09:17 | INFO | Train Epoch: 1 [ 25856/100000 (26%)] Data (t): 0.772 Batch (t): 1.574, 164.194/s, 164.194/s/gpu LR: 0.000025 Logit Scale: 99.899, Logit Bias: 0.000, Txt_img_0_0_loss: 0.63365 (0.70357) Txt_txt_0_1_loss: 0.15212 (0.19629) Weighted_mean_loss: 0.34762 (0.40842) Loss: 0.44176 (0.50296)\n",
            "2024-07-18 14:11:58,712 - INFO - 2024-07-18T14:11:54.134563930Z 2024-07-18,14:11:54 | INFO | Train Epoch: 1 [ 51456/100000 (52%)] Data (t): 0.767 Batch (t): 1.570, 161.200/s, 161.200/s/gpu LR: 0.000030 Logit Scale: 99.836, Logit Bias: 0.000, Txt_img_0_0_loss: 0.57851 (0.66188) Txt_txt_0_1_loss: 0.23821 (0.21026) Weighted_mean_loss: 0.32284 (0.37989) Loss: 0.42952 (0.47848)\n",
            "2024-07-18 14:14:38,810 - INFO - 2024-07-18T14:14:30.615568098Z 2024-07-18,14:14:30 | INFO | Train Epoch: 1 [ 77056/100000 (77%)] Data (t): 0.763 Batch (t): 1.565, 162.534/s, 162.534/s/gpu LR: 0.000035 Logit Scale: 99.773, Logit Bias: 0.000, Txt_img_0_0_loss: 0.76690 (0.68814) Txt_txt_0_1_loss: 0.24729 (0.21952) Weighted_mean_loss: 0.44136 (0.39526) Loss: 0.55562 (0.49776)\n",
            "2024-07-18 14:16:50,015 - INFO - Uploading files\n",
            "2024-07-18 14:16:58,905 - INFO - 2024-07-18T14:16:49.984428818Z 2024-07-18,14:16:49 | INFO | Train Epoch: 1 [ 99840/100000 (100%)] Data (t): 0.764 Batch (t): 1.566, 161.620/s, 161.620/s/gpu LR: 0.000039 Logit Scale: 99.697, Logit Bias: 0.000, Txt_img_0_0_loss: 0.67637 (0.68578) Txt_txt_0_1_loss: 0.28871 (0.23336) Weighted_mean_loss: 0.35966 (0.38814) Loss: 0.50028 (0.49827)\n",
            "2024-07-18 14:16:58,906 - INFO - 2024-07-18T14:16:52.032505904Z 2024-07-18,14:16:52 | INFO | Start epoch 2\n",
            "2024-07-18 14:16:58,906 - INFO - 2024-07-18T14:16:55.068284232Z 2024-07-18,14:16:55 | INFO | Train Epoch: 2 [   256/100000 (0%)] Data (t): 2.200 Batch (t): 3.010, 85.0411/s, 85.0411/s/gpu LR: 0.000039 Logit Scale: 99.695, Logit Bias: 0.000, Txt_img_0_0_loss: 0.52506 (0.52506) Txt_txt_0_1_loss: 0.25855 (0.25855) Weighted_mean_loss: 0.28404 (0.28404) Loss: 0.39818 (0.39818)\n",
            "2024-07-18 14:19:39,008 - INFO - 2024-07-18T14:19:34.540448045Z 2024-07-18,14:19:34 | INFO | Train Epoch: 2 [ 25856/100000 (26%)] Data (t): 0.792 Batch (t): 1.595, 165.072/s, 165.072/s/gpu LR: 0.000044 Logit Scale: 99.673, Logit Bias: 0.000, Txt_img_0_0_loss: 0.52088 (0.52297) Txt_txt_0_1_loss: 0.12084 (0.18970) Weighted_mean_loss: 0.25588 (0.26996) Loss: 0.35462 (0.37640)\n",
            "2024-07-18 14:22:19,105 - INFO - 2024-07-18T14:22:11.467034664Z 2024-07-18,14:22:11 | INFO | Train Epoch: 2 [ 51456/100000 (52%)] Data (t): 0.767 Batch (t): 1.569, 162.655/s, 162.655/s/gpu LR: 0.000049 Logit Scale: 99.560, Logit Bias: 0.000, Txt_img_0_0_loss: 0.61744 (0.55446) Txt_txt_0_1_loss: 0.22134 (0.20025) Weighted_mean_loss: 0.32422 (0.28805) Loss: 0.44511 (0.39930)\n",
            "2024-07-18 14:24:49,197 - INFO - 2024-07-18T14:24:48.118178804Z 2024-07-18,14:24:48 | INFO | Train Epoch: 2 [ 77056/100000 (77%)] Data (t): 0.764 Batch (t): 1.567, 163.838/s, 163.838/s/gpu LR: 0.000054 Logit Scale: 99.406, Logit Bias: 0.000, Txt_img_0_0_loss: 0.75475 (0.60453) Txt_txt_0_1_loss: 0.22232 (0.20576) Weighted_mean_loss: 0.37788 (0.31051) Loss: 0.52742 (0.43133)\n",
            "2024-07-18 14:27:07,524 - INFO - Uploading files\n",
            "2024-07-18 14:27:09,289 - INFO - 2024-07-18T14:27:07.494324274Z 2024-07-18,14:27:07 | INFO | Train Epoch: 2 [ 99840/100000 (100%)] Data (t): 0.764 Batch (t): 1.566, 165.237/s, 165.237/s/gpu LR: 0.000058 Logit Scale: 99.259, Logit Bias: 0.000, Txt_img_0_0_loss: 0.88920 (0.66147) Txt_txt_0_1_loss: 0.23315 (0.21124) Weighted_mean_loss: 0.37748 (0.32390) Loss: 0.59725 (0.46452)\n",
            "2024-07-18 14:27:19,301 - INFO - 2024-07-18T14:27:09.664774559Z 2024-07-18,14:27:09 | INFO | Start epoch 3\n",
            "2024-07-18 14:27:19,302 - INFO - 2024-07-18T14:27:12.615458089Z 2024-07-18,14:27:12 | INFO | Train Epoch: 3 [   256/100000 (0%)] Data (t): 2.113 Batch (t): 2.925, 87.5194/s, 87.5194/s/gpu LR: 0.000059 Logit Scale: 99.257, Logit Bias: 0.000, Txt_img_0_0_loss: 0.44124 (0.44124) Txt_txt_0_1_loss: 0.13001 (0.13001) Weighted_mean_loss: 0.17660 (0.17660) Loss: 0.29727 (0.29727)\n",
            "2024-07-18 14:29:59,406 - INFO - 2024-07-18T14:29:53.127668645Z 2024-07-18,14:29:53 | INFO | Train Epoch: 3 [ 25856/100000 (26%)] Data (t): 0.802 Batch (t): 1.605, 164.380/s, 164.380/s/gpu LR: 0.000064 Logit Scale: 99.177, Logit Bias: 0.000, Txt_img_0_0_loss: 0.51387 (0.47755) Txt_txt_0_1_loss: 0.15358 (0.14179) Weighted_mean_loss: 0.22663 (0.20161) Loss: 0.35198 (0.32463)\n",
            "2024-07-18 14:32:39,503 - INFO - 2024-07-18T14:32:30.023553397Z 2024-07-18,14:32:30 | INFO | Train Epoch: 3 [ 51456/100000 (52%)] Data (t): 0.767 Batch (t): 1.569, 163.578/s, 163.578/s/gpu LR: 0.000069 Logit Scale: 98.994, Logit Bias: 0.000, Txt_img_0_0_loss: 0.76078 (0.57196) Txt_txt_0_1_loss: 0.14278 (0.14212) Weighted_mean_loss: 0.33530 (0.24618) Loss: 0.49991 (0.38306)\n",
            "2024-07-18 14:35:09,594 - INFO - 2024-07-18T14:35:07.132803174Z 2024-07-18,14:35:07 | INFO | Train Epoch: 3 [ 77056/100000 (77%)] Data (t): 0.769 Batch (t): 1.571, 164.695/s, 164.695/s/gpu LR: 0.000074 Logit Scale: 98.787, Logit Bias: 0.000, Txt_img_0_0_loss: 0.72400 (0.60997) Txt_txt_0_1_loss: 0.21826 (0.16116) Weighted_mean_loss: 0.31038 (0.26223) Loss: 0.49416 (0.41083)\n",
            "2024-07-18 14:37:27,165 - INFO - Uploading files\n",
            "2024-07-18 14:37:29,685 - INFO - 2024-07-18T14:37:27.134308315Z 2024-07-18,14:37:27 | INFO | Train Epoch: 3 [ 99840/100000 (100%)] Data (t): 0.771 Batch (t): 1.573, 164.814/s, 164.814/s/gpu LR: 0.000078 Logit Scale: 98.615, Logit Bias: 0.000, Txt_img_0_0_loss: 0.87978 (0.66393) Txt_txt_0_1_loss: 0.14027 (0.15698) Weighted_mean_loss: 0.33899 (0.27758) Loss: 0.55971 (0.44061)\n",
            "2024-07-18 14:37:39,698 - INFO - 2024-07-18T14:37:29.228165706Z 2024-07-18,14:37:29 | INFO | Start epoch 4\n",
            "2024-07-18 14:37:39,698 - INFO - 2024-07-18T14:37:32.284787852Z 2024-07-18,14:37:32 | INFO | Train Epoch: 4 [   256/100000 (0%)] Data (t): 2.221 Batch (t): 3.031, 84.4531/s, 84.4531/s/gpu LR: 0.000078 Logit Scale: 98.610, Logit Bias: 0.000, Txt_img_0_0_loss: 0.54641 (0.54641) Txt_txt_0_1_loss: 0.18065 (0.18065) Weighted_mean_loss: 0.20346 (0.20346) Loss: 0.36924 (0.36924)\n",
            "2024-07-18 14:40:19,802 - INFO - 2024-07-18T14:40:12.302804590Z 2024-07-18,14:40:12 | INFO | Train Epoch: 4 [ 25856/100000 (26%)] Data (t): 0.798 Batch (t): 1.600, 163.904/s, 163.904/s/gpu LR: 0.000083 Logit Scale: 98.500, Logit Bias: 0.000, Txt_img_0_0_loss: 0.52038 (0.53340) Txt_txt_0_1_loss: 0.14834 (0.16450) Weighted_mean_loss: 0.23211 (0.21778) Loss: 0.35530 (0.36227)\n",
            "2024-07-18 14:42:59,901 - INFO - 2024-07-18T14:42:49.435726315Z 2024-07-18,14:42:49 | INFO | Train Epoch: 4 [ 51456/100000 (52%)] Data (t): 0.769 Batch (t): 1.571, 166.375/s, 166.375/s/gpu LR: 0.000088 Logit Scale: 98.270, Logit Bias: 0.000, Txt_img_0_0_loss: 0.62501 (0.56394) Txt_txt_0_1_loss: 0.16294 (0.16398) Weighted_mean_loss: 0.25002 (0.22853) Loss: 0.41575 (0.38010)\n",
            "2024-07-18 14:45:29,992 - INFO - 2024-07-18T14:45:26.401934714Z 2024-07-18,14:45:26 | INFO | Train Epoch: 4 [ 77056/100000 (77%)] Data (t): 0.767 Batch (t): 1.570, 162.332/s, 162.332/s/gpu LR: 0.000093 Logit Scale: 98.040, Logit Bias: 0.000, Txt_img_0_0_loss: 0.87098 (0.64070) Txt_txt_0_1_loss: 0.27305 (0.19125) Weighted_mean_loss: 0.33408 (0.25492) Loss: 0.58727 (0.43189)\n",
            "2024-07-18 14:47:45,978 - INFO - Uploading files\n",
            "2024-07-18 14:47:50,087 - INFO - 2024-07-18T14:47:45.948021442Z 2024-07-18,14:47:45 | INFO | Train Epoch: 4 [ 99840/100000 (100%)] Data (t): 0.766 Batch (t): 1.568, 160.675/s, 160.675/s/gpu LR: 0.000097 Logit Scale: 97.812, Logit Bias: 0.000, Txt_img_0_0_loss: 0.93841 (0.70024) Txt_txt_0_1_loss: 0.29458 (0.21191) Weighted_mean_loss: 0.34666 (0.27327) Loss: 0.62952 (0.47142)\n",
            "2024-07-18 14:47:50,088 - INFO - 2024-07-18T14:47:48.038890587Z I0718 14:47:48.038226 140149990823744 torch/_dynamo/utils.py:320] TorchDynamo compilation metrics:\n",
            "2024-07-18 14:47:50,088 - INFO - 2024-07-18T14:47:48.038916778Z I0718 14:47:48.038226 140149990823744 torch/_dynamo/utils.py:320] Function, Runtimes (s)\n",
            "2024-07-18 14:48:10,112 - INFO - 2024-07-18T14:48:00.301241656Z Successfully extracted /app/src/data/zips/shard7_0.zip to /app/src/data\n",
            "2024-07-18 14:48:10,112 - INFO - 2024-07-18T14:48:00.301271257Z Successfully extracted /app/src/data/zips/shard36_0.zip to /app/src/data\n",
            "2024-07-18 14:48:10,112 - INFO - 2024-07-18T14:48:00.301277467Z Deleted zip file /app/src/data/zips/shard36_0.zip\n",
            "2024-07-18 14:48:10,112 - INFO - 2024-07-18T14:48:00.301280947Z Deleted zip file /app/src/data/zips/shard7_0.zip\n",
            "2024-07-18 14:48:10,112 - INFO - 2024-07-18T14:48:00.301283687Z Successfully extracted /app/src/data/zips/shard40_0.zip to /app/src/data\n",
            "2024-07-18 14:48:10,112 - INFO - 2024-07-18T14:48:00.301286217Z Deleted zip file /app/src/data/zips/shard40_0.zip\n",
            "2024-07-18 14:48:10,112 - INFO - 2024-07-18T14:48:00.301288677Z Successfully extracted /app/src/data/zips/shard11_0.zip to /app/src/data\n",
            "2024-07-18 14:48:10,112 - INFO - 2024-07-18T14:48:00.301291097Z Deleted zip file /app/src/data/zips/shard11_0.zip\n",
            "2024-07-18 14:48:10,112 - INFO - 2024-07-18T14:48:00.301293487Z Successfully extracted /app/src/data/zips/shard19_0.zip to /app/src/data\n",
            "2024-07-18 14:48:10,113 - INFO - 2024-07-18T14:48:00.301296037Z Deleted zip file /app/src/data/zips/shard19_0.zip\n",
            "2024-07-18 14:48:10,113 - INFO - 2024-07-18T14:48:00.301298617Z Successfully extracted /app/src/data/zips/shard30_0.zip to /app/src/data\n",
            "2024-07-18 14:48:10,113 - INFO - 2024-07-18T14:48:00.301301187Z Successfully extracted /app/src/data/zips/shard48_0.zip to /app/src/data\n",
            "2024-07-18 14:48:10,113 - INFO - 2024-07-18T14:48:00.301303707Z Deleted zip file /app/src/data/zips/shard30_0.zip\n",
            "2024-07-18 14:48:10,113 - INFO - 2024-07-18T14:48:00.301306167Z Successfully extracted /app/src/data/zips/shard39_0.zip to /app/src/data\n",
            "2024-07-18 14:48:10,113 - INFO - 2024-07-18T14:48:00.301308607Z Deleted zip file /app/src/data/zips/shard48_0.zip\n",
            "2024-07-18 14:48:10,113 - INFO - 2024-07-18T14:48:00.301311128Z Deleted zip file /app/src/data/zips/shard39_0.zip\n",
            "2024-07-18 14:48:10,113 - INFO - 2024-07-18T14:48:00.301313588Z Successfully extracted /app/src/data/zips/shard9_0.zip to /app/src/data\n",
            "2024-07-18 14:48:10,113 - INFO - 2024-07-18T14:48:00.301316058Z Successfully extracted /app/src/data/zips/shard6_0.zip to /app/src/data\n",
            "2024-07-18 14:48:10,113 - INFO - 2024-07-18T14:48:00.301317858Z Deleted zip file /app/src/data/zips/shard9_0.zip\n",
            "2024-07-18 14:48:10,113 - INFO - 2024-07-18T14:48:00.301319638Z Deleted zip file /app/src/data/zips/shard6_0.zip\n",
            "2024-07-18 14:48:10,113 - INFO - 2024-07-18T14:48:00.301321378Z Successfully extracted /app/src/data/zips/shard49_0.zip to /app/src/data\n",
            "2024-07-18 14:48:10,113 - INFO - 2024-07-18T14:48:00.301323158Z Successfully extracted /app/src/data/zips/shard10_0.zip to /app/src/data\n",
            "2024-07-18 14:48:10,113 - INFO - 2024-07-18T14:48:00.301324928Z Deleted zip file /app/src/data/zips/shard49_0.zip\n",
            "2024-07-18 14:48:10,113 - INFO - 2024-07-18T14:48:00.301326658Z Deleted zip file /app/src/data/zips/shard10_0.zip\n",
            "2024-07-18 14:48:10,113 - INFO - 2024-07-18T14:48:00.301328388Z Successfully extracted /app/src/data/zips/shard26_0.zip to /app/src/data\n",
            "2024-07-18 14:48:10,113 - INFO - 2024-07-18T14:48:00.301330128Z Successfully extracted /app/src/data/zips/shard3_0.zip to /app/src/data\n",
            "2024-07-18 14:48:10,113 - INFO - 2024-07-18T14:48:00.301331878Z Successfully extracted /app/src/data/zips/shard16_0.zip to /app/src/data\n",
            "2024-07-18 14:48:10,113 - INFO - 2024-07-18T14:48:00.301333868Z Deleted zip file /app/src/data/zips/shard26_0.zip\n",
            "2024-07-18 14:48:10,113 - INFO - 2024-07-18T14:48:00.301335618Z Deleted zip file /app/src/data/zips/shard3_0.zip\n",
            "2024-07-18 14:48:10,114 - INFO - 2024-07-18T14:48:00.301337328Z Deleted zip file /app/src/data/zips/shard16_0.zip\n",
            "2024-07-18 14:48:10,114 - INFO - 2024-07-18T14:48:00.301339038Z Successfully extracted /app/src/data/zips/shard12_0.zip to /app/src/data\n",
            "2024-07-18 14:48:10,114 - INFO - 2024-07-18T14:48:00.301347118Z Deleted zip file /app/src/data/zips/shard12_0.zip\n",
            "2024-07-18 14:48:10,114 - INFO - 2024-07-18T14:48:00.301348998Z Successfully extracted /app/src/data/zips/shard1_0.zip to /app/src/data\n",
            "2024-07-18 14:48:10,114 - INFO - 2024-07-18T14:48:00.301351548Z Successfully extracted /app/src/data/zips/shard8_0.zip to /app/src/data\n",
            "2024-07-18 14:48:10,114 - INFO - 2024-07-18T14:48:00.301353418Z Successfully extracted /app/src/data/zips/shard25_0.zip to /app/src/data\n",
            "2024-07-18 14:48:10,114 - INFO - 2024-07-18T14:48:00.301355248Z Deleted zip file /app/src/data/zips/shard1_0.zip\n",
            "2024-07-18 14:48:10,114 - INFO - 2024-07-18T14:48:00.301356968Z Deleted zip file /app/src/data/zips/shard8_0.zip\n",
            "2024-07-18 14:48:10,114 - INFO - 2024-07-18T14:48:00.301358688Z Deleted zip file /app/src/data/zips/shard25_0.zip\n",
            "2024-07-18 14:48:10,114 - INFO - 2024-07-18T14:48:00.301360438Z Successfully extracted /app/src/data/zips/shard37_0.zip to /app/src/data\n",
            "2024-07-18 14:48:10,114 - INFO - 2024-07-18T14:48:00.301362208Z Successfully extracted /app/src/data/zips/shard2_0.zip to /app/src/data\n",
            "2024-07-18 14:48:10,114 - INFO - 2024-07-18T14:48:00.301363968Z Successfully extracted /app/src/data/zips/shard34_0.zip to /app/src/data\n",
            "2024-07-18 14:48:10,114 - INFO - 2024-07-18T14:48:00.301365708Z Deleted zip file /app/src/data/zips/shard37_0.zip\n",
            "2024-07-18 14:48:10,114 - INFO - 2024-07-18T14:48:00.301367428Z Deleted zip file /app/src/data/zips/shard2_0.zip\n",
            "2024-07-18 14:48:10,114 - INFO - 2024-07-18T14:48:00.301369179Z Deleted zip file /app/src/data/zips/shard34_0.zip\n",
            "2024-07-18 14:48:10,114 - INFO - 2024-07-18T14:48:00.301370899Z Successfully extracted /app/src/data/zips/shard38_0.zip to /app/src/data\n",
            "2024-07-18 14:48:10,114 - INFO - 2024-07-18T14:48:00.301372639Z Deleted zip file /app/src/data/zips/shard38_0.zip\n",
            "2024-07-18 14:48:10,114 - INFO - 2024-07-18T14:48:00.301374359Z Successfully extracted /app/src/data/zips/shard42_0.zip to /app/src/data\n",
            "2024-07-18 14:48:10,114 - INFO - 2024-07-18T14:48:00.301376099Z Successfully extracted /app/src/data/zips/shard33_0.zip to /app/src/data\n",
            "2024-07-18 14:48:10,115 - INFO - 2024-07-18T14:48:00.301377839Z Successfully extracted /app/src/data/zips/shard47_0.zip to /app/src/data\n",
            "2024-07-18 14:48:10,115 - INFO - 2024-07-18T14:48:00.301379599Z Deleted zip file /app/src/data/zips/shard47_0.zip\n",
            "2024-07-18 14:48:10,115 - INFO - 2024-07-18T14:48:00.301381299Z Deleted zip file /app/src/data/zips/shard42_0.zip\n",
            "2024-07-18 14:48:10,115 - INFO - 2024-07-18T14:48:00.301383029Z Deleted zip file /app/src/data/zips/shard33_0.zip\n",
            "2024-07-18 14:48:10,115 - INFO - 2024-07-18T14:48:00.301384749Z Successfully extracted /app/src/data/zips/shard15_0.zip to /app/src/data\n",
            "2024-07-18 14:48:10,115 - INFO - 2024-07-18T14:48:00.301386479Z Deleted zip file /app/src/data/zips/shard15_0.zip\n",
            "2024-07-18 14:48:10,115 - INFO - 2024-07-18T14:48:00.301388199Z Successfully extracted /app/src/data/zips/shard24_0.zip to /app/src/data\n",
            "2024-07-18 14:48:10,115 - INFO - 2024-07-18T14:48:00.301389939Z Successfully extracted /app/src/data/zips/shard4_0.zip to /app/src/data\n",
            "2024-07-18 14:48:10,115 - INFO - 2024-07-18T14:48:00.301391699Z Successfully extracted /app/src/data/zips/shard32_0.zip to /app/src/data\n",
            "2024-07-18 14:48:10,115 - INFO - 2024-07-18T14:48:00.301393439Z Deleted zip file /app/src/data/zips/shard24_0.zip\n",
            "2024-07-18 14:48:10,115 - INFO - 2024-07-18T14:48:00.301395169Z Successfully extracted /app/src/data/zips/shard35_0.zip to /app/src/data\n",
            "2024-07-18 14:48:10,115 - INFO - 2024-07-18T14:48:00.301396919Z Successfully extracted /app/src/data/zips/shard29_0.zip to /app/src/data\n",
            "2024-07-18 14:48:10,115 - INFO - 2024-07-18T14:48:00.301398659Z Deleted zip file /app/src/data/zips/shard4_0.zip\n",
            "2024-07-18 14:48:10,115 - INFO - 2024-07-18T14:48:00.301400389Z Deleted zip file /app/src/data/zips/shard32_0.zip\n",
            "2024-07-18 14:48:10,115 - INFO - 2024-07-18T14:48:00.301405629Z Deleted zip file /app/src/data/zips/shard35_0.zip\n",
            "2024-07-18 14:48:10,115 - INFO - 2024-07-18T14:48:00.301408149Z Deleted zip file /app/src/data/zips/shard29_0.zip\n",
            "2024-07-18 14:48:10,115 - INFO - 2024-07-18T14:48:00.301410589Z Successfully extracted /app/src/data/zips/shard41_0.zip to /app/src/data\n",
            "2024-07-18 14:48:10,115 - INFO - 2024-07-18T14:48:00.301413169Z Deleted zip file /app/src/data/zips/shard41_0.zip\n",
            "2024-07-18 14:48:10,116 - INFO - 2024-07-18T14:48:00.301416129Z Successfully extracted /app/src/data/zips/shard13_0.zip to /app/src/data\n",
            "2024-07-18 14:48:10,116 - INFO - 2024-07-18T14:48:00.301418729Z Deleted zip file /app/src/data/zips/shard13_0.zip\n",
            "2024-07-18 14:48:10,116 - INFO - 2024-07-18T14:48:00.301421249Z Successfully extracted /app/src/data/zips/shard17_0.zip to /app/src/data\n",
            "2024-07-18 14:48:10,116 - INFO - 2024-07-18T14:48:00.301423699Z Deleted zip file /app/src/data/zips/shard17_0.zip\n",
            "2024-07-18 14:48:10,116 - INFO - 2024-07-18T14:48:00.301426119Z Successfully extracted /app/src/data/zips/shard43_0.zip to /app/src/data\n",
            "2024-07-18 14:48:10,116 - INFO - 2024-07-18T14:48:00.301428500Z Successfully extracted /app/src/data/zips/shard23_0.zip to /app/src/data\n",
            "2024-07-18 14:48:10,116 - INFO - 2024-07-18T14:48:00.301430950Z Deleted zip file /app/src/data/zips/shard43_0.zip\n",
            "2024-07-18 14:48:10,116 - INFO - 2024-07-18T14:48:00.301433440Z Deleted zip file /app/src/data/zips/shard23_0.zip\n",
            "2024-07-18 14:48:10,116 - INFO - 2024-07-18T14:48:00.301435890Z Successfully extracted /app/src/data/zips/shard44_0.zip to /app/src/data\n",
            "2024-07-18 14:48:10,116 - INFO - 2024-07-18T14:48:00.301438350Z Successfully extracted /app/src/data/zips/shard46_0.zip to /app/src/data\n",
            "2024-07-18 14:48:10,116 - INFO - 2024-07-18T14:48:00.301440790Z Successfully extracted /app/src/data/zips/shard21_0.zip to /app/src/data\n",
            "2024-07-18 14:48:10,116 - INFO - 2024-07-18T14:48:00.301443180Z Deleted zip file /app/src/data/zips/shard44_0.zip\n",
            "2024-07-18 14:48:10,116 - INFO - 2024-07-18T14:48:00.301445570Z Deleted zip file /app/src/data/zips/shard46_0.zip\n",
            "2024-07-18 14:48:10,116 - INFO - 2024-07-18T14:48:00.301447990Z Deleted zip file /app/src/data/zips/shard21_0.zip\n",
            "2024-07-18 14:48:10,116 - INFO - 2024-07-18T14:48:00.301450410Z Successfully extracted /app/src/data/zips/shard27_0.zip to /app/src/data\n",
            "2024-07-18 14:48:10,116 - INFO - 2024-07-18T14:48:00.301452920Z Successfully extracted /app/src/data/zips/shard31_0.zip to /app/src/data\n",
            "2024-07-18 14:48:10,116 - INFO - 2024-07-18T14:48:00.301455330Z Deleted zip file /app/src/data/zips/shard27_0.zip\n",
            "2024-07-18 14:48:10,116 - INFO - 2024-07-18T14:48:00.301457150Z Deleted zip file /app/src/data/zips/shard31_0.zip\n",
            "2024-07-18 14:48:10,116 - INFO - 2024-07-18T14:48:00.301458900Z Successfully extracted /app/src/data/zips/shard18_0.zip to /app/src/data\n",
            "2024-07-18 14:48:10,116 - INFO - 2024-07-18T14:48:00.301460680Z Deleted zip file /app/src/data/zips/shard18_0.zip\n",
            "2024-07-18 14:48:10,116 - INFO - 2024-07-18T14:48:00.301462520Z Successfully extracted /app/src/data/zips/shard14_0.zip to /app/src/data\n",
            "2024-07-18 14:48:10,117 - INFO - 2024-07-18T14:48:00.301464290Z Deleted zip file /app/src/data/zips/shard14_0.zip\n",
            "2024-07-18 14:48:10,117 - INFO - 2024-07-18T14:48:00.301466040Z Successfully extracted /app/src/data/zips/shard22_0.zip to /app/src/data\n",
            "2024-07-18 14:48:10,117 - INFO - 2024-07-18T14:48:00.301467820Z Successfully extracted /app/src/data/zips/shard5_0.zip to /app/src/data\n",
            "2024-07-18 14:48:10,117 - INFO - 2024-07-18T14:48:00.301469590Z Deleted zip file /app/src/data/zips/shard22_0.zip\n",
            "2024-07-18 14:48:10,117 - INFO - 2024-07-18T14:48:00.301471470Z Successfully extracted /app/src/data/zips/shard20_0.zip to /app/src/data\n",
            "2024-07-18 14:48:10,117 - INFO - 2024-07-18T14:48:00.301473320Z Successfully extracted /app/src/data/zips/shard0_0.zip to /app/src/data\n",
            "2024-07-18 14:48:10,117 - INFO - 2024-07-18T14:48:00.301475100Z Deleted zip file /app/src/data/zips/shard5_0.zip\n",
            "2024-07-18 14:48:10,117 - INFO - 2024-07-18T14:48:00.301479000Z Successfully extracted /app/src/data/zips/shard28_0.zip to /app/src/data\n",
            "2024-07-18 14:48:10,117 - INFO - 2024-07-18T14:48:00.301480870Z Successfully extracted /app/src/data/zips/shard45_0.zip to /app/src/data\n",
            "2024-07-18 14:48:10,117 - INFO - 2024-07-18T14:48:00.301482660Z Deleted zip file /app/src/data/zips/shard20_0.zip\n",
            "2024-07-18 14:48:10,117 - INFO - 2024-07-18T14:48:00.301484420Z Deleted zip file /app/src/data/zips/shard0_0.zip\n",
            "2024-07-18 14:48:10,117 - INFO - 2024-07-18T14:48:00.301486171Z Deleted zip file /app/src/data/zips/shard28_0.zip\n",
            "2024-07-18 14:48:10,117 - INFO - 2024-07-18T14:48:00.301487951Z Deleted zip file /app/src/data/zips/shard45_0.zip\n",
            "2024-07-18 14:48:10,117 - INFO - 2024-07-18T14:48:00.301490051Z Unzipping took 28.96 seconds\n",
            "2024-07-18 14:48:10,117 - INFO - 2024-07-18T14:48:00.301491821Z Executing training job with 1 GPUs.\n",
            "2024-07-18 14:48:10,117 - INFO - 2024-07-18T14:48:00.301495191Z Torchrun command:  ['torchrun', '--nproc_per_node', '1', 'main.py', '--', '--left-keys', \"['query']\", '--left-weights', '[1]', '--right-keys', \"['image', 'title']\", '--right-weights', '[0.9, 0.1]', '--weight-key', 'score', '--epochs', '5', '--train-data', '/app/src/data/label.csv', '--img-or-txt', \"[['txt'], ['img', 'txt']]\", '--context-length', '[[77], [0, 77]]', '--id-keys', \"['query', 'image']\", '--dataset-type', 'weighted_csv', '--model', 'ViT-B-32', '--pretrained', 'laion400m_e31', '--logs', '/app/logs', '--name', 'model']\n",
            "2024-07-18 14:48:30,289 - INFO - Task executed successfully\n",
            "Ready\n"
          ]
        }
      ],
      "source": [
        "model_name = f\"{training_data}-model-{suffix}\"\n",
        "print(f\"Training a new model ({model_name}):\")\n",
        "tuned_model = marqtune_client.train_model(\n",
        "    dataset_id=training_dataset.dataset_id,\n",
        "    model_name=f\"{training_data}-model-{suffix}\",\n",
        "    instance_type=InstanceType.BASIC,\n",
        "    base_model=\"ViT-B-32\",\n",
        "    base_checkpoint=\"laion400m_e31\",\n",
        "    model_type=ModelType.OPEN_CLIP,\n",
        "    hyperparameters=training_params,\n",
        "    wait_for_completion=True,\n",
        ")"
      ]
    },
    {
      "cell_type": "markdown",
      "metadata": {
        "id": "NZKiIINTUteN"
      },
      "source": [
        "Note, the logs contain information about the training process. Here’s an example:\n",
        "\n",
        "```python\n",
        "1721298452795 2024-07-18 10:27:32,795 - INFO - 2024-07-18T10:27:22.521705828Z 2024-07-18,10:27:22 | INFO | Train Epoch: 0 [   256/100000 (0%)] Data (t): 1.996 Batch (t): 6.086, 42.0608/s, 42.0608/s/gpu LR: 0.000000 Logit Scale: 100.003, Logit Bias: 0.000, Txt_img_0_0_loss: 1.5323 (1.5323) Txt_txt_0_1_loss: 2.2189 (2.2189) Weighted_mean_loss: 1.1285 (1.1285) Loss: 1.6030 (1.6030)\n",
        "1721298602882 2024-07-18 10:30:02,882 - INFO - 2024-07-18T10:29:57.309371399Z 2024-07-18,10:29:57 | INFO | Train Epoch: 0 [ 25856/100000 (26%)] Data (t): 0.742 Batch (t): 1.548, 160.529/s, 160.529/s/gpu LR: 0.000005 Logit Scale: 99.984, Logit Bias: 0.000, Txt_img_0_0_loss: 0.89163 (1.2119) Txt_txt_0_1_loss: 0.40258 (1.3107) Weighted_mean_loss: 0.61996 (0.87425) Loss: 0.70145 (1.1522)\n",
        "1721298762976 2024-07-18 10:32:42,975 - INFO - 2024-07-18T10:32:34.148183677Z 2024-07-18,10:32:34 | INFO | Train Epoch: 0 [ 51456/100000 (52%)] Data (t): 0.766 Batch (t): 1.568, 161.327/s, 161.327/s/gpu LR: 0.000010 Logit Scale: 99.969, Logit Bias: 0.000, Txt_img_0_0_loss: 0.89120 (1.1050) Txt_txt_0_1_loss: 0.32536 (0.98227) Weighted_mean_loss: 0.66933 (0.80594) Loss: 0.69427 (0.99957)\n",
        "1721298913063 2024-07-18 10:35:13,063 - INFO - 2024-07-18T10:35:10.632618682Z 2024-07-18,10:35:10 | INFO | Train Epoch: 0 [ 77056/100000 (77%)] Data (t): 0.762 Batch (t): 1.565, 167.016/s, 167.016/s/gpu LR: 0.000015 Logit Scale: 99.943, Logit Bias: 0.000, Txt_img_0_0_loss: 1.0737 (1.0972) Txt_txt_0_1_loss: 0.36037 (0.82679) Weighted_mean_loss: 0.74134 (0.78979) Loss: 0.81226 (0.95274)\n",
        "1721299053145 2024-07-18 10:37:33,145 - INFO - 2024-07-18T10:37:29.910381986Z 2024-07-18,10:37:29 | INFO | Train Epoch: 0 [ 99840/100000 (100%)] Data (t): 0.762 Batch (t): 1.565, 165.425/s, 165.425/s/gpu LR: 0.000019 Logit Scale: 99.911, Logit Bias: 0.000, Txt_img_0_0_loss: 0.97796 (1.0733) Txt_txt_0_1_loss: 0.27951 (0.71734) Weighted_mean_loss: 0.60969 (0.75377) Loss: 0.71128 (0.90445)\n",
        "```\n",
        "\n",
        "We see here information about the epoch, data, batch, logit scale, logit bias, text-image loss, text-text loss, weighted mean loss and loss."
      ]
    },
    {
      "cell_type": "markdown",
      "metadata": {
        "id": "hY2f1_p5Vboa"
      },
      "source": [
        "### **5. Evaluation**"
      ]
    },
    {
      "cell_type": "markdown",
      "metadata": {
        "id": "S_nHDCYqUy7b"
      },
      "source": [
        "Once we've successfully tuned the model we will want to be able to quantify the performance of the tuned model against the baseline set by the original base model. To do this we can get Marqtune to use the evaluation dataset to run a an evaluation on the original base model to establish a baseline and then a subsequent evaluation with the same dataset on the last checkpoint generated by our freshly tuned model.\n",
        "\n",
        "Finally, we will print out the results of each evaluation which should show the tuned model returning better performance numbers than the base model."
      ]
    },
    {
      "cell_type": "code",
      "execution_count": 11,
      "metadata": {
        "id": "-BKvi53YwRVa"
      },
      "outputs": [],
      "source": [
        "eval_params = {\n",
        "    \"leftKeys\": [\"query\"],\n",
        "    \"leftWeights\": [1],\n",
        "    \"rightKeys\": [\"image\", \"title\"],\n",
        "    \"rightWeights\": [0.9, 0.1],\n",
        "    \"weightKey\": \"score\",\n",
        "}"
      ]
    },
    {
      "cell_type": "code",
      "execution_count": 12,
      "metadata": {
        "colab": {
          "base_uri": "https://localhost:8080/"
        },
        "id": "wbaSePEQwU8I",
        "outputId": "e736b30e-a272-4ca7-ea47-ce81b2c24208"
      },
      "outputs": [
        {
          "name": "stdout",
          "output_type": "stream",
          "text": [
            "Evaluating the base model:\n",
            "evaluation_id: 14a910f1-acd6-42e9-a9a9-f96e136c7bd7\n",
            "Initializing\n",
            "Running: Provisioning...\n",
            "Running\n",
            "2024-07-18 14:50:43,623 - INFO - Initialising task\n",
            "2024-07-18 14:50:43,701 - INFO - Downloading files for task 14a910f1-acd6-42e9-a9a9-f96e136c7bd7\n",
            "2024-07-18 14:51:01,427 - INFO - File download is completed\n",
            "2024-07-18 14:51:34,543 - INFO - 2024-07-18T14:51:30.713520212Z Loaded ViT-B-32 model config.\n",
            "2024-07-18 14:51:34,543 - INFO - 2024-07-18T14:51:32.543586340Z laion400m_e31 ViT-B-32\n",
            "100%|████████████████████████████████████████| 605M/605M [00:01<00:00, 550MiB/s]\n",
            "2024-07-18 14:51:44,548 - INFO - 2024-07-18T14:51:34.231463838Z Loading pretrained ViT-B-32 weights (laion400m_e31).\n",
            "2024-07-18 14:52:04,562 - INFO - 2024-07-18T14:51:59.368629465Z loading df test\n",
            "2024-07-18 14:52:04,562 - INFO - 2024-07-18T14:51:59.368658725Z        docid                                     query  score\n",
            "2024-07-18 14:52:04,563 - INFO - 2024-07-18T14:51:59.368661485Z 0          1                      Boys' fitness shorts     15\n",
            "2024-07-18 14:52:04,563 - INFO - 2024-07-18T14:51:59.368663385Z 1          2               Girls Soccer Training Shoes     14\n",
            "2024-07-18 14:52:04,563 - INFO - 2024-07-18T14:51:59.368665235Z 2          3                      pink toddler warmers     93\n",
            "2024-07-18 14:52:04,563 - INFO - 2024-07-18T14:51:59.368667055Z 3          4                        Control Top Tights      6\n",
            "2024-07-18 14:52:04,563 - INFO - 2024-07-18T14:51:59.368668806Z 4          5                          Espresso devices     13\n",
            "2024-07-18 14:52:04,563 - INFO - 2024-07-18T14:51:59.368670736Z ...      ...                                       ...    ...\n",
            "2024-07-18 14:52:04,563 - INFO - 2024-07-18T14:51:59.368672506Z 24995  24996  Water Bottle Side Pockets Kids Backpacks     94\n",
            "2024-07-18 14:52:04,563 - INFO - 2024-07-18T14:51:59.368674246Z 24996  24997                  Handmade beeswax candles     33\n",
            "2024-07-18 14:52:04,563 - INFO - 2024-07-18T14:51:59.368675996Z 24997  24998                           stylish buckles     47\n",
            "2024-07-18 14:52:04,563 - INFO - 2024-07-18T14:51:59.368677746Z 24998  24999            Novelty School Belts for Girls     59\n",
            "2024-07-18 14:52:04,563 - INFO - 2024-07-18T14:51:59.368679486Z 24999  25000                         Roll Storage Case     21\n",
            "2024-07-18 14:52:04,563 - INFO - 2024-07-18T14:51:59.368681256Z \n",
            "2024-07-18 14:52:04,563 - INFO - 2024-07-18T14:51:59.368682946Z [25000 rows x 3 columns]\n",
            "100%|██████████| 49/49 [01:12<00:00,  1.49s/it]\n",
            "2024-07-18 14:53:14,605 - INFO - 2024-07-18T14:53:13.033238485Z torch.Size([25000, 512]) torch.float32\n",
            "2024-07-18 14:53:14,605 - INFO - 2024-07-18T14:53:13.033267726Z Computing\n",
            "100%|██████████| 1000/1000 [00:00<00:00, 1056.50it/s]\n",
            "2024-07-18 14:53:14,605 - INFO - 2024-07-18T14:53:13.984152671Z Running Retrieval\n",
            "100%|██████████| 1000/1000 [00:09<00:00, 107.48it/s]\n",
            "2024-07-18 14:53:34,617 - INFO - 2024-07-18T14:53:25.287515645Z For evaluation, we ignore identical query and document ids (default), please explicitly set ``ignore_identical_ids=False`` to ignore this.\n",
            "2024-07-18 14:53:34,617 - INFO - 2024-07-18T14:53:25.723712498Z \n",
            "2024-07-18 14:53:34,617 - INFO - 2024-07-18T14:53:25.723744438Z \n",
            "2024-07-18 14:53:34,617 - INFO - 2024-07-18T14:53:25.723748158Z NDCG@1: 0.1431\n",
            "2024-07-18 14:53:34,617 - INFO - 2024-07-18T14:53:25.723751069Z NDCG@2: 0.1778\n",
            "2024-07-18 14:53:34,617 - INFO - 2024-07-18T14:53:25.723757309Z NDCG@3: 0.2050\n",
            "2024-07-18 14:53:34,617 - INFO - 2024-07-18T14:53:25.723759849Z NDCG@4: 0.2234\n",
            "2024-07-18 14:53:34,617 - INFO - 2024-07-18T14:53:25.723815950Z NDCG@5: 0.2387\n",
            "2024-07-18 14:53:34,617 - INFO - 2024-07-18T14:53:25.723823410Z NDCG@6: 0.2503\n",
            "2024-07-18 14:53:34,617 - INFO - 2024-07-18T14:53:25.723887821Z NDCG@8: 0.2651\n",
            "2024-07-18 14:53:34,617 - INFO - 2024-07-18T14:53:25.723930732Z NDCG@10: 0.2788\n",
            "2024-07-18 14:53:34,617 - INFO - 2024-07-18T14:53:25.723936172Z NDCG@12: 0.2883\n",
            "2024-07-18 14:53:34,617 - INFO - 2024-07-18T14:53:25.724012793Z NDCG@20: 0.3084\n",
            "2024-07-18 14:53:34,617 - INFO - 2024-07-18T14:53:25.724053884Z NDCG@30: 0.3217\n",
            "2024-07-18 14:53:34,617 - INFO - 2024-07-18T14:53:25.724056544Z NDCG@40: 0.3305\n",
            "2024-07-18 14:53:34,617 - INFO - 2024-07-18T14:53:25.724104385Z NDCG@50: 0.3382\n",
            "2024-07-18 14:53:34,617 - INFO - 2024-07-18T14:53:25.724145115Z NDCG@60: 0.3444\n",
            "2024-07-18 14:53:34,618 - INFO - 2024-07-18T14:53:25.724181526Z NDCG@70: 0.3486\n",
            "2024-07-18 14:53:34,618 - INFO - 2024-07-18T14:53:25.724223567Z NDCG@80: 0.3514\n",
            "2024-07-18 14:53:34,618 - INFO - 2024-07-18T14:53:25.724264838Z NDCG@90: 0.3553\n",
            "2024-07-18 14:53:34,618 - INFO - 2024-07-18T14:53:25.724320479Z NDCG@100: 0.3580\n",
            "2024-07-18 14:53:34,618 - INFO - 2024-07-18T14:53:25.724343349Z NDCG@200: 0.3683\n",
            "2024-07-18 14:53:34,618 - INFO - 2024-07-18T14:53:25.724400440Z NDCG@500: 0.3758\n",
            "2024-07-18 14:53:34,618 - INFO - 2024-07-18T14:53:25.724432120Z NDCG@1000: 0.3786\n",
            "2024-07-18 14:53:34,618 - INFO - 2024-07-18T14:53:25.724461111Z \n",
            "2024-07-18 14:53:34,618 - INFO - 2024-07-18T14:53:25.724463361Z \n",
            "2024-07-18 14:53:34,618 - INFO - 2024-07-18T14:53:25.724522322Z MAP@1: 0.1221\n",
            "2024-07-18 14:53:34,618 - INFO - 2024-07-18T14:53:25.724551003Z MAP@2: 0.1622\n",
            "2024-07-18 14:53:34,618 - INFO - 2024-07-18T14:53:25.724585893Z MAP@3: 0.1815\n",
            "2024-07-18 14:53:34,618 - INFO - 2024-07-18T14:53:25.724617434Z MAP@4: 0.1920\n",
            "2024-07-18 14:53:34,618 - INFO - 2024-07-18T14:53:25.724673635Z MAP@5: 0.2002\n",
            "2024-07-18 14:53:34,618 - INFO - 2024-07-18T14:53:25.724699665Z MAP@6: 0.2062\n",
            "2024-07-18 14:53:34,618 - INFO - 2024-07-18T14:53:25.724740886Z MAP@8: 0.2126\n",
            "2024-07-18 14:53:34,619 - INFO - 2024-07-18T14:53:25.724771596Z MAP@10: 0.2178\n",
            "2024-07-18 14:53:34,619 - INFO - 2024-07-18T14:53:25.724822787Z MAP@12: 0.2214\n",
            "2024-07-18 14:53:34,619 - INFO - 2024-07-18T14:53:25.724850638Z MAP@20: 0.2276\n",
            "2024-07-18 14:53:34,619 - INFO - 2024-07-18T14:53:25.724894369Z MAP@30: 0.2305\n",
            "2024-07-18 14:53:34,619 - INFO - 2024-07-18T14:53:25.724932629Z MAP@40: 0.2320\n",
            "2024-07-18 14:53:34,619 - INFO - 2024-07-18T14:53:25.724965340Z MAP@50: 0.2331\n",
            "2024-07-18 14:53:34,619 - INFO - 2024-07-18T14:53:25.725007371Z MAP@60: 0.2338\n",
            "2024-07-18 14:53:34,619 - INFO - 2024-07-18T14:53:25.725050901Z MAP@70: 0.2343\n",
            "2024-07-18 14:53:34,619 - INFO - 2024-07-18T14:53:25.725079682Z MAP@80: 0.2346\n",
            "2024-07-18 14:53:34,619 - INFO - 2024-07-18T14:53:25.725120863Z MAP@90: 0.2349\n",
            "2024-07-18 14:53:34,619 - INFO - 2024-07-18T14:53:25.725158963Z MAP@100: 0.2352\n",
            "2024-07-18 14:53:34,619 - INFO - 2024-07-18T14:53:25.725190734Z MAP@200: 0.2358\n",
            "2024-07-18 14:53:34,619 - INFO - 2024-07-18T14:53:25.725233085Z MAP@500: 0.2361\n",
            "2024-07-18 14:53:34,619 - INFO - 2024-07-18T14:53:25.725276095Z MAP@1000: 0.2361\n",
            "2024-07-18 14:53:34,619 - INFO - 2024-07-18T14:53:25.725303846Z \n",
            "2024-07-18 14:53:34,619 - INFO - 2024-07-18T14:53:25.725306036Z \n",
            "2024-07-18 14:53:34,619 - INFO - 2024-07-18T14:53:25.725348387Z Recall@1: 0.1221\n",
            "2024-07-18 14:53:34,619 - INFO - 2024-07-18T14:53:25.725385967Z Recall@2: 0.1930\n",
            "2024-07-18 14:53:34,619 - INFO - 2024-07-18T14:53:25.725418618Z Recall@3: 0.2448\n",
            "2024-07-18 14:53:34,619 - INFO - 2024-07-18T14:53:25.725459258Z Recall@4: 0.2830\n",
            "2024-07-18 14:53:34,619 - INFO - 2024-07-18T14:53:25.725503669Z Recall@5: 0.3220\n",
            "2024-07-18 14:53:34,619 - INFO - 2024-07-18T14:53:25.725531520Z Recall@6: 0.3526\n",
            "2024-07-18 14:53:34,619 - INFO - 2024-07-18T14:53:25.725570460Z Recall@8: 0.3948\n",
            "2024-07-18 14:53:34,619 - INFO - 2024-07-18T14:53:25.725607081Z Recall@10: 0.4374\n",
            "2024-07-18 14:53:34,620 - INFO - 2024-07-18T14:53:25.725639272Z Recall@12: 0.4712\n",
            "2024-07-18 14:53:34,620 - INFO - 2024-07-18T14:53:25.725679472Z Recall@20: 0.5522\n",
            "2024-07-18 14:53:34,620 - INFO - 2024-07-18T14:53:25.725721613Z Recall@30: 0.6142\n",
            "2024-07-18 14:53:34,620 - INFO - 2024-07-18T14:53:25.725748714Z Recall@40: 0.6571\n",
            "2024-07-18 14:53:34,620 - INFO - 2024-07-18T14:53:25.725787314Z Recall@50: 0.6972\n",
            "2024-07-18 14:53:34,620 - INFO - 2024-07-18T14:53:25.725828285Z Recall@60: 0.7308\n",
            "2024-07-18 14:53:34,620 - INFO - 2024-07-18T14:53:25.725870746Z Recall@70: 0.7585\n",
            "2024-07-18 14:53:34,620 - INFO - 2024-07-18T14:53:25.725893396Z Recall@80: 0.7757\n",
            "2024-07-18 14:53:34,620 - INFO - 2024-07-18T14:53:25.725946207Z Recall@90: 0.7994\n",
            "2024-07-18 14:53:34,620 - INFO - 2024-07-18T14:53:25.725948637Z Recall@100: 0.8163\n",
            "2024-07-18 14:53:34,620 - INFO - 2024-07-18T14:53:25.725981178Z Recall@200: 0.8882\n",
            "2024-07-18 14:53:34,620 - INFO - 2024-07-18T14:53:25.725990888Z Recall@500: 0.9483\n",
            "2024-07-18 14:53:34,620 - INFO - 2024-07-18T14:53:25.726036629Z Recall@1000: 0.9712\n",
            "2024-07-18 14:53:34,620 - INFO - 2024-07-18T14:53:25.726038789Z \n",
            "2024-07-18 14:53:34,620 - INFO - 2024-07-18T14:53:25.726040629Z \n",
            "2024-07-18 14:53:34,620 - INFO - 2024-07-18T14:53:25.726085680Z P@1: 0.1570\n",
            "2024-07-18 14:53:34,620 - INFO - 2024-07-18T14:53:25.726110680Z P@2: 0.1275\n",
            "2024-07-18 14:53:34,620 - INFO - 2024-07-18T14:53:25.726149581Z P@3: 0.1080\n",
            "2024-07-18 14:53:34,620 - INFO - 2024-07-18T14:53:25.726152251Z P@4: 0.0938\n",
            "2024-07-18 14:53:34,620 - INFO - 2024-07-18T14:53:25.726191201Z P@5: 0.0844\n",
            "2024-07-18 14:53:34,620 - INFO - 2024-07-18T14:53:25.726222202Z P@6: 0.0775\n",
            "2024-07-18 14:53:34,620 - INFO - 2024-07-18T14:53:25.726250882Z P@8: 0.0654\n",
            "2024-07-18 14:53:34,620 - INFO - 2024-07-18T14:53:25.726253182Z P@10: 0.0581\n",
            "2024-07-18 14:53:34,621 - INFO - 2024-07-18T14:53:25.726290303Z P@12: 0.0522\n",
            "2024-07-18 14:53:34,621 - INFO - 2024-07-18T14:53:25.726296133Z P@20: 0.0369\n",
            "2024-07-18 14:53:34,621 - INFO - 2024-07-18T14:53:25.726350564Z P@30: 0.0273\n",
            "2024-07-18 14:53:34,621 - INFO - 2024-07-18T14:53:25.726353234Z P@40: 0.0221\n",
            "2024-07-18 14:53:34,621 - INFO - 2024-07-18T14:53:25.726401025Z P@50: 0.0186\n",
            "2024-07-18 14:53:34,621 - INFO - 2024-07-18T14:53:25.726412295Z P@60: 0.0163\n",
            "2024-07-18 14:53:34,621 - INFO - 2024-07-18T14:53:25.726479016Z P@70: 0.0145\n",
            "2024-07-18 14:53:34,621 - INFO - 2024-07-18T14:53:25.726486647Z P@80: 0.0129\n",
            "2024-07-18 14:53:34,621 - INFO - 2024-07-18T14:53:25.726511307Z P@90: 0.0118\n",
            "2024-07-18 14:53:34,621 - INFO - 2024-07-18T14:53:25.726550518Z P@100: 0.0109\n",
            "2024-07-18 14:53:34,621 - INFO - 2024-07-18T14:53:25.726606959Z P@200: 0.0059\n",
            "2024-07-18 14:53:34,621 - INFO - 2024-07-18T14:53:25.726611079Z P@500: 0.0025\n",
            "2024-07-18 14:53:34,621 - INFO - 2024-07-18T14:53:25.726667330Z P@1000: 0.0013\n",
            "2024-07-18 14:53:34,621 - INFO - 2024-07-18T14:53:25.738248284Z \n",
            "2024-07-18 14:53:34,621 - INFO - 2024-07-18T14:53:25.738266095Z \n",
            "2024-07-18 14:53:34,621 - INFO - 2024-07-18T14:53:25.960616411Z MRR@1: 0.1570\n",
            "2024-07-18 14:53:34,621 - INFO - 2024-07-18T14:53:25.960647471Z MRR@2: 0.1965\n",
            "2024-07-18 14:53:34,621 - INFO - 2024-07-18T14:53:25.960653771Z MRR@3: 0.2145\n",
            "2024-07-18 14:53:34,622 - INFO - 2024-07-18T14:53:25.960658991Z MRR@4: 0.2250\n",
            "2024-07-18 14:53:34,622 - INFO - 2024-07-18T14:53:25.960663952Z MRR@5: 0.2336\n",
            "2024-07-18 14:53:34,622 - INFO - 2024-07-18T14:53:25.960672632Z MRR@6: 0.2389\n",
            "2024-07-18 14:53:34,622 - INFO - 2024-07-18T14:53:25.960744783Z MRR@8: 0.2452\n",
            "2024-07-18 14:53:34,622 - INFO - 2024-07-18T14:53:25.960754243Z MRR@10: 0.2500\n",
            "2024-07-18 14:53:34,622 - INFO - 2024-07-18T14:53:25.960831795Z MRR@12: 0.2527\n",
            "2024-07-18 14:53:34,622 - INFO - 2024-07-18T14:53:25.960841785Z MRR@20: 0.2575\n",
            "2024-07-18 14:53:34,622 - INFO - 2024-07-18T14:53:25.960894916Z MRR@30: 0.2601\n",
            "2024-07-18 14:53:34,622 - INFO - 2024-07-18T14:53:25.960901666Z MRR@40: 0.2611\n",
            "2024-07-18 14:53:34,622 - INFO - 2024-07-18T14:53:25.960989017Z MRR@50: 0.2620\n",
            "2024-07-18 14:53:34,622 - INFO - 2024-07-18T14:53:25.960996497Z MRR@60: 0.2625\n",
            "2024-07-18 14:53:34,622 - INFO - 2024-07-18T14:53:25.961028198Z MRR@70: 0.2629\n",
            "2024-07-18 14:53:34,622 - INFO - 2024-07-18T14:53:25.961102579Z MRR@80: 0.2631\n",
            "2024-07-18 14:53:34,622 - INFO - 2024-07-18T14:53:25.961110979Z MRR@90: 0.2633\n",
            "2024-07-18 14:53:34,622 - INFO - 2024-07-18T14:53:25.961174461Z MRR@100: 0.2635\n",
            "2024-07-18 14:53:34,622 - INFO - 2024-07-18T14:53:25.961215021Z MRR@200: 0.2640\n",
            "2024-07-18 14:53:34,622 - INFO - 2024-07-18T14:53:25.961253622Z MRR@500: 0.2641\n",
            "2024-07-18 14:53:34,622 - INFO - 2024-07-18T14:53:25.961330143Z MRR@1000: 0.2642\n",
            "2024-07-18 14:53:34,622 - INFO - 2024-07-18T14:53:25.988036043Z \n",
            "2024-07-18 14:53:34,622 - INFO - 2024-07-18T14:53:25.988073764Z \n",
            "2024-07-18 14:53:34,622 - INFO - 2024-07-18T14:53:26.348526592Z Hole@1: 0.7810\n",
            "2024-07-18 14:53:34,622 - INFO - 2024-07-18T14:53:26.348563153Z Hole@2: 0.8170\n",
            "2024-07-18 14:53:34,622 - INFO - 2024-07-18T14:53:26.348567793Z Hole@3: 0.8433\n",
            "2024-07-18 14:53:34,623 - INFO - 2024-07-18T14:53:26.348571463Z Hole@4: 0.8565\n",
            "2024-07-18 14:53:34,623 - INFO - 2024-07-18T14:53:26.348574953Z Hole@5: 0.8666\n",
            "2024-07-18 14:53:34,623 - INFO - 2024-07-18T14:53:26.348596734Z Hole@6: 0.8743\n",
            "2024-07-18 14:53:34,623 - INFO - 2024-07-18T14:53:26.348605024Z Hole@8: 0.8874\n",
            "2024-07-18 14:53:34,623 - INFO - 2024-07-18T14:53:26.348667235Z Hole@10: 0.8908\n",
            "2024-07-18 14:53:34,623 - INFO - 2024-07-18T14:53:26.348673275Z Hole@12: 0.8959\n",
            "2024-07-18 14:53:34,623 - INFO - 2024-07-18T14:53:26.348732766Z Hole@20: 0.9111\n",
            "2024-07-18 14:53:34,623 - INFO - 2024-07-18T14:53:26.348805677Z Hole@30: 0.9201\n",
            "2024-07-18 14:53:34,623 - INFO - 2024-07-18T14:53:26.348808267Z Hole@40: 0.9253\n",
            "2024-07-18 14:53:34,623 - INFO - 2024-07-18T14:53:26.348865948Z Hole@50: 0.9285\n",
            "2024-07-18 14:53:34,623 - INFO - 2024-07-18T14:53:26.348907519Z Hole@60: 0.9316\n",
            "2024-07-18 14:53:34,623 - INFO - 2024-07-18T14:53:26.348952190Z Hole@70: 0.9339\n",
            "2024-07-18 14:53:34,623 - INFO - 2024-07-18T14:53:26.348994521Z Hole@80: 0.9352\n",
            "2024-07-18 14:53:34,623 - INFO - 2024-07-18T14:53:26.349059312Z Hole@90: 0.9364\n",
            "2024-07-18 14:53:34,623 - INFO - 2024-07-18T14:53:26.349088782Z Hole@100: 0.9371\n",
            "2024-07-18 14:53:34,623 - INFO - 2024-07-18T14:53:26.349165804Z Hole@200: 0.9419\n",
            "2024-07-18 14:53:34,623 - INFO - 2024-07-18T14:53:26.349171214Z Hole@500: 0.9446\n",
            "2024-07-18 14:53:34,623 - INFO - 2024-07-18T14:53:26.349228415Z Hole@1000: 0.9458\n",
            "2024-07-18 14:53:34,623 - INFO - 2024-07-18T14:53:26.349358457Z \n",
            "2024-07-18 14:53:34,623 - INFO - 2024-07-18T14:53:26.349361137Z \n",
            "2024-07-18 14:53:34,623 - INFO - 2024-07-18T14:53:26.557698947Z Accuracy@1: 0.1570\n",
            "2024-07-18 14:53:34,623 - INFO - 2024-07-18T14:53:26.557724857Z Accuracy@2: 0.2360\n",
            "2024-07-18 14:53:34,623 - INFO - 2024-07-18T14:53:26.557726937Z Accuracy@3: 0.2900\n",
            "2024-07-18 14:53:34,624 - INFO - 2024-07-18T14:53:26.557728787Z Accuracy@4: 0.3320\n",
            "2024-07-18 14:53:34,624 - INFO - 2024-07-18T14:53:26.557784398Z Accuracy@5: 0.3750\n",
            "2024-07-18 14:53:34,624 - INFO - 2024-07-18T14:53:26.557795688Z Accuracy@6: 0.4070\n",
            "2024-07-18 14:53:34,624 - INFO - 2024-07-18T14:53:26.557849519Z Accuracy@8: 0.4540\n",
            "2024-07-18 14:53:34,624 - INFO - 2024-07-18T14:53:26.557915261Z Accuracy@10: 0.4990\n",
            "2024-07-18 14:53:34,624 - INFO - 2024-07-18T14:53:26.557919271Z Accuracy@12: 0.5300\n",
            "2024-07-18 14:53:34,624 - INFO - 2024-07-18T14:53:26.558000722Z Accuracy@20: 0.6050\n",
            "2024-07-18 14:53:34,624 - INFO - 2024-07-18T14:53:26.558005772Z Accuracy@30: 0.6690\n",
            "2024-07-18 14:53:34,624 - INFO - 2024-07-18T14:53:26.558104844Z Accuracy@40: 0.7080\n",
            "2024-07-18 14:53:34,624 - INFO - 2024-07-18T14:53:26.558107594Z Accuracy@50: 0.7460\n",
            "2024-07-18 14:53:34,624 - INFO - 2024-07-18T14:53:26.558158715Z Accuracy@60: 0.7750\n",
            "2024-07-18 14:53:34,624 - INFO - 2024-07-18T14:53:26.558215066Z Accuracy@70: 0.7980\n",
            "2024-07-18 14:53:34,624 - INFO - 2024-07-18T14:53:26.558245716Z Accuracy@80: 0.8150\n",
            "2024-07-18 14:53:34,624 - INFO - 2024-07-18T14:53:26.558302617Z Accuracy@90: 0.8340\n",
            "2024-07-18 14:53:34,624 - INFO - 2024-07-18T14:53:26.558340548Z Accuracy@100: 0.8500\n",
            "2024-07-18 14:53:34,624 - INFO - 2024-07-18T14:53:26.558404839Z Accuracy@200: 0.9130\n",
            "2024-07-18 14:53:34,624 - INFO - 2024-07-18T14:53:26.558435080Z Accuracy@500: 0.9630\n",
            "2024-07-18 14:53:34,624 - INFO - 2024-07-18T14:53:26.558494221Z Accuracy@1000: 0.9770\n",
            "2024-07-18 14:53:34,624 - INFO - 2024-07-18T14:53:26.562007332Z Evaluation Starts\n",
            "2024-07-18 14:53:34,624 - INFO - 2024-07-18T14:53:26.562014583Z Measure ERR\n",
            "100%|██████████| 1000/1000 [00:00<00:00, 1097.26it/s]\n",
            "2024-07-18 14:53:34,625 - INFO - 2024-07-18T14:53:28.815418271Z {'mAP@1000': [0.23614], 'mrr@1000': [0.26416], 'NDCG@10': [0.27879], 'mERR': 0.2321309837009569, 'mRBP7': 0.08388403333492037, 'mRBP8': 0.06776364809797988, 'mRBP9': 0.04509028006250037}\n",
            "2024-07-18 14:53:34,625 - INFO - 2024-07-18T14:53:28.815444641Z    mAP@1000  mrr@1000  NDCG@10      mERR     mRBP7     mRBP8    mRBP9\n",
            "2024-07-18 14:53:34,625 - INFO - 2024-07-18T14:53:28.815446971Z 0   0.23614   0.26416  0.27879  0.232131  0.083884  0.067764  0.04509\n",
            "2024-07-18 14:53:34,629 - INFO - Task executed successfully\n",
            "Finished\n",
            "Evaluating the tuned model:\n",
            "evaluation_id: 89f9b274-f64e-4232-9c28-76b843e9e5c5\n",
            "Initializing\n",
            "Running: Provisioning.\n",
            "Running\n",
            "2024-07-18 14:55:39,597 - INFO - Initialising task\n",
            "2024-07-18 14:55:39,722 - INFO - Downloading files for task 89f9b274-f64e-4232-9c28-76b843e9e5c5\n",
            "2024-07-18 14:55:46,132 - INFO - File download is completed\n",
            "2024-07-18 14:55:46,206 - INFO - Downloading files for task 89f9b274-f64e-4232-9c28-76b843e9e5c5\n",
            "2024-07-18 14:56:03,349 - INFO - File download is completed\n",
            "2024-07-18 14:56:47,522 - INFO - 2024-07-18T14:56:40.805062510Z Loaded ViT-B-32 model config.\n",
            "2024-07-18 14:56:47,522 - INFO - 2024-07-18T14:56:42.789342695Z Loading pretrained ViT-B-32 weights (/app/src/model/epoch_4.pt).\n",
            "2024-07-18 14:57:17,539 - INFO - 2024-07-18T14:57:12.940563730Z /app/src/model/epoch_4.pt ViT-B-32\n",
            "2024-07-18 14:57:17,539 - INFO - 2024-07-18T14:57:12.940584180Z loading df test\n",
            "2024-07-18 14:57:17,539 - INFO - 2024-07-18T14:57:12.940586680Z        docid                                     query  score\n",
            "2024-07-18 14:57:17,539 - INFO - 2024-07-18T14:57:12.940588720Z 0          1                      Boys' fitness shorts     15\n",
            "2024-07-18 14:57:17,539 - INFO - 2024-07-18T14:57:12.940590640Z 1          2               Girls Soccer Training Shoes     14\n",
            "2024-07-18 14:57:17,539 - INFO - 2024-07-18T14:57:12.940592560Z 2          3                      pink toddler warmers     93\n",
            "2024-07-18 14:57:17,539 - INFO - 2024-07-18T14:57:12.940594461Z 3          4                        Control Top Tights      6\n",
            "2024-07-18 14:57:17,539 - INFO - 2024-07-18T14:57:12.940596281Z 4          5                          Espresso devices     13\n",
            "2024-07-18 14:57:17,539 - INFO - 2024-07-18T14:57:12.940598111Z ...      ...                                       ...    ...\n",
            "2024-07-18 14:57:17,539 - INFO - 2024-07-18T14:57:12.940599931Z 24995  24996  Water Bottle Side Pockets Kids Backpacks     94\n",
            "2024-07-18 14:57:17,539 - INFO - 2024-07-18T14:57:12.940601731Z 24996  24997                  Handmade beeswax candles     33\n",
            "2024-07-18 14:57:17,539 - INFO - 2024-07-18T14:57:12.940603501Z 24997  24998                           stylish buckles     47\n",
            "2024-07-18 14:57:17,539 - INFO - 2024-07-18T14:57:12.940605261Z 24998  24999            Novelty School Belts for Girls     59\n",
            "2024-07-18 14:57:17,539 - INFO - 2024-07-18T14:57:12.940607091Z 24999  25000                         Roll Storage Case     21\n",
            "2024-07-18 14:57:17,539 - INFO - 2024-07-18T14:57:12.940608891Z \n",
            "2024-07-18 14:57:17,540 - INFO - 2024-07-18T14:57:12.940610721Z [25000 rows x 3 columns]\n",
            "100%|██████████| 49/49 [01:21<00:00,  1.67s/it]\n",
            "2024-07-18 14:58:37,588 - INFO - 2024-07-18T14:58:35.414543733Z torch.Size([25000, 512]) torch.float32\n",
            "2024-07-18 14:58:37,588 - INFO - 2024-07-18T14:58:35.414576184Z Computing\n",
            "100%|██████████| 1000/1000 [00:00<00:00, 1054.58it/s]\n",
            "2024-07-18 14:58:37,588 - INFO - 2024-07-18T14:58:36.367111391Z Running Retrieval\n",
            "100%|██████████| 1000/1000 [00:09<00:00, 108.34it/s]\n",
            "2024-07-18 14:58:57,599 - INFO - 2024-07-18T14:58:47.599253817Z For evaluation, we ignore identical query and document ids (default), please explicitly set ``ignore_identical_ids=False`` to ignore this.\n",
            "2024-07-18 14:58:57,599 - INFO - 2024-07-18T14:58:48.028220442Z \n",
            "2024-07-18 14:58:57,599 - INFO - 2024-07-18T14:58:48.028256183Z \n",
            "2024-07-18 14:58:57,599 - INFO - 2024-07-18T14:58:48.028259543Z NDCG@1: 0.1400\n",
            "2024-07-18 14:58:57,599 - INFO - 2024-07-18T14:58:48.028262253Z NDCG@2: 0.1760\n",
            "2024-07-18 14:58:57,599 - INFO - 2024-07-18T14:58:48.028264233Z NDCG@3: 0.2113\n",
            "2024-07-18 14:58:57,599 - INFO - 2024-07-18T14:58:48.028274023Z NDCG@4: 0.2354\n",
            "2024-07-18 14:58:57,599 - INFO - 2024-07-18T14:58:48.028365964Z NDCG@5: 0.2540\n",
            "2024-07-18 14:58:57,599 - INFO - 2024-07-18T14:58:48.028372674Z NDCG@6: 0.2666\n",
            "2024-07-18 14:58:57,599 - INFO - 2024-07-18T14:58:48.028375034Z NDCG@8: 0.2862\n",
            "2024-07-18 14:58:57,599 - INFO - 2024-07-18T14:58:48.028376854Z NDCG@10: 0.3008\n",
            "2024-07-18 14:58:57,600 - INFO - 2024-07-18T14:58:48.028421255Z NDCG@12: 0.3123\n",
            "2024-07-18 14:58:57,600 - INFO - 2024-07-18T14:58:48.028426835Z NDCG@20: 0.3403\n",
            "2024-07-18 14:58:57,600 - INFO - 2024-07-18T14:58:48.028486386Z NDCG@30: 0.3567\n",
            "2024-07-18 14:58:57,600 - INFO - 2024-07-18T14:58:48.028489676Z NDCG@40: 0.3678\n",
            "2024-07-18 14:58:57,600 - INFO - 2024-07-18T14:58:48.028491506Z NDCG@50: 0.3721\n",
            "2024-07-18 14:58:57,600 - INFO - 2024-07-18T14:58:48.028495966Z NDCG@60: 0.3758\n",
            "2024-07-18 14:58:57,600 - INFO - 2024-07-18T14:58:48.028547857Z NDCG@70: 0.3797\n",
            "2024-07-18 14:58:57,600 - INFO - 2024-07-18T14:58:48.028552977Z NDCG@80: 0.3820\n",
            "2024-07-18 14:58:57,600 - INFO - 2024-07-18T14:58:48.028609598Z NDCG@90: 0.3851\n",
            "2024-07-18 14:58:57,600 - INFO - 2024-07-18T14:58:48.028612468Z NDCG@100: 0.3868\n",
            "2024-07-18 14:58:57,600 - INFO - 2024-07-18T14:58:48.028640518Z NDCG@200: 0.3954\n",
            "2024-07-18 14:58:57,600 - INFO - 2024-07-18T14:58:48.028657499Z NDCG@500: 0.3990\n",
            "2024-07-18 14:58:57,600 - INFO - 2024-07-18T14:58:48.028692349Z NDCG@1000: 0.4004\n",
            "2024-07-18 14:58:57,600 - INFO - 2024-07-18T14:58:48.028721520Z \n",
            "2024-07-18 14:58:57,600 - INFO - 2024-07-18T14:58:48.028723870Z \n",
            "2024-07-18 14:58:57,600 - INFO - 2024-07-18T14:58:48.028752020Z MAP@1: 0.1186\n",
            "2024-07-18 14:58:57,600 - INFO - 2024-07-18T14:58:48.028776611Z MAP@2: 0.1603\n",
            "2024-07-18 14:58:57,600 - INFO - 2024-07-18T14:58:48.028821321Z MAP@3: 0.1849\n",
            "2024-07-18 14:58:57,600 - INFO - 2024-07-18T14:58:48.028823921Z MAP@4: 0.1997\n",
            "2024-07-18 14:58:57,600 - INFO - 2024-07-18T14:58:48.028855822Z MAP@5: 0.2095\n",
            "2024-07-18 14:58:57,600 - INFO - 2024-07-18T14:58:48.028868062Z MAP@6: 0.2163\n",
            "2024-07-18 14:58:57,600 - INFO - 2024-07-18T14:58:48.028934513Z MAP@8: 0.2253\n",
            "2024-07-18 14:58:57,600 - INFO - 2024-07-18T14:58:48.028940203Z MAP@10: 0.2310\n",
            "2024-07-18 14:58:57,600 - INFO - 2024-07-18T14:58:48.028967583Z MAP@12: 0.2353\n",
            "2024-07-18 14:58:57,600 - INFO - 2024-07-18T14:58:48.029050075Z MAP@20: 0.2433\n",
            "2024-07-18 14:58:57,600 - INFO - 2024-07-18T14:58:48.029055235Z MAP@30: 0.2470\n",
            "2024-07-18 14:58:57,601 - INFO - 2024-07-18T14:58:48.029059885Z MAP@40: 0.2490\n",
            "2024-07-18 14:58:57,601 - INFO - 2024-07-18T14:58:48.029120516Z MAP@50: 0.2495\n",
            "2024-07-18 14:58:57,601 - INFO - 2024-07-18T14:58:48.029167317Z MAP@60: 0.2500\n",
            "2024-07-18 14:58:57,601 - INFO - 2024-07-18T14:58:48.029173887Z MAP@70: 0.2504\n",
            "2024-07-18 14:58:57,601 - INFO - 2024-07-18T14:58:48.029249538Z MAP@80: 0.2506\n",
            "2024-07-18 14:58:57,601 - INFO - 2024-07-18T14:58:48.029290828Z MAP@90: 0.2509\n",
            "2024-07-18 14:58:57,601 - INFO - 2024-07-18T14:58:48.029332509Z MAP@100: 0.2511\n",
            "2024-07-18 14:58:57,601 - INFO - 2024-07-18T14:58:48.029368430Z MAP@200: 0.2516\n",
            "2024-07-18 14:58:57,601 - INFO - 2024-07-18T14:58:48.029414160Z MAP@500: 0.2518\n",
            "2024-07-18 14:58:57,601 - INFO - 2024-07-18T14:58:48.029452921Z MAP@1000: 0.2518\n",
            "2024-07-18 14:58:57,601 - INFO - 2024-07-18T14:58:48.029510612Z \n",
            "2024-07-18 14:58:57,601 - INFO - 2024-07-18T14:58:48.029515762Z \n",
            "2024-07-18 14:58:57,601 - INFO - 2024-07-18T14:58:48.029518182Z Recall@1: 0.1186\n",
            "2024-07-18 14:58:57,601 - INFO - 2024-07-18T14:58:48.029569213Z Recall@2: 0.1962\n",
            "2024-07-18 14:58:57,601 - INFO - 2024-07-18T14:58:48.029615083Z Recall@3: 0.2646\n",
            "2024-07-18 14:58:57,601 - INFO - 2024-07-18T14:58:48.029619964Z Recall@4: 0.3175\n",
            "2024-07-18 14:58:57,601 - INFO - 2024-07-18T14:58:48.029682394Z Recall@5: 0.3615\n",
            "2024-07-18 14:58:57,601 - INFO - 2024-07-18T14:58:48.029719585Z Recall@6: 0.3955\n",
            "2024-07-18 14:58:57,601 - INFO - 2024-07-18T14:58:48.029747785Z Recall@8: 0.4521\n",
            "2024-07-18 14:58:57,601 - INFO - 2024-07-18T14:58:48.029788756Z Recall@10: 0.5012\n",
            "2024-07-18 14:58:57,601 - INFO - 2024-07-18T14:58:48.029845917Z Recall@12: 0.5407\n",
            "2024-07-18 14:58:57,601 - INFO - 2024-07-18T14:58:48.029852087Z Recall@20: 0.6492\n",
            "2024-07-18 14:58:57,601 - INFO - 2024-07-18T14:58:48.029921418Z Recall@30: 0.7228\n",
            "2024-07-18 14:58:57,601 - INFO - 2024-07-18T14:58:48.029940638Z Recall@40: 0.7783\n",
            "2024-07-18 14:58:57,601 - INFO - 2024-07-18T14:58:48.029984999Z Recall@50: 0.8007\n",
            "2024-07-18 14:58:57,601 - INFO - 2024-07-18T14:58:48.030028390Z Recall@60: 0.8220\n",
            "2024-07-18 14:58:57,602 - INFO - 2024-07-18T14:58:48.030065110Z Recall@70: 0.8447\n",
            "2024-07-18 14:58:57,602 - INFO - 2024-07-18T14:58:48.030091921Z Recall@80: 0.8588\n",
            "2024-07-18 14:58:57,602 - INFO - 2024-07-18T14:58:48.030137671Z Recall@90: 0.8779\n",
            "2024-07-18 14:58:57,602 - INFO - 2024-07-18T14:58:48.030188702Z Recall@100: 0.8882\n",
            "2024-07-18 14:58:57,602 - INFO - 2024-07-18T14:58:48.030203042Z Recall@200: 0.9473\n",
            "2024-07-18 14:58:57,602 - INFO - 2024-07-18T14:58:48.030273264Z Recall@500: 0.9748\n",
            "2024-07-18 14:58:57,602 - INFO - 2024-07-18T14:58:48.030288104Z Recall@1000: 0.9883\n",
            "2024-07-18 14:58:57,602 - INFO - 2024-07-18T14:58:48.030353325Z \n",
            "2024-07-18 14:58:57,602 - INFO - 2024-07-18T14:58:48.030362845Z \n",
            "2024-07-18 14:58:57,602 - INFO - 2024-07-18T14:58:48.030398345Z P@1: 0.1570\n",
            "2024-07-18 14:58:57,602 - INFO - 2024-07-18T14:58:48.030427926Z P@2: 0.1295\n",
            "2024-07-18 14:58:57,602 - INFO - 2024-07-18T14:58:48.030479287Z P@3: 0.1147\n",
            "2024-07-18 14:58:57,602 - INFO - 2024-07-18T14:58:48.030517887Z P@4: 0.1042\n",
            "2024-07-18 14:58:57,602 - INFO - 2024-07-18T14:58:48.030532188Z P@5: 0.0954\n",
            "2024-07-18 14:58:57,602 - INFO - 2024-07-18T14:58:48.030602509Z P@6: 0.0875\n",
            "2024-07-18 14:58:57,602 - INFO - 2024-07-18T14:58:48.030618689Z P@8: 0.0754\n",
            "2024-07-18 14:58:57,602 - INFO - 2024-07-18T14:58:48.030670470Z P@10: 0.0664\n",
            "2024-07-18 14:58:57,602 - INFO - 2024-07-18T14:58:48.030711030Z P@12: 0.0599\n",
            "2024-07-18 14:58:57,602 - INFO - 2024-07-18T14:58:48.030752711Z P@20: 0.0429\n",
            "2024-07-18 14:58:57,602 - INFO - 2024-07-18T14:58:48.030760451Z P@30: 0.0320\n",
            "2024-07-18 14:58:57,602 - INFO - 2024-07-18T14:58:48.030830232Z P@40: 0.0258\n",
            "2024-07-18 14:58:57,602 - INFO - 2024-07-18T14:58:48.030834632Z P@50: 0.0212\n",
            "2024-07-18 14:58:57,602 - INFO - 2024-07-18T14:58:48.030895883Z P@60: 0.0181\n",
            "2024-07-18 14:58:57,602 - INFO - 2024-07-18T14:58:48.030943694Z P@70: 0.0160\n",
            "2024-07-18 14:58:57,602 - INFO - 2024-07-18T14:58:48.030947824Z P@80: 0.0142\n",
            "2024-07-18 14:58:57,602 - INFO - 2024-07-18T14:58:48.031007645Z P@90: 0.0129\n",
            "2024-07-18 14:58:57,603 - INFO - 2024-07-18T14:58:48.031055725Z P@100: 0.0117\n",
            "2024-07-18 14:58:57,603 - INFO - 2024-07-18T14:58:48.031059956Z P@200: 0.0063\n",
            "2024-07-18 14:58:57,603 - INFO - 2024-07-18T14:58:48.031120806Z P@500: 0.0026\n",
            "2024-07-18 14:58:57,603 - INFO - 2024-07-18T14:58:48.031167977Z P@1000: 0.0013\n",
            "2024-07-18 14:58:57,603 - INFO - 2024-07-18T14:58:48.042707863Z \n",
            "2024-07-18 14:58:57,603 - INFO - 2024-07-18T14:58:48.042736924Z \n",
            "2024-07-18 14:58:57,603 - INFO - 2024-07-18T14:58:48.257485750Z MRR@1: 0.1590\n",
            "2024-07-18 14:58:57,603 - INFO - 2024-07-18T14:58:48.257515371Z MRR@2: 0.2025\n",
            "2024-07-18 14:58:57,603 - INFO - 2024-07-18T14:58:48.257517701Z MRR@3: 0.2265\n",
            "2024-07-18 14:58:57,603 - INFO - 2024-07-18T14:58:48.257519651Z MRR@4: 0.2420\n",
            "2024-07-18 14:58:57,603 - INFO - 2024-07-18T14:58:48.257521471Z MRR@5: 0.2516\n",
            "2024-07-18 14:58:57,603 - INFO - 2024-07-18T14:58:48.257563472Z MRR@6: 0.2574\n",
            "2024-07-18 14:58:57,603 - INFO - 2024-07-18T14:58:48.257572752Z MRR@8: 0.2647\n",
            "2024-07-18 14:58:57,603 - INFO - 2024-07-18T14:58:48.257618542Z MRR@10: 0.2702\n",
            "2024-07-18 14:58:57,603 - INFO - 2024-07-18T14:58:48.257673233Z MRR@12: 0.2733\n",
            "2024-07-18 14:58:57,603 - INFO - 2024-07-18T14:58:48.257678013Z MRR@20: 0.2798\n",
            "2024-07-18 14:58:57,603 - INFO - 2024-07-18T14:58:48.257711024Z MRR@30: 0.2823\n",
            "2024-07-18 14:58:57,603 - INFO - 2024-07-18T14:58:48.257799875Z MRR@40: 0.2837\n",
            "2024-07-18 14:58:57,603 - INFO - 2024-07-18T14:58:48.257805975Z MRR@50: 0.2842\n",
            "2024-07-18 14:58:57,603 - INFO - 2024-07-18T14:58:48.257811505Z MRR@60: 0.2845\n",
            "2024-07-18 14:58:57,603 - INFO - 2024-07-18T14:58:48.257896727Z MRR@70: 0.2848\n",
            "2024-07-18 14:58:57,603 - INFO - 2024-07-18T14:58:48.257901067Z MRR@80: 0.2850\n",
            "2024-07-18 14:58:57,603 - INFO - 2024-07-18T14:58:48.257926697Z MRR@90: 0.2852\n",
            "2024-07-18 14:58:57,603 - INFO - 2024-07-18T14:58:48.258002798Z MRR@100: 0.2853\n",
            "2024-07-18 14:58:57,603 - INFO - 2024-07-18T14:58:48.258007958Z MRR@200: 0.2856\n",
            "2024-07-18 14:58:57,603 - INFO - 2024-07-18T14:58:48.258037949Z MRR@500: 0.2857\n",
            "2024-07-18 14:58:57,603 - INFO - 2024-07-18T14:58:48.258116210Z MRR@1000: 0.2857\n",
            "2024-07-18 14:58:57,604 - INFO - 2024-07-18T14:58:48.283723732Z \n",
            "2024-07-18 14:58:57,604 - INFO - 2024-07-18T14:58:48.283749143Z \n",
            "2024-07-18 14:58:57,604 - INFO - 2024-07-18T14:58:48.642597264Z Hole@1: 0.7850\n",
            "2024-07-18 14:58:57,604 - INFO - 2024-07-18T14:58:48.642625045Z Hole@2: 0.8205\n",
            "2024-07-18 14:58:57,604 - INFO - 2024-07-18T14:58:48.642627255Z Hole@3: 0.8357\n",
            "2024-07-18 14:58:57,604 - INFO - 2024-07-18T14:58:48.642629075Z Hole@4: 0.8472\n",
            "2024-07-18 14:58:57,604 - INFO - 2024-07-18T14:58:48.642645595Z Hole@5: 0.8550\n",
            "2024-07-18 14:58:57,604 - INFO - 2024-07-18T14:58:48.642689926Z Hole@6: 0.8638\n",
            "2024-07-18 14:58:57,604 - INFO - 2024-07-18T14:58:48.642716276Z Hole@8: 0.8761\n",
            "2024-07-18 14:58:57,604 - INFO - 2024-07-18T14:58:48.642782387Z Hole@10: 0.8843\n",
            "2024-07-18 14:58:57,604 - INFO - 2024-07-18T14:58:48.642807827Z Hole@12: 0.8912\n",
            "2024-07-18 14:58:57,604 - INFO - 2024-07-18T14:58:48.642861108Z Hole@20: 0.9060\n",
            "2024-07-18 14:58:57,604 - INFO - 2024-07-18T14:58:48.642888889Z Hole@30: 0.9173\n",
            "2024-07-18 14:58:57,604 - INFO - 2024-07-18T14:58:48.642958770Z Hole@40: 0.9236\n",
            "2024-07-18 14:58:57,604 - INFO - 2024-07-18T14:58:48.642963760Z Hole@50: 0.9286\n",
            "2024-07-18 14:58:57,604 - INFO - 2024-07-18T14:58:48.643029661Z Hole@60: 0.9309\n",
            "2024-07-18 14:58:57,604 - INFO - 2024-07-18T14:58:48.643075752Z Hole@70: 0.9323\n",
            "2024-07-18 14:58:57,604 - INFO - 2024-07-18T14:58:48.643112792Z Hole@80: 0.9344\n",
            "2024-07-18 14:58:57,604 - INFO - 2024-07-18T14:58:48.643188113Z Hole@90: 0.9357\n",
            "2024-07-18 14:58:57,604 - INFO - 2024-07-18T14:58:48.643194333Z Hole@100: 0.9368\n",
            "2024-07-18 14:58:57,604 - INFO - 2024-07-18T14:58:48.643251794Z Hole@200: 0.9415\n",
            "2024-07-18 14:58:57,604 - INFO - 2024-07-18T14:58:48.643302435Z Hole@500: 0.9447\n",
            "2024-07-18 14:58:57,604 - INFO - 2024-07-18T14:58:48.643332305Z Hole@1000: 0.9461\n",
            "2024-07-18 14:58:57,604 - INFO - 2024-07-18T14:58:48.643467128Z \n",
            "2024-07-18 14:58:57,604 - INFO - 2024-07-18T14:58:48.643480078Z \n",
            "2024-07-18 14:58:57,604 - INFO - 2024-07-18T14:58:48.847709323Z Accuracy@1: 0.1590\n",
            "2024-07-18 14:58:57,604 - INFO - 2024-07-18T14:58:48.847741894Z Accuracy@2: 0.2460\n",
            "2024-07-18 14:58:57,604 - INFO - 2024-07-18T14:58:48.847745854Z Accuracy@3: 0.3180\n",
            "2024-07-18 14:58:57,605 - INFO - 2024-07-18T14:58:48.847752664Z Accuracy@4: 0.3800\n",
            "2024-07-18 14:58:57,605 - INFO - 2024-07-18T14:58:48.847772754Z Accuracy@5: 0.4280\n",
            "2024-07-18 14:58:57,605 - INFO - 2024-07-18T14:58:48.847818575Z Accuracy@6: 0.4630\n",
            "2024-07-18 14:58:57,605 - INFO - 2024-07-18T14:58:48.847870506Z Accuracy@8: 0.5170\n",
            "2024-07-18 14:58:57,605 - INFO - 2024-07-18T14:58:48.847923016Z Accuracy@10: 0.5690\n",
            "2024-07-18 14:58:57,605 - INFO - 2024-07-18T14:58:48.847960617Z Accuracy@12: 0.6050\n",
            "2024-07-18 14:58:57,605 - INFO - 2024-07-18T14:58:48.847997518Z Accuracy@20: 0.7070\n",
            "2024-07-18 14:58:57,605 - INFO - 2024-07-18T14:58:48.848075729Z Accuracy@30: 0.7700\n",
            "2024-07-18 14:58:57,605 - INFO - 2024-07-18T14:58:48.848081499Z Accuracy@40: 0.8190\n",
            "2024-07-18 14:58:57,605 - INFO - 2024-07-18T14:58:48.848144160Z Accuracy@50: 0.8410\n",
            "2024-07-18 14:58:57,605 - INFO - 2024-07-18T14:58:48.848195091Z Accuracy@60: 0.8600\n",
            "2024-07-18 14:58:57,605 - INFO - 2024-07-18T14:58:48.848220711Z Accuracy@70: 0.8800\n",
            "2024-07-18 14:58:57,605 - INFO - 2024-07-18T14:58:48.848271902Z Accuracy@80: 0.8920\n",
            "2024-07-18 14:58:57,605 - INFO - 2024-07-18T14:58:48.848308842Z Accuracy@90: 0.9060\n",
            "2024-07-18 14:58:57,605 - INFO - 2024-07-18T14:58:48.848369543Z Accuracy@100: 0.9160\n",
            "2024-07-18 14:58:57,605 - INFO - 2024-07-18T14:58:48.848394764Z Accuracy@200: 0.9640\n",
            "2024-07-18 14:58:57,605 - INFO - 2024-07-18T14:58:48.848443174Z Accuracy@500: 0.9820\n",
            "2024-07-18 14:58:57,605 - INFO - 2024-07-18T14:58:48.848497675Z Accuracy@1000: 0.9920\n",
            "2024-07-18 14:58:57,605 - INFO - 2024-07-18T14:58:48.851976518Z Evaluation Starts\n",
            "2024-07-18 14:58:57,605 - INFO - 2024-07-18T14:58:48.851991699Z Measure ERR\n",
            "100%|██████████| 1000/1000 [00:00<00:00, 1101.72it/s]\n",
            "2024-07-18 14:58:57,605 - INFO - 2024-07-18T14:58:51.098917065Z {'mAP@1000': [0.25182], 'mrr@1000': [0.28572], 'NDCG@10': [0.30076], 'mERR': 0.2417180692721506, 'mRBP7': 0.08949556069806149, 'mRBP8': 0.07389784006765014, 'mRBP9': 0.05054958376233629}\n",
            "2024-07-18 14:58:57,605 - INFO - 2024-07-18T14:58:51.098947465Z    mAP@1000  mrr@1000  NDCG@10      mERR     mRBP7     mRBP8    mRBP9\n",
            "2024-07-18 14:58:57,605 - INFO - 2024-07-18T14:58:51.098949895Z 0   0.25182   0.28572  0.30076  0.241718  0.089496  0.073898  0.05055\n",
            "2024-07-18 14:58:57,611 - INFO - Task executed successfully\n",
            "Finished\n"
          ]
        }
      ],
      "source": [
        "print(\"Evaluating the base model:\")\n",
        "base_model_eval = marqtune_client.evaluate(\n",
        "    dataset_id=eval_dataset.dataset_id,\n",
        "    model=base_model,\n",
        "    checkpoint=base_checkpoint,\n",
        "    model_type=ModelType.OPEN_CLIP,\n",
        "    hyperparameters=eval_params,\n",
        "    wait_for_completion=True,\n",
        ")\n",
        "\n",
        "print(\"Evaluating the tuned model:\")\n",
        "tuned_model_id = tuned_model.model_id\n",
        "tuned_checkpoint = tuned_model.describe()[\"checkpoints\"][-1]\n",
        "tuned_model_eval = marqtune_client.evaluate(\n",
        "    dataset_id=eval_dataset.dataset_id,\n",
        "    model=tuned_model_id,\n",
        "    checkpoint=tuned_checkpoint,\n",
        "    model_type=ModelType.MARQTUNED,\n",
        "    hyperparameters=eval_params,\n",
        "    wait_for_completion=True,\n",
        ")"
      ]
    },
    {
      "cell_type": "code",
      "execution_count": 13,
      "metadata": {
        "colab": {
          "base_uri": "https://localhost:8080/"
        },
        "id": "WerYYEacwYwA",
        "outputId": "59d68c6e-24c4-41d3-8272-726ef2043770"
      },
      "outputs": [
        {
          "name": "stdout",
          "output_type": "stream",
          "text": [
            "Evaluation results from base model:\n",
            "{\n",
            "    \"mAP@1000\": [\n",
            "        0.23614\n",
            "    ],\n",
            "    \"mrr@1000\": [\n",
            "        0.26416\n",
            "    ],\n",
            "    \"NDCG@10\": [\n",
            "        0.27879\n",
            "    ],\n",
            "    \"mERR\": 0.2321309837009569,\n",
            "    \"mRBP7\": 0.08388403333492037,\n",
            "    \"mRBP8\": 0.06776364809797988,\n",
            "    \"mRBP9\": 0.04509028006250037\n",
            "}\n",
            "Evaluation results from tuned model:\n",
            "{\n",
            "    \"mAP@1000\": [\n",
            "        0.25182\n",
            "    ],\n",
            "    \"mrr@1000\": [\n",
            "        0.28572\n",
            "    ],\n",
            "    \"NDCG@10\": [\n",
            "        0.30076\n",
            "    ],\n",
            "    \"mERR\": 0.2417180692721506,\n",
            "    \"mRBP7\": 0.08949556069806149,\n",
            "    \"mRBP8\": 0.07389784006765014,\n",
            "    \"mRBP9\": 0.05054958376233629\n",
            "}\n"
          ]
        }
      ],
      "source": [
        "# convenience function to inspect evaluation logs and extract the results\n",
        "def print_eval_results(description, evaluation):\n",
        "    results = next(\n",
        "        (\n",
        "            json.loads(log[\"message\"][index:].replace(\"'\", '\"'))\n",
        "            for log in evaluation.logs()[-10:]\n",
        "            if (index := log[\"message\"].find(\"{'mAP@1000': \")) != -1\n",
        "        ),\n",
        "        None,\n",
        "    )\n",
        "    print(description)\n",
        "    print(json.dumps(results, indent=4))\n",
        "\n",
        "\n",
        "print_eval_results(\"Evaluation results from base model:\", base_model_eval)\n",
        "print_eval_results(\"Evaluation results from tuned model:\", tuned_model_eval)"
      ]
    },
    {
      "cell_type": "markdown",
      "metadata": {
        "id": "XP5kAtaYU728"
      },
      "source": [
        "Again, we've chosen a minimal set of hyperparameters for the evaluation tasks, and you can read about these in the [Evaluation Parameters documentation](https://docs.marqo.ai/2.10/Marqtune/API/evaluation/evaluation_parameters/).\n",
        "\n",
        "Due to the inherent stochasticity of training and evaluation the results you see will likely be different from our measurements, but you should see improvements similar to the measurements below (higher numbers are better)."
      ]
    },
    {
      "cell_type": "markdown",
      "metadata": {
        "id": "PgDOHEeCU-33"
      },
      "source": [
        "Picking out one of the above metrics: NDCG@10 (Normalized Discounted Cumulative Gain - a measure of the ranking and retrieval quality of the model by comparing top 10 model retrievals with the ground truth) we can see our tuned model performed better than the base model. Similarly, the other metrics also show consistent improvements. Refer to our blog post on [Generalised Contrastive Learning for Multimodal Retrieval and Ranking](https://www.marqo.ai/blog/generalized-contrastive-learning-for-multi-modal-retrieval-and-ranking) for more information as well as an explanation of each of the metrics above."
      ]
    },
    {
      "cell_type": "markdown",
      "metadata": {
        "id": "79NAuN10VngO"
      },
      "source": [
        "### **6. Download and Cleanup**"
      ]
    },
    {
      "cell_type": "markdown",
      "metadata": {
        "id": "Iysh9bsfVuJN"
      },
      "source": [
        "At this point, you can download the model to your local disk:"
      ]
    },
    {
      "cell_type": "code",
      "execution_count": 14,
      "metadata": {
        "colab": {
          "base_uri": "https://localhost:8080/",
          "height": 71
        },
        "id": "UVvCd3UkVwzP",
        "outputId": "be03de72-eadd-4556-8925-2648e9838145"
      },
      "outputs": [
        {
          "name": "stdout",
          "output_type": "stream",
          "text": [
            "Downloading: [██████████████████████████████████████████████████] 100.00%\n",
            "Download completed.\n"
          ]
        },
        {
          "data": {
            "application/vnd.google.colaboratory.intrinsic+json": {
              "type": "string"
            },
            "text/plain": [
              "'b58630ab-f1e5-4909-82a7-9157dc9f1687_latest.pt'"
            ]
          },
          "execution_count": 14,
          "metadata": {},
          "output_type": "execute_result"
        }
      ],
      "source": [
        "tuned_model.download()"
      ]
    },
    {
      "cell_type": "markdown",
      "metadata": {
        "id": "brQaGrhrVwZJ"
      },
      "source": [
        "From here you can choose to [create a Marqo index with this custom model](https://gh-previews.marqo.pages.dev/marqtune_walkthrough/Guides/Models-Reference/bring_your_own_model/#3-use-your-model-in-marqo).\n",
        "\n",
        "Finally, you can choose to (optionally) clean up your generated resources:"
      ]
    },
    {
      "cell_type": "code",
      "execution_count": null,
      "metadata": {
        "id": "2gxhKZ6tV0j9"
      },
      "outputs": [],
      "source": [
        "training_dataset.delete()\n",
        "eval_dataset.delete()\n",
        "tuned_model.delete()\n",
        "base_model_eval.delete()\n",
        "tuned_model_eval.delete()"
      ]
    },
    {
      "cell_type": "markdown",
      "metadata": {
        "id": "0UEsoiCTV3ts"
      },
      "source": [
        "### **Conclusion**"
      ]
    },
    {
      "cell_type": "markdown",
      "metadata": {
        "id": "Hnm0T_V0V6kL"
      },
      "source": [
        "This notebook has guided you through the process of fine-tuning a base open clip model using a multi-modal training dataset with Marqtune. We evaluated the performance of this newly fine-tuned model and found significant improvements when compared to the base model. [Marqtune](https://cloud.marqo.ai/) can be used to fine-tune a variety of different models—try it yourself, today!"
      ]
    },
    {
      "cell_type": "markdown",
      "metadata": {
        "id": "c63eGlW6WBky"
      },
      "source": [
        "### **Code**"
      ]
    },
    {
      "cell_type": "markdown",
      "metadata": {
        "id": "mQlT0elxWD-I"
      },
      "source": [
        "You can find this code on our GitHub [here](https://github.com/marqo-ai/marqtune-examples/)."
      ]
    }
  ],
  "metadata": {
    "colab": {
      "provenance": []
    },
    "kernelspec": {
      "display_name": "Python 3",
      "name": "python3"
    },
    "language_info": {
      "name": "python"
    }
  },
  "nbformat": 4,
  "nbformat_minor": 0
}
